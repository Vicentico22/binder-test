{
 "cells": [
  {
   "cell_type": "markdown",
   "metadata": {},
   "source": [
    "# Java\n",
    "\n",
    "Java is the mother of all JVM languages, first released in 1995 after years of development by Sun Microsystems.  BeakerX uses [OpenJDK](http://openjdk.java.net/) for Java and all the kernels.\n",
    "\n",
    "BeakerX supports Java cells that define classes, which can be used by other JVM based cells.\n",
    "One cell is equivalent to a Java compilation unit and can contain a single class, or a sequence of statements."
   ]
  },
  {
   "cell_type": "code",
   "execution_count": 1,
   "metadata": {},
   "outputs": [
    {
     "data": {
      "application/vnd.jupyter.widget-view+json": {
       "model_id": "",
       "version_major": 2,
       "version_minor": 0
      },
      "method": "display_data"
     },
     "metadata": {},
     "output_type": "display_data"
    },
    {
     "data": {
      "application/vnd.jupyter.widget-view+json": {
       "model_id": "9cbbb3b4-c73a-4ea0-9d85-900fb41e0ea5",
       "version_major": 2,
       "version_minor": 0
      },
      "method": "display_data"
     },
     "metadata": {},
     "output_type": "display_data"
    }
   ],
   "source": [
    "%classpath add mvn org.json json 20180813"
   ]
  },
  {
   "cell_type": "code",
   "execution_count": 3,
   "metadata": {},
   "outputs": [
    {
     "name": "stdout",
     "output_type": "stream",
     "text": [
      "Alice 20\n"
     ]
    },
    {
     "data": {
      "text/plain": [
       "null"
      ]
     },
     "execution_count": 3,
     "metadata": {},
     "output_type": "execute_result"
    }
   ],
   "source": [
    "import org.json.JSONObject;\n",
    "String str = \"{ \\\"name\\\": \\\"Alice\\\", \\\"age\\\": 20 }\";\n",
    "JSONObject obj = new JSONObject(str);\n",
    "String n = obj.getString(\"name\");\n",
    "int a = obj.getInt(\"age\");\n",
    "System.out.println(n + \" \" + a);  // prints \"Alice 20\""
   ]
  },
  {
   "cell_type": "code",
   "execution_count": null,
   "metadata": {},
   "outputs": [],
   "source": [
    "package test.beaker;\n",
    "\n",
    "import java.util.Date;\n",
    "import java.text.SimpleDateFormat;\n",
    "\n",
    "public class BeakerTest {\n",
    "  private Date _date;\n",
    "  private SimpleDateFormat sdf = new SimpleDateFormat(\"yyyy-MM-dd'T'HH:mmZ\");\n",
    "  \n",
    "  public BeakerTest() {\n",
    "    _date = new Date();\n",
    "  }\n",
    "\n",
    "  public String getDateTxt() {\n",
    "    return \"Today:\" + sdf.format(_date);\n",
    "  }\n",
    "\n",
    "  public String getDateUpperCaseTxt() {\n",
    "    return getDateTxt().toUpperCase();\n",
    "  }\n",
    "\n",
    "}\n"
   ]
  },
  {
   "cell_type": "code",
   "execution_count": null,
   "metadata": {},
   "outputs": [],
   "source": [
    "import java.io.FileReader;\n",
    "import java.io.BufferedReader;\n",
    "\n",
    "import java.io.FileNotFoundException;\n",
    "import java.io.IOException;\n",
    "\n",
    "import java.io.InputStreamReader;\n",
    "import java.net.URL;\n",
    "\n",
    "import java.util.Collection;\n",
    "import java.util.List;\n",
    "import java.util.ArrayList;\n",
    "import java.util.Scanner;\n",
    "\n",
    "public class GeoPoint{\n",
    "    private final double latitude;\n",
    "    private final double longitude;\n",
    "    private final List<GeoPoint> neighbors;\n",
    "    public GeoPoint(double latitude, double longitude){\n",
    "        this.latitude= latitude;\n",
    "        this.longitude= longitude;\n",
    "\tneighbors= new ArrayList<GeoPoint>();\n",
    "    }\n",
    "\n",
    "    public double distanceTo(GeoPoint other){\n",
    "        return distanceTo(other.latitude, other.longitude);\n",
    "    }\n",
    "   public double distanceTo(double latitude, double longitude){\n",
    "       double earthRadius= 6371e3;// in meters\n",
    "        double phi1=Math.toRadians(this.latitude);\n",
    "        double phi2=Math.toRadians(latitude);\n",
    "        double deltaPhi=Math.toRadians(latitude- this.latitude);\n",
    "        double deltaLambda= Math.toRadians(longitude- this.longitude);\n",
    "        double a= Math.sin(deltaPhi/2) * Math.sin(deltaPhi/2) +\n",
    "            Math.cos(phi1) * Math.cos(phi2) * Math.sin(deltaLambda/2) * Math.sin(deltaLambda/2);\n",
    "        double c= 2* Math.atan2(Math.sqrt(a), Math.sqrt(1-a));\n",
    "        return earthRadius * c;\n",
    "    }\n",
    "    public String toString(){\n",
    "        return \"GeoPoint: \"+super.toString()+\"{latitude: \"+latitude+\", longitude: \" + longitude+\", nb of neighbors\"+neighbors.size()+\"}\";\n",
    "    }\n",
    "    public static GeoPoint closerTo(double latitude, double longitude, double deltaD, Collection<GeoPoint> points){\n",
    "        GeoPoint res=null;\n",
    "        double minD= Double.POSITIVE_INFINITY;\n",
    "        for(GeoPoint point : points){\n",
    "            double currentD= point.distanceTo(latitude, longitude);\n",
    "            if((currentD < minD) && (currentD > deltaD) ){\n",
    "                minD= currentD;\n",
    "                res= point;\n",
    "            }\n",
    "        }\n",
    "        return res;\n",
    "    }\n",
    "    public static GeoPoint findByName(String name, Collection<GeoPoint> data){\n",
    "\t\n",
    "        for(Ville ville : villes){\n",
    "            if(ville.name.equals(name)){\n",
    "                System.out.println(ville);\n",
    "                return ville;\n",
    "            }\n",
    "        }\n",
    "        return null; // throws ?\n",
    "    }\n",
    "    public static Ville closerTo(String villeName, Collection<Ville> villes){\n",
    "        return closerTo(findByName(villeName, villes), villes);\n",
    "    }\n",
    "    public static Ville closerTo(Ville ref, Collection<Ville> villes){\n",
    "        return closerTo(ref.latitude, ref.longitude, 1.e-50, villes);\n",
    "    }\n",
    "    public static List<Ville> read(String villesURL) throws IOException {\n",
    "        List<Ville> res= new ArrayList<Ville>();\n",
    "        URL url= new URL(villesURL);\n",
    "        try(BufferedReader br = new BufferedReader(new InputStreamReader(url.openStream()))) {\n",
    "            br.readLine(); // skip header\n",
    "            for(String line = br.readLine(); line != null; line= br.readLine()){\n",
    "                String[] data = line.split(\";\");\n",
    "                //System.err.println(line+\":\"+data.length);\n",
    "                if(data.length == 3){\n",
    "                    for(int i=1; i !=3; ++i){\n",
    "                        data[i]= data[i].replace(',','.');\n",
    "                    }\n",
    "                    try{\n",
    "                        res.add(new Ville(data[0], Double.parseDouble(data[1]), Double.parseDouble(data[2])));\n",
    "                    }catch(NumberFormatException e){\n",
    "                        System.err.println(e);\n",
    "                    }\n",
    "                }\n",
    "            }\n",
    "        }\n",
    "        return res;\n",
    "    }\n",
    "    public static void main(String[] args){\n",
    "        try{\n",
    "            String url=\"https://gist.githubusercontent.com/bhugueney/e48ad6459a98715a6db69f59f1ba992f/raw/e06c8ad6bd10e8462aaa9ca6753c1266b8478afc/NameLatLong.txt\";\n",
    "            List<Ville> villes= read(url);\n",
    "            System.out.println(closerTo(48.76,1.36, 1.e-29, villes));\n",
    "            System.out.println(closerTo(\"Dreux\", villes));\n",
    "\n",
    "        }catch(FileNotFoundException e){\n",
    "            System.err.println(e);\n",
    "        }\n",
    "        catch(IOException e){\n",
    "            System.err.println(e);\n",
    "        }\n",
    "    }\n",
    "    \n",
    "}\n"
   ]
  },
  {
   "cell_type": "code",
   "execution_count": null,
   "metadata": {},
   "outputs": [],
   "source": [
    "package test.beaker;\n",
    "\n",
    "BeakerTest bt = new BeakerTest();\n",
    "return bt.getDateTxt();"
   ]
  },
  {
   "cell_type": "code",
   "execution_count": null,
   "metadata": {},
   "outputs": [],
   "source": [
    "import java.util.List;\n",
    "import java.util.ArrayList;\n",
    "import com.twosigma.beakerx.chart.xychart.Plot;\n",
    "import com.twosigma.beakerx.chart.xychart.plotitem.*;\n",
    "import com.twosigma.beakerx.chart.Color;\n",
    "\n",
    "Plot p = new Plot();\n",
    "\n",
    "p.setTitle(\"this is a Java plot\");\n",
    "\n",
    "Bars b = new Bars();\n",
    "\n",
    "List<Number> yList = new ArrayList<Number>();\n",
    "yList.add(2);\n",
    "yList.add(5);\n",
    "yList.add(4);\n",
    "yList.add(8);\n",
    "\n",
    "b.setY(yList);\n",
    "b.setColor(Color.blue);\n",
    "b.setWidth(0.5);\n",
    "\n",
    "p.add(b);\n",
    "  \n",
    "return p;"
   ]
  },
  {
   "cell_type": "code",
   "execution_count": null,
   "metadata": {},
   "outputs": [],
   "source": [
    "package test.beaker;\n",
    "interface DateGetter {\n",
    "   public String getDateTxt();\n",
    "}"
   ]
  },
  {
   "cell_type": "code",
   "execution_count": null,
   "metadata": {},
   "outputs": [],
   "source": [
    "package test.beaker;\n",
    "public class DG2 extends BeakerTest implements DateGetter {\n",
    "}"
   ]
  },
  {
   "cell_type": "markdown",
   "metadata": {},
   "source": [
    "## Using the classpath to load a jar"
   ]
  },
  {
   "cell_type": "code",
   "execution_count": null,
   "metadata": {},
   "outputs": [],
   "source": [
    "%classpath add jar ../resources/jar/BeakerXClasspathTest.jar"
   ]
  },
  {
   "cell_type": "code",
   "execution_count": null,
   "metadata": {},
   "outputs": [],
   "source": [
    "System.out.println(\"The Groovy working folder is :\");\n",
    "System.out.println(java.nio.file.Paths.get(\".\").toAbsolutePath().normalize().toString());\n",
    "System.out.println(\"BeakerXClasspathTest.jar exists in this folder\");"
   ]
  },
  {
   "cell_type": "code",
   "execution_count": null,
   "metadata": {},
   "outputs": [],
   "source": [
    "import com.beaker.BeakerXClasspathTest;\n",
    "\n",
    "BeakerXClasspathTest t = new BeakerXClasspathTest();\n",
    "System.out.println(com.beaker.BeakerXClasspathTest.staticTest);\n",
    "System.out.println(t.getObjectTest());"
   ]
  }
 ],
 "metadata": {
  "beakerx_kernel_parameters": {},
  "kernelspec": {
   "display_name": "Java",
   "language": "java",
   "name": "java"
  },
  "language_info": {
   "codemirror_mode": "text/x-java",
   "file_extension": ".java",
   "mimetype": "",
   "name": "Java",
   "nbconverter_exporter": "",
   "version": "1.8.0_121"
  },
  "toc": {
   "base_numbering": 1,
   "nav_menu": {},
   "number_sections": false,
   "sideBar": false,
   "skip_h1_title": false,
   "title_cell": "Table of Contents",
   "title_sidebar": "Contents",
   "toc_cell": false,
   "toc_position": {},
   "toc_section_display": false,
   "toc_window_display": false
  }
 },
 "nbformat": 4,
 "nbformat_minor": 2
}
