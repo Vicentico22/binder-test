{
 "cells": [
  {
   "cell_type": "markdown",
   "metadata": {},
   "source": [
    "# bitmap drawing with a turtle in clojure\n",
    "\n"
   ]
  },
  {
   "cell_type": "code",
   "execution_count": 10,
   "metadata": {
    "init_cell": true
   },
   "outputs": [
    {
     "data": {
      "text/plain": [
       "class javax.imageio.ImageIO"
      ]
     },
     "execution_count": 10,
     "metadata": {},
     "output_type": "execute_result"
    }
   ],
   "source": [
    "\n",
    "(import '(javax.swing JFrame JLabel))\n",
    "(import java.awt.image.BufferedImage)\n",
    "(import '(java.awt Dimension Color))\n",
    "(import java.io.File)\n",
    "(import javax.imageio.ImageIO)"
   ]
  },
  {
   "cell_type": "code",
   "execution_count": 11,
   "metadata": {},
   "outputs": [
    {
     "data": {
      "text/plain": [
       "#'beaker_clojure_shell_f2c4961b-f480-42a2-a8f1-ab063bc43cd4/write"
      ]
     },
     "execution_count": 11,
     "metadata": {},
     "output_type": "execute_result"
    }
   ],
   "source": [
    "(def deg (/ (Math/PI) 180))\n",
    "\n",
    "(defn turtle [width height]\n",
    "  (let [image  (BufferedImage. width height BufferedImage/TYPE_INT_RGB)]\n",
    "    (ref {:width width :height height :image image \n",
    "\t  :drawing true :point [0 0] :angle 0 :color Color/white})))\n",
    "\n",
    "(defn pen-up? \n",
    "  \"Is the pen up?\"\n",
    "  [turtle]\n",
    "  (not (:drawing @turtle)))\n",
    "\n",
    "(defn pen-up \n",
    "  \"Disable Drawing.\"\n",
    "  [turtle]\n",
    "  (dosync (alter turtle merge {:drawing false})))\n",
    "\n",
    "(defn pen-down \n",
    "  \"Enable Drawing.\"\n",
    "  [turtle]\n",
    "  (dosync (alter turtle merge {:drawing true})))\n",
    "\n",
    "(defn pen-color \n",
    "  \"Set pen color\"\n",
    "  [turtle color]\n",
    "  (dosync (alter turtle merge {:color color})))\n",
    "\n",
    "(defn right \n",
    "  \"Turn right through the angle <degrees>.\"\n",
    "  [turtle degrees]\n",
    "  (let [angle (:angle @turtle)\n",
    "\theading (mod (+ angle degrees) 360)]\n",
    "    (dosync (alter turtle merge {:angle heading}))))\n",
    "\n",
    "(defn left \n",
    "  \"Turn left through the angle <degrees>.\"\n",
    "  [turtle degrees]\n",
    "  (right turtle (- degrees)))\n",
    "\n",
    "(defn- draw-line [turtle p1 p2]\n",
    "  (doto (.getGraphics (:image @turtle))\n",
    "    (.translate (/ (:width @turtle) 2) (/ (:width @turtle) 2))\n",
    "    (.scale 1.0 -1.0)\n",
    "    (.setColor (:color @turtle))\n",
    "    (.drawLine (first p1) (second p1) (first p2) (second p2))))\n",
    "\n",
    "(defn forward \n",
    "  \"Move forward by <steps> turtle steps.\"\n",
    "  [turtle steps]\n",
    "  (let [p1 (:point @turtle)\n",
    "\tangle  (:angle @turtle)\n",
    "\tp2 [(+ (first p1) (* (Math/sin (* angle deg)) steps))\n",
    "\t    (+ (second p1) (* (Math/cos (* angle deg)) steps))] ]\n",
    "    (if (true? (:drawing @turtle)) (draw-line turtle p1 p2))\n",
    "    (dosync (alter turtle merge {:point p2}))))\n",
    "\n",
    "(defn back\n",
    "  \"Move backward by <steps> turtle steps.\"\n",
    "  [turtle steps]\n",
    "  (forward turtle (- steps)))\n",
    "\n",
    "(defn go \n",
    "  \"Move to the given point.\"\n",
    "  [turtle x y]\n",
    "  (let [p1 (:point @turtle) p2 [x y]]\n",
    "    (if (true? (:drawing @turtle)) (draw-line turtle p1 p2))\n",
    "    (dosync (alter turtle merge {:point p2}))))\n",
    "\n",
    "(defn toward \n",
    "  \"Turn to face the given point.\"\n",
    "  [turtle x y]\n",
    "  (let [p (:point @turtle)\n",
    "\tpolar (Math/atan2 (- (first p) x) (- (second p) y))\n",
    "\tangle (mod (/ polar deg) 360)]\n",
    "    (dosync (alter turtle merge {:angle angle}))))\n",
    "\n",
    "(defn distance \n",
    "  \"Return the distance between the turtle and the given point.\"\n",
    "  [turtle x y]\n",
    "  (let [p (:point @turtle)]\n",
    "    (Math/sqrt (+ (Math/pow (- (first p) x) 2)\n",
    "\t\t  (Math/pow (- (second p) y) 2)))))\n",
    "\n",
    "(defn show [turtle]\n",
    "  (doto (JFrame.)\n",
    "    (.add (proxy [JLabel] [] \n",
    "\t    (paint [g] (.drawImage g (:image @turtle) 0 0 this))))\n",
    "    (.setSize (Dimension. (:width @turtle) (:height @turtle)))\n",
    "    (.show)))\n",
    "\n",
    "(defn write [turtle fname]\n",
    "  (ImageIO/write (:image @turtle) \"png\" (File. fname)))"
   ]
  },
  {
   "cell_type": "code",
   "execution_count": 12,
   "metadata": {},
   "outputs": [
    {
     "data": {
      "text/plain": [
       "#'beaker_clojure_shell_f2c4961b-f480-42a2-a8f1-ab063bc43cd4/t"
      ]
     },
     "execution_count": 12,
     "metadata": {},
     "output_type": "execute_result"
    }
   ],
   "source": [
    "(def t (turtle 100 100))"
   ]
  },
  {
   "cell_type": "code",
   "execution_count": 13,
   "metadata": {},
   "outputs": [
    {
     "data": {
      "image/png": "[encoded data removed]"
     },
     "execution_count": 13,
     "metadata": {},
     "output_type": "execute_result"
    }
   ],
   "source": [
    "(pen-down t)\n",
    "(go t 50 50)\n",
    "(:image @t)"
   ]
  },
  {
   "cell_type": "markdown",
   "metadata": {},
   "source": [
    "## TODO use EasyForm "
   ]
  },
  {
   "cell_type": "code",
   "execution_count": 14,
   "metadata": {},
   "outputs": [
    {
     "data": {
      "application/vnd.jupyter.widget-view+json": {
       "model_id": "e8ccad96-53b1-4276-84e0-da7c0bfc7edf",
       "version_major": 2,
       "version_minor": 0
      },
      "method": "display_data"
     },
     "metadata": {},
     "output_type": "display_data"
    }
   ],
   "source": [
    "(def form (doto (com.twosigma.beakerx.easyform.EasyForm. \"Test Form\")\n",
    "                (.addTextField \"Name\")\n",
    "                (.addButton \"Reverse\" \"reverse\")))\n",
    "form"
   ]
  },
  {
   "cell_type": "code",
   "execution_count": 15,
   "metadata": {
    "tags": [
     "reverse"
    ]
   },
   "outputs": [
    {
     "data": {
      "text/plain": [
       "[]"
      ]
     },
     "execution_count": 15,
     "metadata": {},
     "output_type": "execute_result"
    }
   ],
   "source": [
    "(reverse (get form \"Name\"))"
   ]
  },
  {
   "cell_type": "markdown",
   "metadata": {
    "collapsed": true
   },
   "source": [
    "## TODO use slider for arg values"
   ]
  },
  {
   "cell_type": "code",
   "execution_count": 16,
   "metadata": {},
   "outputs": [],
   "source": [
    "%import com.twosigma.beakerx.widget.IntSlider"
   ]
  },
  {
   "cell_type": "code",
   "execution_count": 17,
   "metadata": {},
   "outputs": [
    {
     "data": {
      "application/vnd.jupyter.widget-view+json": {
       "model_id": "542117c4-d396-4084-bc7f-0beef78e07a4",
       "version_major": 2,
       "version_minor": 0
      },
      "method": "display_data"
     },
     "metadata": {},
     "output_type": "display_data"
    }
   ],
   "source": [
    "(new IntSlider)"
   ]
  },
  {
   "cell_type": "code",
   "execution_count": null,
   "metadata": {},
   "outputs": [],
   "source": []
  }
 ],
 "metadata": {
  "beakerx_kernel_parameters": {},
  "kernelspec": {
   "display_name": "Clojure",
   "language": "clojure",
   "name": "clojure"
  },
  "language_info": {
   "codemirror_mode": "Clojure",
   "file_extension": ".clj",
   "mimetype": "text/x-clojure",
   "name": "Clojure",
   "nbconverter_exporter": "",
   "version": "1.9.0"
  },
  "toc": {
   "base_numbering": 1,
   "nav_menu": {},
   "number_sections": false,
   "sideBar": false,
   "skip_h1_title": false,
   "title_cell": "Table of Contents",
   "title_sidebar": "Contents",
   "toc_cell": false,
   "toc_position": {},
   "toc_section_display": false,
   "toc_window_display": false
  }
 },
 "nbformat": 4,
 "nbformat_minor": 2
}
