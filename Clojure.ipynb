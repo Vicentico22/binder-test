{
 "cells": [
  {
   "cell_type": "markdown",
   "metadata": {},
   "source": [
    "# Implementing a toy language : interpreter and compiler\n",
    "\n"
   ]
  },
  {
   "cell_type": "markdown",
   "metadata": {},
   "source": [
    "In order to decompose the interpreter and compiler building process as much as\n",
    "possible, we will decompose our task into a number of \"languages\" with increasing capabilities :\n",
    "1. **const** : only one numerical constant (of integral type).\n",
    "2. **addsub** : additions and subtraction.\n",
    "3. **addmult** : additions, subtractions, multiplications and division, with priorities\n",
    "4. **arith** : same as *addmult*, with parenthesis.\n",
    "5. **lang0** : any number of expressions that can be either arithmetic expressions for the *arith* language or assignment of the result of such an expression into a variable. Expressions can also use variables. The code returns the value of the last expression.\n",
    "6. **lang1** : same as *lang0* with arguments written as `%0`, `%1`,…\n",
    "\n",
    "For each of these languages we will provide two execution models :\n",
    "1. /interpretation/ : the code is turned into a function that evaluates the AST when called.\n",
    "2. /compilation/ : the code is turned into a function that calls a static method from a dynamically compiled class.\n"
   ]
  },
  {
   "cell_type": "markdown",
   "metadata": {},
   "source": [
    "First getting the dependencies from maven (might take some time, so one has to wait until the final output before going further)."
   ]
  },
  {
   "cell_type": "code",
   "execution_count": 1,
   "metadata": {},
   "outputs": [
    {
     "data": {
      "application/vnd.jupyter.widget-view+json": {
       "model_id": "",
       "version_major": 2,
       "version_minor": 0
      },
      "method": "display_data"
     },
     "metadata": {},
     "output_type": "display_data"
    },
    {
     "data": {
      "application/vnd.jupyter.widget-view+json": {
       "model_id": "a45a5667-ef2c-4557-9f47-5b84dbb37221",
       "version_major": 2,
       "version_minor": 0
      },
      "method": "display_data"
     },
     "metadata": {},
     "output_type": "display_data"
    },
    {
     "data": {
      "application/vnd.jupyter.widget-view+json": {
       "model_id": "",
       "version_major": 2,
       "version_minor": 0
      },
      "method": "display_data"
     },
     "metadata": {},
     "output_type": "display_data"
    },
    {
     "data": {
      "application/vnd.jupyter.widget-view+json": {
       "model_id": "51c8a451-b771-4a17-8242-7c08f64eb6d1",
       "version_major": 2,
       "version_minor": 0
      },
      "method": "display_data"
     },
     "metadata": {},
     "output_type": "display_data"
    },
    {
     "data": {
      "text/plain": [
       "null"
      ]
     },
     "execution_count": 1,
     "metadata": {},
     "output_type": "execute_result"
    }
   ],
   "source": [
    "%classpath add mvn rhizome rhizome 0.2.9\n",
    "%classpath add mvn instaparse instaparse 1.4.9\n",
    ";; with leiningen one would have a project.clj with\n",
    ";;\n",
    ";;(defproject languages \"0.1.0-SNAPSHOT\"\n",
    ";;  :description \"FIXME: write description\"\n",
    ";;  :url \"http://example.com/FIXME\"\n",
    ";;  :license {:name \"Eclipse Public License\"\n",
    ";;            :url \"http://www.eclipse.org/legal/epl-v10.html\"}\n",
    ";;  :dependencies [[org.clojure/clojure \"1.8.0\"]\n",
    ";;                 [instaparse \"1.4.9\"]\n",
    ";;                 [rhizome \"0.2.9\"]])\n"
   ]
  },
  {
   "cell_type": "code",
   "execution_count": null,
   "metadata": {},
   "outputs": [],
   "source": [
    "\n"
   ]
  },
  {
   "cell_type": "markdown",
   "metadata": {},
   "source": [
    "## **Const** language\n",
    "\n",
    "If we only ever wanted to parse integers, of course we would just use `Integer.pasreInt()` or actually `Long.parseLong()`. However, as this is just a stepping stone to more interesting languages, we will use the same infrastructure of parsing and then interpreting or compiling.\n"
   ]
  },
  {
   "cell_type": "markdown",
   "metadata": {},
   "source": [
    "### Parser\n",
    "When represented as a string of characters, integers are a string of one or more digits possibly prefixed by a minus sign for negative numbers.\n",
    "\n",
    "One could write the following parsing rule using only literal terminals :\n",
    "`number= '-'? ('0'|'1'|'2'|'3'|'4'|'5'|'6'|'7'|'8'|'9')+`\n",
    "\n",
    "Note that this will accept leading zeros while we could also want to forbid them.\n",
    "Parsing the string `\"-123\"` would give the following result :`[:number \"-\" \"1\" \"2\" \"3\"]`\n",
    "So it would be up to the AST processing step to collate those strings before turning them into a number.\n",
    "\n",
    "In order to speed both the parsing and the processing of our numbers, we can /tokenize/ them with a regular expression instead :\n",
    "`NUMBER= #'-?[0-9]+'`\n",
    "In Clojure, we can build the parser using the instaparse library :"
   ]
  },
  {
   "cell_type": "code",
   "execution_count": 2,
   "metadata": {},
   "outputs": [
    {
     "name": "stdout",
     "output_type": "stream",
     "text": [
      "[:PROG [:NUMBER \"-123\"]]\n"
     ]
    },
    {
     "data": {
      "text/plain": [
       "null"
      ]
     },
     "execution_count": 2,
     "metadata": {},
     "output_type": "execute_result"
    }
   ],
   "source": [
    "(use 'instaparse.core)\n",
    "(def const-parser\n",
    "  (instaparse.core/parser\n",
    "   \"PROG= NUMBER\n",
    "    NUMBER= #'-?[0-9]+'\"))\n",
    "    \n",
    "(prn (const-parser \"-123\"))"
   ]
  },
  {
   "cell_type": "code",
   "execution_count": 3,
   "metadata": {
    "scrolled": true
   },
   "outputs": [
    {
     "data": {
      "image/png": "[encoded data removed]"
     },
     "execution_count": 3,
     "metadata": {},
     "output_type": "execute_result"
    }
   ],
   "source": [
    "(System/setProperty \"java.awt.headless\" \"true\");; required for the notebook\n",
    "(use 'rhizome.viz)\n",
    "(instaparse.core/visualize (const-parser \"-256\") :output-file :buffered-image )"
   ]
  },
  {
   "cell_type": "markdown",
   "metadata": {},
   "source": [
    "But this minimal parser fails to parse strings that we would want to consider valid :"
   ]
  },
  {
   "cell_type": "code",
   "execution_count": 5,
   "metadata": {},
   "outputs": [
    {
     "name": "stdout",
     "output_type": "stream",
     "text": [
      "Parse error at line 1, column 1:\n",
      "    -123456    \n",
      "^\n",
      "Expected:\n",
      "#\"-?[0-9]+\" (followed by end-of-string)\n",
      "\n"
     ]
    },
    {
     "data": {
      "text/plain": [
       "null"
      ]
     },
     "execution_count": 5,
     "metadata": {},
     "output_type": "execute_result"
    }
   ],
   "source": [
    "(prn (const-parser \"    -123456    \"))"
   ]
  },
  {
   "cell_type": "markdown",
   "metadata": {},
   "source": [
    "As we want to handle spaces before and after the number, we have to modify the grammar accordingly. For efficiency reasons, we also handle the plurality of consecutive spaces at the lexing stage with a regular expression :"
   ]
  },
  {
   "cell_type": "code",
   "execution_count": 13,
   "metadata": {},
   "outputs": [
    {
     "data": {
      "image/png": "[encoded data removed]"
     },
     "execution_count": 13,
     "metadata": {},
     "output_type": "execute_result"
    }
   ],
   "source": [
    "(def const-parser\n",
    "  (instaparse.core/parser\n",
    "   \"prog= spaces number spaces\n",
    "    number=#'-?[0-9]+'\n",
    "    <spaces> = <#'[ ]'*>\"))\n",
    "    \n",
    "(instaparse.core/visualize (const-parser \"    -123456    \") :output-file :buffered-image )"
   ]
  },
  {
   "cell_type": "markdown",
   "metadata": {},
   "source": [
    "Exercice : What if we remove the angle brackets in the grammar rules ?"
   ]
  },
  {
   "cell_type": "markdown",
   "metadata": {},
   "source": [
    "## **const** interpreter\n",
    "\n",
    "The simplest interpreter would be something like :"
   ]
  },
  {
   "cell_type": "code",
   "execution_count": 10,
   "metadata": {},
   "outputs": [
    {
     "data": {
      "text/plain": [
       "#'beaker_clojure_shell_ddbffbe4-4ba9-43f7-9f75-f9843886e374/const-interpreter"
      ]
     },
     "execution_count": 10,
     "metadata": {},
     "output_type": "execute_result"
    }
   ],
   "source": [
    " (defn const-interpreter [ast]\n",
    "   (instaparse.core/transform {:number #(Long/parseLong %)} ast))"
   ]
  },
  {
   "cell_type": "code",
   "execution_count": 14,
   "metadata": {},
   "outputs": [
    {
     "name": "stdout",
     "output_type": "stream",
     "text": [
      "[:prog -123]\n"
     ]
    },
    {
     "data": {
      "text/plain": [
       "null"
      ]
     },
     "execution_count": 14,
     "metadata": {},
     "output_type": "execute_result"
    }
   ],
   "source": [
    " (prn (-> \"-123\" const-parser const-interpreter))"
   ]
  },
  {
   "cell_type": "markdown",
   "metadata": {},
   "source": [
    "However, as we will want reuse code between the various languages, we will\n",
    "separate the language specific transform map and a generic function to turn an\n",
    "AST into a clojure function.\n",
    "\n",
    "The generic function taking a transform map and returning the function turning an\n",
    "AST into a clojure function : "
   ]
  },
  {
   "cell_type": "code",
   "execution_count": 16,
   "metadata": {},
   "outputs": [
    {
     "data": {
      "text/plain": [
       "#'beaker_clojure_shell_ddbffbe4-4ba9-43f7-9f75-f9843886e374/dynamic-eval"
      ]
     },
     "execution_count": 16,
     "metadata": {},
     "output_type": "execute_result"
    }
   ],
   "source": [
    "(defn dynamic-eval [interpreter]\n",
    "    (fn[ast]\n",
    "      (fn[]\n",
    "        (instaparse.core/transform interpreter ast))))"
   ]
  },
  {
   "cell_type": "markdown",
   "metadata": {},
   "source": [
    "We can use this function for our **const** language to create a `const-eval`\n",
    "function that will turn an AST into a clojure function:"
   ]
  },
  {
   "cell_type": "code",
   "execution_count": 17,
   "metadata": {},
   "outputs": [
    {
     "data": {
      "text/plain": [
       "#'beaker_clojure_shell_ddbffbe4-4ba9-43f7-9f75-f9843886e374/const-eval"
      ]
     },
     "execution_count": 17,
     "metadata": {},
     "output_type": "execute_result"
    }
   ],
   "source": [
    "(def const-interpreting\n",
    "  {:prog identity\n",
    "   :number #(Long/parseLong %)})\n",
    "(def const-eval (dynamic-eval const-interpreting))"
   ]
  },
  {
   "cell_type": "markdown",
   "metadata": {},
   "source": [
    "This function can be called on the result of parsing a string :"
   ]
  },
  {
   "cell_type": "code",
   "execution_count": 18,
   "metadata": {},
   "outputs": [
    {
     "data": {
      "text/plain": [
       "#'beaker_clojure_shell_ddbffbe4-4ba9-43f7-9f75-f9843886e374/const-eval-test"
      ]
     },
     "execution_count": 18,
     "metadata": {},
     "output_type": "execute_result"
    }
   ],
   "source": [
    "(def const-eval-test (-> \"-123 \" const-parser const-eval))"
   ]
  },
  {
   "cell_type": "markdown",
   "metadata": {},
   "source": [
    "The result can then be called like any other clojure function :"
   ]
  },
  {
   "cell_type": "code",
   "execution_count": 19,
   "metadata": {},
   "outputs": [
    {
     "data": {
      "text/plain": [
       "-123"
      ]
     },
     "execution_count": 19,
     "metadata": {},
     "output_type": "execute_result"
    }
   ],
   "source": [
    "(const-eval-test)"
   ]
  },
  {
   "cell_type": "markdown",
   "metadata": {},
   "source": [
    "## const compiler\n",
    "The compiler will be implemented in two steps :\n",
    "- turning the AST into a sequence of vectors. Each vector representing a\n",
    "  bytecode instruction and the parameters, if any, of the instruction.\n",
    "- generating a class with a static method implementing the bytecodes sequence\n",
    "  , dynamically loading this class and returning a clojure function calling the static method of the generated\n",
    "  class.\n"
   ]
  },
  {
   "cell_type": "markdown",
   "metadata": {},
   "source": [
    "###  Generating the instructions sequence\n",
    "As we will be processing an AST, we can do this with a transform map :"
   ]
  },
  {
   "cell_type": "code",
   "execution_count": 20,
   "metadata": {},
   "outputs": [
    {
     "data": {
      "text/plain": [
       "#'beaker_clojure_shell_ddbffbe4-4ba9-43f7-9f75-f9843886e374/const-compiling"
      ]
     },
     "execution_count": 20,
     "metadata": {},
     "output_type": "execute_result"
    }
   ],
   "source": [
    "(def const-compiling\n",
    "  {:prog (fn[& instrs](conj (reduce into [[:loadi 0]] instrs)[:reti]))\n",
    "   :number #(vector [:loadi (Long/parseLong %)])})"
   ]
  },
  {
   "cell_type": "code",
   "execution_count": null,
   "metadata": {},
   "outputs": [],
   "source": []
  },
  {
   "cell_type": "code",
   "execution_count": 3,
   "metadata": {
    "scrolled": true
   },
   "outputs": [
    {
     "name": "stdout",
     "output_type": "stream",
     "text": [
      "S = AB*\n",
      "AB = A B\n",
      "A = \"a\"+\n",
      "B = \"b\"+\n",
      "\n"
     ]
    },
    {
     "data": {
      "text/plain": [
       "null"
      ]
     },
     "execution_count": 3,
     "metadata": {},
     "output_type": "execute_result"
    }
   ],
   "source": [
    "(prn as-and-bs);; prn is mandatory to get a display in the notebook"
   ]
  },
  {
   "cell_type": "code",
   "execution_count": 22,
   "metadata": {},
   "outputs": [
    {
     "name": "stdout",
     "output_type": "stream",
     "text": [
      "{:exit 0, :out \"\", :err \"dot - graphviz version 2.38.0 (20140413.2041)\\n\"}\n"
     ]
    },
    {
     "data": {
      "text/plain": [
       "null"
      ]
     },
     "execution_count": 22,
     "metadata": {},
     "output_type": "execute_result"
    }
   ],
   "source": [
    "(use '[clojure.java.shell :only [sh]]) ;; checking graphviz is installed and useable\n",
    "(prn (sh \"dot\" \"-V\"))"
   ]
  },
  {
   "cell_type": "code",
   "execution_count": 23,
   "metadata": {
    "scrolled": true
   },
   "outputs": [
    {
     "data": {
      "text/plain": [
       "null"
      ]
     },
     "execution_count": 23,
     "metadata": {},
     "output_type": "execute_result"
    }
   ],
   "source": [
    "(use 'rhizome.dot);; this works"
   ]
  },
  {
   "cell_type": "code",
   "execution_count": 24,
   "metadata": {
    "scrolled": true
   },
   "outputs": [
    {
     "ename": "java.lang.Exception",
     "evalue": " namespace 'rhizome.viz' not found",
     "output_type": "error",
     "traceback": [
      "\u001b[1;31mjava.lang.Exception: namespace 'rhizome.viz' not found\u001b[0;0m",
      "\u001b[1;31m\tat clojure.core$apply.invokeStatic(core.clj:659)\u001b[0;0m",
      "\u001b[1;31m\tat clojure.core$load_libs.invokeStatic(core.clj:5925)\u001b[0;0m",
      "\u001b[1;31m\tat clojure.core$load_libs.doInvoke(core.clj:5909)\u001b[0;0m",
      "\u001b[1;31m\tat clojure.lang.RestFn.applyTo(RestFn.java:137)\u001b[0;0m",
      "\u001b[1;31m\tat clojure.core$apply.invokeStatic(core.clj:661)\u001b[0;0m",
      "\u001b[1;31m\tat clojure.core$use.invokeStatic(core.clj:6013)\u001b[0;0m",
      "\u001b[1;31m\tat clojure.core$use.doInvoke(core.clj:6013)\u001b[0;0m",
      "\u001b[1;31m\tat clojure.lang.RestFn.invoke(RestFn.java:408)\u001b[0;0m",
      "\u001b[1;31m\tat beaker_clojure_shell_99f99dce_2729_4aaf_a941_eef501980b70$eval1607.invokeStatic(Unknown Source)\u001b[0;0m",
      "\u001b[1;31m\tat beaker_clojure_shell_99f99dce_2729_4aaf_a941_eef501980b70$eval1607.invoke(Unknown Source)\u001b[0;0m",
      "\u001b[1;31m\tat clojure.lang.Compiler.eval(Compiler.java:7062)\u001b[0;0m",
      "\u001b[1;31m\tat clojure.lang.Compiler.load(Compiler.java:7514)\u001b[0;0m",
      "\u001b[1;31m\tat clojure.lang.Compiler.load(Compiler.java:7461)\u001b[0;0m",
      "\u001b[1;31m\tat clojure.core$load_reader.invokeStatic(core.clj:4053)\u001b[0;0m",
      "\u001b[1;31m\tat clojure.core$load_string.invokeStatic(core.clj:4055)\u001b[0;0m",
      "\u001b[1;31m\tat clojure.core$load_string.invoke(core.clj:4055)\u001b[0;0m",
      "\u001b[1;31m\tat beaker_clojure_shell_99f99dce_2729_4aaf_a941_eef501980b70$run_str_99f99dce_2729_4aaf_a941_eef501980b70.invokeStatic(Unknown Source)\u001b[0;0m",
      "\u001b[1;31m\tat beaker_clojure_shell_99f99dce_2729_4aaf_a941_eef501980b70$run_str_99f99dce_2729_4aaf_a941_eef501980b70.invoke(Unknown Source)\u001b[0;0m",
      "\u001b[1;31m\tat clojure.lang.Var.invoke(Var.java:381)\u001b[0;0m",
      "\u001b[0;31m\tat com.twosigma.beakerx.clojure.evaluator.ClojureEvaluator.runCode(ClojureEvaluator.java:164)\u001b[0;0m",
      "\u001b[0;31m\tat com.twosigma.beakerx.clojure.evaluator.ClojureCodeRunner.call(ClojureCodeRunner.java:47)\u001b[0;0m",
      "\u001b[0;31m\tat com.twosigma.beakerx.clojure.evaluator.ClojureCodeRunner.call(ClojureCodeRunner.java:28)\u001b[0;0m",
      "\u001b[0;31m\tat java.util.concurrent.FutureTask.run(FutureTask.java:266)\u001b[0;0m",
      "\u001b[0;31m\tat java.util.concurrent.ThreadPoolExecutor.runWorker(ThreadPoolExecutor.java:1142)\u001b[0;0m",
      "\u001b[0;31m\tat java.util.concurrent.ThreadPoolExecutor$Worker.run(ThreadPoolExecutor.java:617)\u001b[0;0m",
      "\u001b[0;31m\tat java.lang.Thread.run(Thread.java:745)\u001b[0;0m"
     ]
    }
   ],
   "source": [
    "(System/setProperty \"java.awt.headless\" \"true\");; required for the notebook\n",
    "(use 'rhizome.viz)"
   ]
  },
  {
   "cell_type": "code",
   "execution_count": 8,
   "metadata": {
    "scrolled": true
   },
   "outputs": [
    {
     "data": {
      "image/png": "[encoded data removed]"
     },
     "execution_count": 8,
     "metadata": {},
     "output_type": "execute_result"
    }
   ],
   "source": [
    "(instaparse.core/visualize (as-and-bs \"aaabbab\") :output-file :buffered-image )"
   ]
  },
  {
   "cell_type": "markdown",
   "metadata": {},
   "source": [
    "## EasyForm"
   ]
  },
  {
   "cell_type": "code",
   "execution_count": 15,
   "metadata": {},
   "outputs": [
    {
     "data": {
      "application/vnd.jupyter.widget-view+json": {
       "model_id": "943e0f47-5cdd-4f9d-aeb2-214118a24b5a",
       "version_major": 2,
       "version_minor": 0
      },
      "method": "display_data"
     },
     "metadata": {},
     "output_type": "display_data"
    }
   ],
   "source": [
    "(def form (doto (com.twosigma.beakerx.easyform.EasyForm. \"Test Form\")\n",
    "                (.addTextField \"Name\")\n",
    "                (.addButton \"Reverse\" \"reverse\")))\n",
    "form"
   ]
  },
  {
   "cell_type": "code",
   "execution_count": 16,
   "metadata": {
    "tags": [
     "reverse"
    ]
   },
   "outputs": [
    {
     "data": {
      "text/plain": [
       "[l, l, i, r, d,  , a,  , s, i,  , s, i, h, T]"
      ]
     },
     "execution_count": 16,
     "metadata": {},
     "output_type": "execute_result"
    }
   ],
   "source": [
    "(reverse (get form \"Name\"))"
   ]
  },
  {
   "cell_type": "markdown",
   "metadata": {
    "collapsed": true
   },
   "source": [
    "## Import magic command"
   ]
  },
  {
   "cell_type": "code",
   "execution_count": 23,
   "metadata": {},
   "outputs": [],
   "source": [
    "%import clojure.asm.Opcodes\n",
    "%import clojure.asm.Type\n",
    "%import clojure.asm.ClassWriter\n",
    "\n",
    "%import clojure.asm.commons.Method\n",
    "%import clojure.asm.commons.GeneratorAdapter"
   ]
  },
  {
   "cell_type": "code",
   "execution_count": null,
   "metadata": {},
   "outputs": [],
   "source": []
  },
  {
   "cell_type": "code",
   "execution_count": 25,
   "metadata": {},
   "outputs": [],
   "source": [
    "%import com.twosigma.beakerx.widget.IntSlider"
   ]
  },
  {
   "cell_type": "code",
   "execution_count": 26,
   "metadata": {},
   "outputs": [
    {
     "data": {
      "application/vnd.jupyter.widget-view+json": {
       "model_id": "dc80a5c6-d31a-4ca5-a8d2-71f70597c8af",
       "version_major": 2,
       "version_minor": 0
      },
      "method": "display_data"
     },
     "metadata": {},
     "output_type": "display_data"
    }
   ],
   "source": [
    "(new IntSlider)"
   ]
  }
 ],
 "metadata": {
  "beakerx_kernel_parameters": {},
  "kernelspec": {
   "display_name": "Clojure",
   "language": "clojure",
   "name": "clojure"
  },
  "language_info": {
   "codemirror_mode": "Clojure",
   "file_extension": ".clj",
   "mimetype": "text/x-clojure",
   "name": "Clojure",
   "nbconverter_exporter": "",
   "version": "1.9.0"
  },
  "toc": {
   "base_numbering": 1,
   "nav_menu": {},
   "number_sections": false,
   "sideBar": false,
   "skip_h1_title": false,
   "title_cell": "Table of Contents",
   "title_sidebar": "Contents",
   "toc_cell": false,
   "toc_position": {},
   "toc_section_display": false,
   "toc_window_display": false
  }
 },
 "nbformat": 4,
 "nbformat_minor": 2
}
