{
 "cells": [
  {
   "cell_type": "markdown",
   "metadata": {},
   "source": [
    "# Clojure\n",
    "\n",
    "[Clojure](http://clojure.org/) is a dialect of Lisp that runs in the JVM.\n",
    "It shares with Lisp the code-as-data philosophy and a powerful macro system.\n",
    "Clojure is predominantly a functional programming language, and features a rich set of immutable, persistent data structures.\n",
    "It has strong support for reliable multithreading and concurrency."
   ]
  },
  {
   "cell_type": "code",
   "execution_count": 1,
   "metadata": {},
   "outputs": [
    {
     "data": {
      "application/vnd.jupyter.widget-view+json": {
       "model_id": "",
       "version_major": 2,
       "version_minor": 0
      },
      "method": "display_data"
     },
     "metadata": {},
     "output_type": "display_data"
    },
    {
     "data": {
      "application/vnd.jupyter.widget-view+json": {
       "model_id": "2551dec8-0566-451a-9fca-3216fa12c2f2",
       "version_major": 2,
       "version_minor": 0
      },
      "method": "display_data"
     },
     "metadata": {},
     "output_type": "display_data"
    },
    {
     "data": {
      "application/vnd.jupyter.widget-view+json": {
       "model_id": "",
       "version_major": 2,
       "version_minor": 0
      },
      "method": "display_data"
     },
     "metadata": {},
     "output_type": "display_data"
    },
    {
     "data": {
      "application/vnd.jupyter.widget-view+json": {
       "model_id": "268ce3b4-5db1-48b3-a76e-472bcf0785d7",
       "version_major": 2,
       "version_minor": 0
      },
      "method": "display_data"
     },
     "metadata": {},
     "output_type": "display_data"
    }
   ],
   "source": [
    "%classpath add mvn rhizome rhizome 0.2.9\n",
    "%classpath add mvn instaparse instaparse 1.4.9"
   ]
  },
  {
   "cell_type": "code",
   "execution_count": 4,
   "metadata": {},
   "outputs": [
    {
     "data": {
      "text/plain": [
       "#'beaker_clojure_shell_bdb06d14-d57b-4489-94e5-7b27ccda547b/as-and-bs"
      ]
     },
     "execution_count": 4,
     "metadata": {},
     "output_type": "execute_result"
    }
   ],
   "source": [
    "(use '(instaparse core))\n",
    "(def as-and-bs\n",
    "  (instaparse.core/parser\n",
    "    \"S = AB*\n",
    "     AB = A B\n",
    "     A = 'a'+\n",
    "     B = 'b'+\"))"
   ]
  },
  {
   "cell_type": "code",
   "execution_count": 5,
   "metadata": {
    "scrolled": true
   },
   "outputs": [
    {
     "name": "stdout",
     "output_type": "stream",
     "text": [
      "S = AB*\n",
      "AB = A B\n",
      "A = \"a\"+\n",
      "B = \"b\"+\n",
      "\n"
     ]
    },
    {
     "data": {
      "text/plain": [
       "null"
      ]
     },
     "execution_count": 5,
     "metadata": {},
     "output_type": "execute_result"
    }
   ],
   "source": [
    "(prn as-and-bs)"
   ]
  },
  {
   "cell_type": "code",
   "execution_count": 13,
   "metadata": {},
   "outputs": [
    {
     "name": "stdout",
     "output_type": "stream",
     "text": [
      "{:exit 0, :out \"graphviz - rich set of graph drawing tools\\nlibpathplan4 - rich set of graph drawing tools - pathplan library\\nliblab-gamut1 - rich set of graph drawing tools - liblab_gamut library\\nlibgvc6 - rich set of graph drawing tools - gvc library\\nlibgvpr2 - rich set of graph drawing tools - gvpr library\\nimagemagick-6.q16 - image manipulation programs -- quantum depth Q16\\nlibmagickcore-6.q16-3-extra - low-level image manipulation library - extra codecs (Q16)\\nlibcdt5 - rich set of graph drawing tools - cdt library\\nlibcgraph6 - rich set of graph drawing tools - cgraph library\\n\", :err \"\"}\n"
     ]
    },
    {
     "data": {
      "text/plain": [
       "null"
      ]
     },
     "execution_count": 13,
     "metadata": {},
     "output_type": "execute_result"
    }
   ],
   "source": [
    "(use '[clojure.java.shell :only [sh]])\n",
    "(prn (sh \"apt-cache\" \"search\" \"graphviz\"))"
   ]
  },
  {
   "cell_type": "code",
   "execution_count": 20,
   "metadata": {},
   "outputs": [
    {
     "data": {
      "application/vnd.jupyter.widget-view+json": {
       "model_id": "",
       "version_major": 2,
       "version_minor": 0
      },
      "method": "display_data"
     },
     "metadata": {},
     "output_type": "display_data"
    }
   ],
   "source": [
    "%classpath add mvn rhizome rhizome 0.2.9"
   ]
  },
  {
   "cell_type": "code",
   "execution_count": 31,
   "metadata": {
    "scrolled": true
   },
   "outputs": [
    {
     "ename": "java.io.FileNotFoundException",
     "evalue": " Could not locate rhizome__init.class or rhizome.clj on classpath.",
     "output_type": "error",
     "traceback": [
      "\u001b[1;31mjava.io.FileNotFoundException: Could not locate rhizome__init.class or rhizome.clj on classpath.\u001b[0;0m",
      "\u001b[1;31m\tat clojure.lang.RT.load(RT.java:463)\u001b[0;0m",
      "\u001b[1;31m\tat clojure.lang.RT.load(RT.java:426)\u001b[0;0m",
      "\u001b[1;31m\tat clojure.core$load$fn__6548.invoke(core.clj:6046)\u001b[0;0m",
      "\u001b[1;31m\tat clojure.core$load.invokeStatic(core.clj:6045)\u001b[0;0m",
      "\u001b[1;31m\tat clojure.core$load.doInvoke(core.clj:6029)\u001b[0;0m",
      "\u001b[1;31m\tat clojure.lang.RestFn.invoke(RestFn.java:408)\u001b[0;0m",
      "\u001b[1;31m\tat clojure.core$load_one.invokeStatic(core.clj:5848)\u001b[0;0m",
      "\u001b[1;31m\tat clojure.core$load_one.invoke(core.clj:5843)\u001b[0;0m",
      "\u001b[1;31m\tat clojure.core$load_lib$fn__6493.invoke(core.clj:5888)\u001b[0;0m",
      "\u001b[1;31m\tat clojure.core$load_lib.invokeStatic(core.clj:5887)\u001b[0;0m",
      "\u001b[1;31m\tat clojure.core$load_lib.doInvoke(core.clj:5868)\u001b[0;0m",
      "\u001b[1;31m\tat clojure.lang.RestFn.applyTo(RestFn.java:142)\u001b[0;0m",
      "\u001b[1;31m\tat clojure.core$apply.invokeStatic(core.clj:659)\u001b[0;0m",
      "\u001b[1;31m\tat clojure.core$load_libs.invokeStatic(core.clj:5925)\u001b[0;0m",
      "\u001b[1;31m\tat clojure.core$load_libs.doInvoke(core.clj:5909)\u001b[0;0m",
      "\u001b[1;31m\tat clojure.lang.RestFn.applyTo(RestFn.java:137)\u001b[0;0m",
      "\u001b[1;31m\tat clojure.core$apply.invokeStatic(core.clj:661)\u001b[0;0m",
      "\u001b[1;31m\tat clojure.core$use.invokeStatic(core.clj:6013)\u001b[0;0m",
      "\u001b[1;31m\tat clojure.core$use.doInvoke(core.clj:6013)\u001b[0;0m",
      "\u001b[1;31m\tat clojure.lang.RestFn.invoke(RestFn.java:408)\u001b[0;0m",
      "\u001b[1;31m\tat beaker_clojure_shell_bdb06d14_d57b_4489_94e5_7b27ccda547b$eval1606.invokeStatic(Unknown Source)\u001b[0;0m",
      "\u001b[1;31m\tat beaker_clojure_shell_bdb06d14_d57b_4489_94e5_7b27ccda547b$eval1606.invoke(Unknown Source)\u001b[0;0m",
      "\u001b[1;31m\tat clojure.lang.Compiler.eval(Compiler.java:7062)\u001b[0;0m",
      "\u001b[1;31m\tat clojure.lang.Compiler.load(Compiler.java:7514)\u001b[0;0m",
      "\u001b[1;31m\tat clojure.lang.Compiler.load(Compiler.java:7461)\u001b[0;0m",
      "\u001b[1;31m\tat clojure.core$load_reader.invokeStatic(core.clj:4053)\u001b[0;0m",
      "\u001b[1;31m\tat clojure.core$load_string.invokeStatic(core.clj:4055)\u001b[0;0m",
      "\u001b[1;31m\tat clojure.core$load_string.invoke(core.clj:4055)\u001b[0;0m",
      "\u001b[1;31m\tat beaker_clojure_shell_bdb06d14_d57b_4489_94e5_7b27ccda547b$run_str_bdb06d14_d57b_4489_94e5_7b27ccda547b.invokeStatic(Unknown Source)\u001b[0;0m",
      "\u001b[1;31m\tat beaker_clojure_shell_bdb06d14_d57b_4489_94e5_7b27ccda547b$run_str_bdb06d14_d57b_4489_94e5_7b27ccda547b.invoke(Unknown Source)\u001b[0;0m",
      "\u001b[1;31m\tat clojure.lang.Var.invoke(Var.java:381)\u001b[0;0m",
      "\u001b[0;31m\tat com.twosigma.beakerx.clojure.evaluator.ClojureEvaluator.runCode(ClojureEvaluator.java:164)\u001b[0;0m",
      "\u001b[0;31m\tat com.twosigma.beakerx.clojure.evaluator.ClojureCodeRunner.call(ClojureCodeRunner.java:47)\u001b[0;0m",
      "\u001b[0;31m\tat com.twosigma.beakerx.clojure.evaluator.ClojureCodeRunner.call(ClojureCodeRunner.java:28)\u001b[0;0m",
      "\u001b[0;31m\tat java.util.concurrent.FutureTask.run(FutureTask.java:266)\u001b[0;0m",
      "\u001b[0;31m\tat java.util.concurrent.ThreadPoolExecutor.runWorker(ThreadPoolExecutor.java:1142)\u001b[0;0m",
      "\u001b[0;31m\tat java.util.concurrent.ThreadPoolExecutor$Worker.run(ThreadPoolExecutor.java:617)\u001b[0;0m",
      "\u001b[0;31m\tat java.lang.Thread.run(Thread.java:745)\u001b[0;0m"
     ]
    }
   ],
   "source": [
    "(use 'rhizome)"
   ]
  },
  {
   "cell_type": "code",
   "execution_count": 28,
   "metadata": {},
   "outputs": [
    {
     "data": {
      "text/plain": [
       "digraph {\n",
       "graph[dpi=100, rankdir=TP]\n",
       "node[fontname=\"Monospace\"]\n",
       "edge[fontname=\"Monospace\"]\n",
       "\n",
       "node1599[label=\":a\"]\n",
       "node1600[label=\":b\"]\n",
       "node1601[label=\":c\"]\n",
       "node1599 -> node1600[label=\"\"]\n",
       "node1599 -> node1601[label=\"\"]\n",
       "node1600 -> node1601[label=\"\"]\n",
       "node1601 -> node1599[label=\"\"]\n",
       "}\n"
      ]
     },
     "execution_count": 28,
     "metadata": {},
     "output_type": "execute_result"
    }
   ],
   "source": [
    "(def g\n",
    "    {:a [:b :c]\n",
    "         :b [:c]\n",
    "         :c [:a]})\n",
    "         (rhizome.dot/graph->dot (keys g) g\n",
    "    :node->descriptor (fn [n] {:label n}))"
   ]
  },
  {
   "cell_type": "code",
   "execution_count": null,
   "metadata": {},
   "outputs": [],
   "source": [
    "(defn run [nvecs nitems nthreads niters]\n",
    "  (let [vec-refs (vec (map (comp ref vec)\n",
    "                           (partition nitems (range (* nvecs nitems)))))\n",
    "        swap #(let [v1 (rand-int nvecs)\n",
    "                    v2 (rand-int nvecs)\n",
    "                    i1 (rand-int nitems)\n",
    "                    i2 (rand-int nitems)]\n",
    "                (dosync\n",
    "                 (let [temp (nth @(vec-refs v1) i1)]\n",
    "                   (alter (vec-refs v1) assoc i1 (nth @(vec-refs v2) i2))\n",
    "                   (alter (vec-refs v2) assoc i2 temp))))\n",
    "        report #(do\n",
    "                 (prn (map deref vec-refs))\n",
    "                 (println \"Distinct:\"\n",
    "                          (count (distinct (apply concat (map deref vec-refs))))))]\n",
    "    (report)\n",
    "    (dorun (apply pcalls (repeat nthreads #(dotimes [_ niters] (swap)))))\n",
    "    (report)))\n",
    "; When run, we see no values get lost or duplicated in the shuffle.\n",
    "; There are 36 distinct numbers before and after. \n",
    "(run 6 6 6 100000)"
   ]
  },
  {
   "cell_type": "code",
   "execution_count": 29,
   "metadata": {},
   "outputs": [
    {
     "data": {
      "application/vnd.jupyter.widget-view+json": {
       "model_id": "3a04d6a2-d776-47c4-b07e-c2856e58c65a",
       "version_major": 2,
       "version_minor": 0
      },
      "method": "display_data"
     },
     "metadata": {},
     "output_type": "display_data"
    }
   ],
   "source": [
    "(sh \"dot\" \"--help\")"
   ]
  },
  {
   "cell_type": "markdown",
   "metadata": {
    "collapsed": true
   },
   "source": [
    "## Using the classpath to load a jar\n",
    "\n",
    "This first cell shows that you get an error if you try to import a class not built-in to BeakerX:"
   ]
  },
  {
   "cell_type": "code",
   "execution_count": null,
   "metadata": {},
   "outputs": [],
   "source": [
    "(import com.beaker.BeakerXClasspathTest)\n",
    "(def classpathTest (new BeakerXClasspathTest))"
   ]
  },
  {
   "cell_type": "markdown",
   "metadata": {},
   "source": [
    "The magic `%classpath` allows you to add jars to your kernel."
   ]
  },
  {
   "cell_type": "code",
   "execution_count": null,
   "metadata": {},
   "outputs": [],
   "source": [
    "%classpath add jar ../resources/jar/BeakerXClasspathTest.jar"
   ]
  },
  {
   "cell_type": "code",
   "execution_count": null,
   "metadata": {},
   "outputs": [],
   "source": [
    "(import com.beaker.BeakerXClasspathTest)\n",
    "(def classpathTest (new BeakerXClasspathTest))"
   ]
  },
  {
   "cell_type": "code",
   "execution_count": null,
   "metadata": {},
   "outputs": [],
   "source": [
    "(BeakerXClasspathTest/staticTest)"
   ]
  },
  {
   "cell_type": "code",
   "execution_count": null,
   "metadata": {},
   "outputs": [],
   "source": [
    "(. classpathTest getObjectTest)"
   ]
  },
  {
   "cell_type": "markdown",
   "metadata": {},
   "source": [
    "## Array of Maps with Properties"
   ]
  },
  {
   "cell_type": "code",
   "execution_count": null,
   "metadata": {},
   "outputs": [],
   "source": [
    "[{:foo 1}{:foo 2}]"
   ]
  },
  {
   "cell_type": "markdown",
   "metadata": {},
   "source": [
    "## Interactive Plot"
   ]
  },
  {
   "cell_type": "code",
   "execution_count": null,
   "metadata": {},
   "outputs": [],
   "source": [
    "(import '[com.twosigma.beakerx.chart.xychart Plot]\n",
    "        '[com.twosigma.beakerx.chart.xychart.plotitem Line])\n",
    "(doto (Plot.)\n",
    "            (.setTitle \"We Will Control the Title\")\n",
    "            (.setXLabel \"Horizontal\")\n",
    "            (.setYLabel \"Vertical\")\n",
    "            (.add (doto (Line.)\n",
    "                        (.setX [0, 1, 2, 3, 4, 5])\n",
    "                        (.setY [0, 1, 6, 5, 2, 8]))))"
   ]
  },
  {
   "cell_type": "markdown",
   "metadata": {},
   "source": [
    "## EasyForm"
   ]
  },
  {
   "cell_type": "code",
   "execution_count": null,
   "metadata": {},
   "outputs": [],
   "source": [
    "(def form (doto (com.twosigma.beakerx.easyform.EasyForm. \"Test Form\")\n",
    "                (.addTextField \"Name\")\n",
    "                (.addButton \"Reverse\" \"reverse\")))\n",
    "form"
   ]
  },
  {
   "cell_type": "code",
   "execution_count": null,
   "metadata": {
    "tags": [
     "reverse"
    ]
   },
   "outputs": [],
   "source": [
    "(reverse (get form \"Name\"))"
   ]
  },
  {
   "cell_type": "markdown",
   "metadata": {
    "collapsed": true
   },
   "source": [
    "## Import/Unimport magic command"
   ]
  },
  {
   "cell_type": "code",
   "execution_count": null,
   "metadata": {},
   "outputs": [],
   "source": [
    "%import com.twosigma.beakerx.widget.IntSlider"
   ]
  },
  {
   "cell_type": "code",
   "execution_count": null,
   "metadata": {},
   "outputs": [],
   "source": [
    "(new IntSlider)"
   ]
  },
  {
   "cell_type": "code",
   "execution_count": null,
   "metadata": {},
   "outputs": [],
   "source": [
    "%unimport com.twosigma.beakerx.widget.IntSlider"
   ]
  },
  {
   "cell_type": "code",
   "execution_count": null,
   "metadata": {},
   "outputs": [],
   "source": [
    "(new IntSlider)"
   ]
  },
  {
   "cell_type": "markdown",
   "metadata": {},
   "source": [
    "## IPyVolume visualization widget\n",
    "\n",
    "[ipyvolume](https://github.com/maartenbreddels/ipyvolume) works with Clojure, and the other [3D widgets](../groovy/3D.ipynb) probably work too.  Note, the widget JS needs to be installed in advance of starting the notebook:\n",
    "```\n",
    "conda install -c conda-forge ipyvolume\n",
    "```\n",
    "See the [source of this example](https://github.com/maartenbreddels/ipyvolume/pull/140#issuecomment-394777662)."
   ]
  },
  {
   "cell_type": "code",
   "execution_count": null,
   "metadata": {},
   "outputs": [],
   "source": [
    "%classpath add mvn com.github.twosigma ipyvolume master-SNAPSHOT"
   ]
  },
  {
   "cell_type": "code",
   "execution_count": null,
   "metadata": {},
   "outputs": [],
   "source": [
    "(import ipyvolume.PyLab)\n",
    "\n",
    "(defn ball \n",
    "    [size radius]\n",
    "    (let [data           (make-array Float/TYPE size size size)\n",
    "          square         #(* % %)\n",
    "          center         #(- % (/ size 2))\n",
    "          sum            (partial reduce +)\n",
    "          sum-of-squares #(sum (map square %))]\n",
    "        (doseq [i (range size)\n",
    "                j (range size)\n",
    "                k (range size)\n",
    "                :let [[x y z] (map center [i j k])] \n",
    "                :when (> (square radius) \n",
    "                         (sum-of-squares [x y z]))]\n",
    "             (aset data i j k (float 1)))\n",
    "        data))\n",
    "(PyLab/volShow (ball 32 12))"
   ]
  }
 ],
 "metadata": {
  "beakerx_kernel_parameters": {},
  "kernelspec": {
   "display_name": "Clojure",
   "language": "clojure",
   "name": "clojure"
  },
  "language_info": {
   "codemirror_mode": "Clojure",
   "file_extension": ".clj",
   "mimetype": "text/x-clojure",
   "name": "Clojure",
   "nbconverter_exporter": "",
   "version": "1.9.0"
  },
  "toc": {
   "base_numbering": 1,
   "nav_menu": {},
   "number_sections": false,
   "sideBar": false,
   "skip_h1_title": false,
   "title_cell": "Table of Contents",
   "title_sidebar": "Contents",
   "toc_cell": false,
   "toc_position": {},
   "toc_section_display": false,
   "toc_window_display": false
  }
 },
 "nbformat": 4,
 "nbformat_minor": 2
}
