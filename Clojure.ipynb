{
 "cells": [
  {
   "cell_type": "markdown",
   "metadata": {},
   "source": [
    "# Implementing a toy language : interpreter and compiler\n",
    "\n"
   ]
  },
  {
   "cell_type": "markdown",
   "metadata": {},
   "source": [
    "In order to decompose the interpreter and compiler building process as much as\n",
    "possible, we will decompose our task into a number of \"languages\" with increasing capabilities :\n",
    "1. **const** : only one numerical constant (of integral type).\n",
    "2. **addsub** : additions and subtraction.\n",
    "3. **addmult** : additions, subtractions, multiplications and division, with priorities\n",
    "4. **arith** : same as *addmult*, with parenthesis.\n",
    "5. **lang0** : any number of expressions that can be either arithmetic expressions for the *arith* language or assignment of the result of such an expression into a variable. Expressions can also use variables. The code returns the value of the last expression.\n",
    "6. **lang1** : same as *lang0* with arguments written as `%0`, `%1`,…\n",
    "\n",
    "For each of these languages we will provide two execution models :\n",
    "1. /interpretation/ : the code is turned into a function that evaluates the AST when called.\n",
    "2. /compilation/ : the code is turned into a function that calls a static method from a dynamically compiled class.\n"
   ]
  },
  {
   "cell_type": "markdown",
   "metadata": {},
   "source": [
    "First getting the dependencies from maven (might take some time, so one has to wait until the final output before going further)."
   ]
  },
  {
   "cell_type": "code",
   "execution_count": 1,
   "metadata": {},
   "outputs": [
    {
     "data": {
      "application/vnd.jupyter.widget-view+json": {
       "model_id": "",
       "version_major": 2,
       "version_minor": 0
      },
      "method": "display_data"
     },
     "metadata": {},
     "output_type": "display_data"
    },
    {
     "data": {
      "application/vnd.jupyter.widget-view+json": {
       "model_id": "b81fc1a8-e36d-4663-bde4-a2fa3090f607",
       "version_major": 2,
       "version_minor": 0
      },
      "method": "display_data"
     },
     "metadata": {},
     "output_type": "display_data"
    },
    {
     "data": {
      "application/vnd.jupyter.widget-view+json": {
       "model_id": "",
       "version_major": 2,
       "version_minor": 0
      },
      "method": "display_data"
     },
     "metadata": {},
     "output_type": "display_data"
    },
    {
     "data": {
      "application/vnd.jupyter.widget-view+json": {
       "model_id": "94aee6f7-f6eb-4afa-8378-f6fac908bd04",
       "version_major": 2,
       "version_minor": 0
      },
      "method": "display_data"
     },
     "metadata": {},
     "output_type": "display_data"
    },
    {
     "data": {
      "text/plain": [
       "null"
      ]
     },
     "execution_count": 1,
     "metadata": {},
     "output_type": "execute_result"
    }
   ],
   "source": [
    "%classpath add mvn rhizome rhizome 0.2.9\n",
    "%classpath add mvn instaparse instaparse 1.4.9\n",
    ";; with leiningen one would have a project.clj with\n",
    ";;\n",
    ";;(defproject languages \"0.1.0-SNAPSHOT\"\n",
    ";;  :description \"FIXME: write description\"\n",
    ";;  :url \"http://example.com/FIXME\"\n",
    ";;  :license {:name \"Eclipse Public License\"\n",
    ";;            :url \"http://www.eclipse.org/legal/epl-v10.html\"}\n",
    ";;  :dependencies [[org.clojure/clojure \"1.8.0\"]\n",
    ";;                 [instaparse \"1.4.9\"]\n",
    ";;                 [rhizome \"0.2.9\"]])\n"
   ]
  },
  {
   "cell_type": "markdown",
   "metadata": {},
   "source": [
    "## **Const** language\n",
    "\n",
    "If we only ever wanted to parse integers, of course we would just use `Integer.pasreInt()` or actually `Long.parseLong()`. However, as this is just a stepping stone to more interesting languages, we will use the same infrastructure of parsing and then interpreting or compiling.\n"
   ]
  },
  {
   "cell_type": "markdown",
   "metadata": {},
   "source": [
    "### Parser\n",
    "When represented as a string of characters, integers are a string of one or more digits possibly prefixed by a minus sign for negative numbers.\n",
    "\n",
    "One could write the following parsing rule using only literal terminals :\n",
    "`number= '-'? ('0'|'1'|'2'|'3'|'4'|'5'|'6'|'7'|'8'|'9')+`\n",
    "\n",
    "Note that this will accept leading zeros while we could also want to forbid them.\n",
    "Parsing the string `\"-123\"` would give the following result :`[:number \"-\" \"1\" \"2\" \"3\"]`\n",
    "So it would be up to the AST processing step to collate those strings before turning them into a number.\n",
    "\n",
    "In order to speed both the parsing and the processing of our numbers, we can /tokenize/ them with a regular expression instead :\n",
    "`NUMBER= #'-?[0-9]+'`\n",
    "In Clojure, we can build the parser using the instaparse library :"
   ]
  },
  {
   "cell_type": "code",
   "execution_count": 2,
   "metadata": {},
   "outputs": [
    {
     "name": "stdout",
     "output_type": "stream",
     "text": [
      "[:PROG [:NUMBER \"-123\"]]\n"
     ]
    },
    {
     "data": {
      "text/plain": [
       "null"
      ]
     },
     "execution_count": 2,
     "metadata": {},
     "output_type": "execute_result"
    }
   ],
   "source": [
    "(use 'instaparse.core)\n",
    "(def const-parser\n",
    "  (instaparse.core/parser\n",
    "   \"PROG= NUMBER\n",
    "    NUMBER= #'-?[0-9]+'\"))\n",
    "    \n",
    "(prn (const-parser \"-123\"))"
   ]
  },
  {
   "cell_type": "code",
   "execution_count": 3,
   "metadata": {
    "scrolled": true
   },
   "outputs": [
    {
     "data": {
      "image/png": "[encoded data removed]"
     },
     "execution_count": 3,
     "metadata": {},
     "output_type": "execute_result"
    }
   ],
   "source": [
    "(System/setProperty \"java.awt.headless\" \"true\");; required for the notebook\n",
    "(use 'rhizome.viz)\n",
    "(instaparse.core/visualize (const-parser \"-256\") :output-file :buffered-image )"
   ]
  },
  {
   "cell_type": "markdown",
   "metadata": {},
   "source": [
    "But this minimal parser fails to parse strings that we would want to consider valid :"
   ]
  },
  {
   "cell_type": "code",
   "execution_count": 4,
   "metadata": {},
   "outputs": [
    {
     "name": "stdout",
     "output_type": "stream",
     "text": [
      "Parse error at line 1, column 1:\n",
      "    -123456    \n",
      "^\n",
      "Expected:\n",
      "#\"-?[0-9]+\" (followed by end-of-string)\n",
      "\n"
     ]
    },
    {
     "data": {
      "text/plain": [
       "null"
      ]
     },
     "execution_count": 4,
     "metadata": {},
     "output_type": "execute_result"
    }
   ],
   "source": [
    "(prn (const-parser \"    -123456    \"))"
   ]
  },
  {
   "cell_type": "markdown",
   "metadata": {},
   "source": [
    "As we want to handle spaces before and after the number, we have to modify the grammar accordingly. For efficiency reasons, we also handle the plurality of consecutive spaces at the lexing stage with a regular expression :"
   ]
  },
  {
   "cell_type": "code",
   "execution_count": 5,
   "metadata": {},
   "outputs": [
    {
     "data": {
      "image/png": "[encoded data removed]"
     },
     "execution_count": 5,
     "metadata": {},
     "output_type": "execute_result"
    }
   ],
   "source": [
    "(def const-parser\n",
    "  (instaparse.core/parser\n",
    "   \"prog= spaces number spaces\n",
    "    number=#'-?[0-9]+'\n",
    "    <spaces> = <#'[ ]'*>\"))\n",
    "    \n",
    "(instaparse.core/visualize (const-parser \"    -123456    \") :output-file :buffered-image )"
   ]
  },
  {
   "cell_type": "markdown",
   "metadata": {},
   "source": [
    "Exercice : What if we remove the angle brackets in the grammar rules ?"
   ]
  },
  {
   "cell_type": "markdown",
   "metadata": {},
   "source": [
    "## **const** interpreter\n",
    "\n",
    "The simplest interpreter would be something like :"
   ]
  },
  {
   "cell_type": "code",
   "execution_count": 6,
   "metadata": {},
   "outputs": [
    {
     "data": {
      "text/plain": [
       "#'beaker_clojure_shell_24f2c611-5642-4afc-b5bf-59a032bac84a/const-interpreter"
      ]
     },
     "execution_count": 6,
     "metadata": {},
     "output_type": "execute_result"
    }
   ],
   "source": [
    " (defn const-interpreter [ast]\n",
    "   (instaparse.core/transform {:number #(Long/parseLong %)} ast))"
   ]
  },
  {
   "cell_type": "code",
   "execution_count": 7,
   "metadata": {},
   "outputs": [
    {
     "name": "stdout",
     "output_type": "stream",
     "text": [
      "[:prog -123]\n"
     ]
    },
    {
     "data": {
      "text/plain": [
       "null"
      ]
     },
     "execution_count": 7,
     "metadata": {},
     "output_type": "execute_result"
    }
   ],
   "source": [
    " (prn (-> \"-123\" const-parser const-interpreter))"
   ]
  },
  {
   "cell_type": "markdown",
   "metadata": {},
   "source": [
    "However, as we will want reuse code between the various languages, we will\n",
    "separate the language specific transform map and a generic function to turn an\n",
    "AST into a clojure function.\n",
    "\n",
    "The generic function taking a transform map and returning the function turning an\n",
    "AST into a clojure function : "
   ]
  },
  {
   "cell_type": "code",
   "execution_count": 8,
   "metadata": {},
   "outputs": [
    {
     "data": {
      "text/plain": [
       "#'beaker_clojure_shell_24f2c611-5642-4afc-b5bf-59a032bac84a/dynamic-eval"
      ]
     },
     "execution_count": 8,
     "metadata": {},
     "output_type": "execute_result"
    }
   ],
   "source": [
    "(defn dynamic-eval [interpreter]\n",
    "    (fn[ast]\n",
    "      (fn[]\n",
    "        (instaparse.core/transform interpreter ast))))"
   ]
  },
  {
   "cell_type": "markdown",
   "metadata": {},
   "source": [
    "We can use this function for our **const** language to create a `const-eval`\n",
    "function that will turn an AST into a clojure function:"
   ]
  },
  {
   "cell_type": "code",
   "execution_count": 9,
   "metadata": {},
   "outputs": [
    {
     "data": {
      "text/plain": [
       "#'beaker_clojure_shell_24f2c611-5642-4afc-b5bf-59a032bac84a/const-eval"
      ]
     },
     "execution_count": 9,
     "metadata": {},
     "output_type": "execute_result"
    }
   ],
   "source": [
    "(def const-interpreting\n",
    "  {:prog identity\n",
    "   :number #(Long/parseLong %)})\n",
    "(def const-eval (dynamic-eval const-interpreting))"
   ]
  },
  {
   "cell_type": "markdown",
   "metadata": {},
   "source": [
    "This function can be called on the result of parsing a string :"
   ]
  },
  {
   "cell_type": "code",
   "execution_count": 10,
   "metadata": {},
   "outputs": [
    {
     "data": {
      "text/plain": [
       "#'beaker_clojure_shell_24f2c611-5642-4afc-b5bf-59a032bac84a/const-eval-test"
      ]
     },
     "execution_count": 10,
     "metadata": {},
     "output_type": "execute_result"
    }
   ],
   "source": [
    "(def const-eval-test (-> \"-123 \" const-parser const-eval))"
   ]
  },
  {
   "cell_type": "markdown",
   "metadata": {},
   "source": [
    "The result can then be called like any other clojure function :"
   ]
  },
  {
   "cell_type": "code",
   "execution_count": 11,
   "metadata": {},
   "outputs": [
    {
     "data": {
      "text/plain": [
       "-123"
      ]
     },
     "execution_count": 11,
     "metadata": {},
     "output_type": "execute_result"
    }
   ],
   "source": [
    "(const-eval-test)"
   ]
  },
  {
   "cell_type": "markdown",
   "metadata": {},
   "source": [
    "## const compiler\n",
    "The compiler will be implemented in two steps :\n",
    "- turning the AST into a sequence of vectors. Each vector representing a\n",
    "  bytecode instruction and the parameters, if any, of the instruction.\n",
    "- generating a class with a static method implementing the bytecodes sequence\n",
    "  , dynamically loading this class and returning a clojure function calling the static method of the generated\n",
    "  class.\n"
   ]
  },
  {
   "cell_type": "markdown",
   "metadata": {},
   "source": [
    "###  Generating the instructions sequence\n",
    "As we will be processing an AST, we can do this with a transform map :"
   ]
  },
  {
   "cell_type": "code",
   "execution_count": 12,
   "metadata": {},
   "outputs": [
    {
     "data": {
      "text/plain": [
       "#'beaker_clojure_shell_24f2c611-5642-4afc-b5bf-59a032bac84a/const-compiling"
      ]
     },
     "execution_count": 12,
     "metadata": {},
     "output_type": "execute_result"
    }
   ],
   "source": [
    "(def const-compiling\n",
    "  {:prog (fn[& instrs](conj (reduce into [[:loadi 0]] instrs)[:reti]))\n",
    "   :number #(vector [:loadi (Long/parseLong %)])})"
   ]
  },
  {
   "cell_type": "markdown",
   "metadata": {},
   "source": [
    "The first `[:loadi 0]` will be useful when we allow empty programs : we will\n",
    "then always have a 0 on the stack, to return if nothing has been put on the\n",
    "stack by the program."
   ]
  },
  {
   "cell_type": "code",
   "execution_count": 13,
   "metadata": {},
   "outputs": [
    {
     "name": "stdout",
     "output_type": "stream",
     "text": [
      "[[:loadi 0] [:loadi -123] [:reti]]\n"
     ]
    },
    {
     "data": {
      "text/plain": [
       "null"
      ]
     },
     "execution_count": 13,
     "metadata": {},
     "output_type": "execute_result"
    }
   ],
   "source": [
    "(prn (->> \"-123\" const-parser (instaparse.core/transform const-compiling)))"
   ]
  },
  {
   "cell_type": "markdown",
   "metadata": {},
   "source": [
    "The actual bytecode will be generated by reducing a function over our sequence\n",
    "of bytecode instructions, calling the relevant method from a [MethodVisitor](http://asm.ow2.org/asm50/javadoc/user/org/objectweb/asm/MethodVisitor.html)\n",
    "object. The simplest way to implement it is the following :"
   ]
  },
  {
   "cell_type": "code",
   "execution_count": 14,
   "metadata": {},
   "outputs": [
    {
     "data": {
      "text/plain": [
       "class clojure.asm.commons.GeneratorAdapter"
      ]
     },
     "execution_count": 14,
     "metadata": {},
     "output_type": "execute_result"
    }
   ],
   "source": [
    "  (import '(clojure.asm Opcodes Type ClassWriter))\n",
    "  (import '(clojure.asm.commons Method GeneratorAdapter))"
   ]
  },
  {
   "cell_type": "code",
   "execution_count": 15,
   "metadata": {},
   "outputs": [
    {
     "data": {
      "text/plain": [
       "#'beaker_clojure_shell_24f2c611-5642-4afc-b5bf-59a032bac84a/const-instr-generating"
      ]
     },
     "execution_count": 15,
     "metadata": {},
     "output_type": "execute_result"
    }
   ],
   "source": [
    "(defn const-instr-generating [mv instr]\n",
    "  \"Generate the method call to an  org.objectweb.asm.MethodVisitor for a given instruction.\"\n",
    "  (do\n",
    "    (condp = (first instr)\n",
    "        :loadi (.visitLdcInsn mv (int (second instr)))\n",
    "        :reti (.visitInsn mv Opcodes/IRETURN)\n",
    "        )\n",
    "  mv))"
   ]
  },
  {
   "cell_type": "markdown",
   "metadata": {},
   "source": [
    "A `compiled` function will take care of creating class with a given class name,\n",
    "generating the bytecode in a static method called `run` and returning a clojure\n",
    "function calling the static method. We will be forward thinking by taking a\n",
    "number of arguments as a parameter, even if this argument will be 0 for all of\n",
    "our languages until **lang1**. The `bytecode-generator` will be a function calling\n",
    "the reducing function over the sequence of bytecode instructions, taking the\n",
    "`MethodVisitor` as argument :\n"
   ]
  },
  {
   "cell_type": "code",
   "execution_count": 16,
   "metadata": {},
   "outputs": [
    {
     "data": {
      "text/plain": [
       "#'beaker_clojure_shell_24f2c611-5642-4afc-b5bf-59a032bac84a/compiled"
      ]
     },
     "execution_count": 16,
     "metadata": {},
     "output_type": "execute_result"
    }
   ],
   "source": [
    "(defn compiled [n-args class-name bytecode-generator]\n",
    "    (let [cw (ClassWriter. (+ ClassWriter/COMPUTE_FRAMES ClassWriter/COMPUTE_MAXS ))\n",
    "          init (Method/getMethod \"void <init>()\")\n",
    "          meth-name \"run\"\n",
    "          meth-sig (str \"(\" (apply str (repeat n-args \"I\")) \")I\")]\n",
    "      (.visit cw Opcodes/V1_6 Opcodes/ACC_PUBLIC (.replace class-name \\. \\/) nil \"java/lang/Object\" nil)\n",
    "      (doto (GeneratorAdapter. Opcodes/ACC_PUBLIC init nil nil cw)\n",
    "        (.visitCode)\n",
    "        (.loadThis)\n",
    "        (.invokeConstructor (Type/getType Object) init)\n",
    "        (.returnValue)\n",
    "        (.endMethod))\n",
    "      (doto (.visitMethod cw (+ Opcodes/ACC_PUBLIC Opcodes/ACC_STATIC) meth-name meth-sig nil nil )\n",
    "        (.visitCode)\n",
    "        (bytecode-generator)\n",
    "        (.visitMaxs 0 0 )\n",
    "        (.visitEnd))\n",
    "      (.visitEnd cw)\n",
    "      (let [b (.toByteArray cw)\n",
    "            cl (clojure.lang.DynamicClassLoader.)]\n",
    "        (.defineClass cl class-name b nil))\n",
    "      (fn [& args] (clojure.lang.Reflector/invokeStaticMethod class-name meth-name (into-array args))))\n",
    "    )\n"
   ]
  },
  {
   "cell_type": "markdown",
   "metadata": {},
   "source": [
    "It can be used in a `bytecode-generating-eval` function to create a compiler\n",
    "that will take an ast as argument and return the function created with `compiled` :"
   ]
  },
  {
   "cell_type": "code",
   "execution_count": 17,
   "metadata": {},
   "outputs": [
    {
     "data": {
      "text/plain": [
       "#'beaker_clojure_shell_24f2c611-5642-4afc-b5bf-59a032bac84a/bytecode-generating-eval"
      ]
     },
     "execution_count": 17,
     "metadata": {},
     "output_type": "execute_result"
    }
   ],
   "source": [
    "(defn bytecode-generating-eval [n-args class-name compiling instr-generating]\n",
    "  (fn[ast]\n",
    "  (let[instrs (instaparse.core/transform compiling ast)\n",
    "       generate-prog (fn[mv] (reduce instr-generating mv instrs))]\n",
    "    (compiled n-args class-name generate-prog))))"
   ]
  },
  {
   "cell_type": "markdown",
   "metadata": {},
   "source": [
    "Using this function for our **const** language would be :"
   ]
  },
  {
   "cell_type": "code",
   "execution_count": 18,
   "metadata": {},
   "outputs": [
    {
     "data": {
      "text/plain": [
       "#'beaker_clojure_shell_24f2c611-5642-4afc-b5bf-59a032bac84a/const-compiler"
      ]
     },
     "execution_count": 18,
     "metadata": {},
     "output_type": "execute_result"
    }
   ],
   "source": [
    "(def const-compiler (bytecode-generating-eval 0 \"ConstCompiler\" const-compiling const-instr-generating))"
   ]
  },
  {
   "cell_type": "markdown",
   "metadata": {},
   "source": [
    "Such a compiler can then be used like :"
   ]
  },
  {
   "cell_type": "code",
   "execution_count": 19,
   "metadata": {},
   "outputs": [
    {
     "data": {
      "text/plain": [
       "#'beaker_clojure_shell_24f2c611-5642-4afc-b5bf-59a032bac84a/const-compiler-test"
      ]
     },
     "execution_count": 19,
     "metadata": {},
     "output_type": "execute_result"
    }
   ],
   "source": [
    "(def const-compiler-test (-> \"-123\" const-parser const-compiler ))"
   ]
  },
  {
   "cell_type": "markdown",
   "metadata": {},
   "source": [
    "And the resulting function is a normal clojure function :"
   ]
  },
  {
   "cell_type": "code",
   "execution_count": 20,
   "metadata": {},
   "outputs": [
    {
     "data": {
      "text/plain": [
       "-123"
      ]
     },
     "execution_count": 20,
     "metadata": {},
     "output_type": "execute_result"
    }
   ],
   "source": [
    "(const-compiler-test)"
   ]
  },
  {
   "cell_type": "markdown",
   "metadata": {},
   "source": [
    "#### Improving the instructions generating reducing function\n",
    "The `const-instr-generating` function defined above works perfectly fine. In\n",
    "order to define other languages, we could just replace it with new functions\n",
    "adding cases to the `condp` expression. However, it can also be rewritten to be\n",
    "_extended_ rather than replaced, by using dynamic dispatching on the instruction\n",
    "type. This can easily be done in clojure with a *multimethod*. A dispatching\n",
    "implementation could use a `generate-instr` multimethod :\n"
   ]
  },
  {
   "cell_type": "code",
   "execution_count": 21,
   "metadata": {},
   "outputs": [
    {
     "data": {
      "text/plain": [
       "#'beaker_clojure_shell_24f2c611-5642-4afc-b5bf-59a032bac84a/dispatching-bytecode-generating-eval"
      ]
     },
     "execution_count": 21,
     "metadata": {},
     "output_type": "execute_result"
    }
   ],
   "source": [
    "(defmulti generate-instr (fn [mv [instr & args]] instr))\n",
    "(defn dispatching-bytecode-generating-eval [n-args class-name compiling]\n",
    "  (fn[ast]\n",
    "    (let[instrs (instaparse.core/transform compiling ast)\n",
    "         generate-prog (fn[mv] (reduce generate-instr mv instrs))]\n",
    "      (compiled n-args class-name generate-prog))))"
   ]
  },
  {
   "cell_type": "markdown",
   "metadata": {},
   "source": [
    "The `generate-instr` multimethod is defined as dispatching according to the\n",
    "value of the first element of the vector argument (which will be the keyword\n",
    "indicating the kind of bytecode instruction).\n",
    "For our **const** language, we only need two implementation mirroring the two\n",
    "cases of the `condp` in `const-instr-generating` :"
   ]
  },
  {
   "cell_type": "code",
   "execution_count": 22,
   "metadata": {},
   "outputs": [
    {
     "data": {
      "text/plain": [
       "clojure.lang.MultiFn@15db8da9"
      ]
     },
     "execution_count": 22,
     "metadata": {},
     "output_type": "execute_result"
    }
   ],
   "source": [
    "(defmethod generate-instr :loadi [mv [instr & args]]\n",
    "  (doto mv\n",
    "    (.visitLdcInsn (int (first args)))))\n",
    "\n",
    "(defmethod generate-instr :reti [mv [instr & args]]\n",
    "  (doto mv\n",
    "    (.visitInsn Opcodes/IRETURN)))"
   ]
  },
  {
   "cell_type": "markdown",
   "metadata": {},
   "source": [
    "The new implementation is called exactly in the same way :"
   ]
  },
  {
   "cell_type": "code",
   "execution_count": 23,
   "metadata": {},
   "outputs": [
    {
     "data": {
      "text/plain": [
       "-123"
      ]
     },
     "execution_count": 23,
     "metadata": {},
     "output_type": "execute_result"
    }
   ],
   "source": [
    "(def const-compiler (dispatching-bytecode-generating-eval 0 \"ConstCompiler\" const-compiling))\n",
    "(def const-compiler-test (-> \"-123\" const-parser const-compiler))\n",
    "(const-compiler-test)"
   ]
  },
  {
   "cell_type": "markdown",
   "metadata": {},
   "source": [
    "# AddSub language\n",
    "\n",
    "## Parser\n",
    "\n",
    "We define an `add-sub` rule with the foresight that it will be useful to\n",
    "represent operations of a given priority for the parsing step. However, we do\n",
    "not need such a node in our AST so we use angle brackets \"<>\" to remove them for\n",
    "the resulting AST :"
   ]
  },
  {
   "cell_type": "code",
   "execution_count": 24,
   "metadata": {},
   "outputs": [
    {
     "data": {
      "text/plain": [
       "#'beaker_clojure_shell_24f2c611-5642-4afc-b5bf-59a032bac84a/addsub-parser"
      ]
     },
     "execution_count": 24,
     "metadata": {},
     "output_type": "execute_result"
    }
   ],
   "source": [
    "(def addsub-parser\n",
    "  (instaparse.core/parser\n",
    "   \"prog= spaces add-sub spaces\n",
    "    <add-sub>= number | add | sub\n",
    "    add= add-sub spaces <'+'> spaces number\n",
    "    sub= add-sub spaces <'-'> spaces number\n",
    "    number= #'-?[0-9]+'\n",
    "    <spaces>= <#'\\\\s*'>\"))"
   ]
  },
  {
   "cell_type": "markdown",
   "metadata": {},
   "source": [
    "The parser can be used on a sample string :"
   ]
  },
  {
   "cell_type": "code",
   "execution_count": 26,
   "metadata": {},
   "outputs": [
    {
     "data": {
      "image/png": "[encoded data removed]"
     },
     "execution_count": 26,
     "metadata": {},
     "output_type": "execute_result"
    }
   ],
   "source": [
    "(-> \"1+2-3-1\" addsub-parser (instaparse.core/visualize :output-file :buffered-image ))"
   ]
  },
  {
   "cell_type": "markdown",
   "metadata": {},
   "source": [
    "## Interpreter"
   ]
  },
  {
   "cell_type": "markdown",
   "metadata": {},
   "source": [
    "We can define our interpreting transform map by adding the functions to process\n",
    "the new `:add` and `:sub` nodes in the AST :"
   ]
  },
  {
   "cell_type": "code",
   "execution_count": 31,
   "metadata": {},
   "outputs": [
    {
     "data": {
      "text/plain": [
       "#'beaker_clojure_shell_762bc4cf-dbf2-4b56-b562-cdd68edcbb0e/addsub-interpreting"
      ]
     },
     "execution_count": 31,
     "metadata": {},
     "output_type": "execute_result"
    }
   ],
   "source": [
    "(def addsub-interpreting\n",
    "  (assoc const-interpreting :add + :sub -))"
   ]
  },
  {
   "cell_type": "markdown",
   "metadata": {},
   "source": [
    "We can then reuse our previous functions :"
   ]
  },
  {
   "cell_type": "code",
   "execution_count": 32,
   "metadata": {},
   "outputs": [
    {
     "data": {
      "text/plain": [
       "-1"
      ]
     },
     "execution_count": 32,
     "metadata": {},
     "output_type": "execute_result"
    }
   ],
   "source": [
    "(def addsub-eval (dynamic-eval addsub-interpreting))\n",
    "(def addsub-eval-test (-> \"1+2-3-1\" addsub-parser addsub-eval))\n",
    "(addsub-eval-test)"
   ]
  },
  {
   "cell_type": "markdown",
   "metadata": {},
   "source": [
    "## Compiler\n",
    "\n",
    "The bytecode sequence for a binary operation is the concatenation of the\n",
    "bytecode sequence for the first operand, the bytecode sequence for the second\n",
    "operand, and the specific bytecode for the given operation. We define a function\n",
    "`assoc-binary-op` to add such function to a transform map turning an AST into a\n",
    "sequence of bytecode instructions. The `op` argument is the AST node and the\n",
    "`instr` argument is the keyword representing bytecode instruction :\n"
   ]
  },
  {
   "cell_type": "code",
   "execution_count": 33,
   "metadata": {},
   "outputs": [
    {
     "data": {
      "text/plain": [
       "#'beaker_clojure_shell_762bc4cf-dbf2-4b56-b562-cdd68edcbb0e/assoc-binary-op"
      ]
     },
     "execution_count": 33,
     "metadata": {},
     "output_type": "execute_result"
    }
   ],
   "source": [
    "(defn assoc-binary-op [m [op instr]]\n",
    "  (let[binary-op-compiling (fn[op]\n",
    "                             (fn[instrs-v0 instrs-v1]\n",
    "         (conj (into instrs-v0 instrs-v1) [op])))]\n",
    "    (assoc m op (binary-op-compiling instr))))"
   ]
  },
  {
   "cell_type": "markdown",
   "metadata": {},
   "source": [
    "We can use it to create our `addsub` transform map :"
   ]
  },
  {
   "cell_type": "code",
   "execution_count": 34,
   "metadata": {},
   "outputs": [
    {
     "data": {
      "text/plain": [
       "#'beaker_clojure_shell_762bc4cf-dbf2-4b56-b562-cdd68edcbb0e/addsub-compiling"
      ]
     },
     "execution_count": 34,
     "metadata": {},
     "output_type": "execute_result"
    }
   ],
   "source": [
    "(def addsub-compiling\n",
    "  (reduce assoc-binary-op const-compiling [[:add :addi][:sub :subi]]))"
   ]
  },
  {
   "cell_type": "markdown",
   "metadata": {},
   "source": [
    "We can test it :"
   ]
  },
  {
   "cell_type": "code",
   "execution_count": 36,
   "metadata": {},
   "outputs": [
    {
     "name": "stdout",
     "output_type": "stream",
     "text": [
      "[[:loadi 0] [:loadi 1] [:loadi 2] [:addi] [:loadi 3] [:subi] [:loadi 1] [:subi] [:reti]]\n"
     ]
    },
    {
     "data": {
      "text/plain": [
       "null"
      ]
     },
     "execution_count": 36,
     "metadata": {},
     "output_type": "execute_result"
    }
   ],
   "source": [
    "(prn (->> \"1+2-3-1\" addsub-parser (instaparse.core/transform addsub-compiling)))"
   ]
  },
  {
   "cell_type": "markdown",
   "metadata": {},
   "source": [
    "We just have to add the multimethod definitions for the new instructions :"
   ]
  },
  {
   "cell_type": "code",
   "execution_count": 37,
   "metadata": {},
   "outputs": [
    {
     "data": {
      "text/plain": [
       "clojure.lang.MultiFn@37766344"
      ]
     },
     "execution_count": 37,
     "metadata": {},
     "output_type": "execute_result"
    }
   ],
   "source": [
    "(defmethod generate-instr :addi [mv [instr & args]]\n",
    "  (doto mv\n",
    "    (.visitInsn Opcodes/IADD)))\n",
    "\n",
    "(defmethod generate-instr :subi [mv [instr & args]]\n",
    "  (doto mv\n",
    "    (.visitInsn Opcodes/ISUB)))"
   ]
  },
  {
   "cell_type": "markdown",
   "metadata": {},
   "source": [
    "The **addsub** compiler can then be created reusing our previous functions :"
   ]
  },
  {
   "cell_type": "code",
   "execution_count": 38,
   "metadata": {
    "scrolled": true
   },
   "outputs": [
    {
     "data": {
      "text/plain": [
       "#'beaker_clojure_shell_762bc4cf-dbf2-4b56-b562-cdd68edcbb0e/addsub-compiler"
      ]
     },
     "execution_count": 38,
     "metadata": {},
     "output_type": "execute_result"
    }
   ],
   "source": [
    "(def addsub-compiler (dispatching-bytecode-generating-eval 0 \"AddsubCompiler\" addsub-compiling))"
   ]
  },
  {
   "cell_type": "markdown",
   "metadata": {},
   "source": [
    "We can use it as usual :"
   ]
  },
  {
   "cell_type": "code",
   "execution_count": 39,
   "metadata": {},
   "outputs": [
    {
     "data": {
      "text/plain": [
       "-1"
      ]
     },
     "execution_count": 39,
     "metadata": {},
     "output_type": "execute_result"
    }
   ],
   "source": [
    "(def addsub-compiler-test (-> \"1+ 2 - 3 - 1\" addsub-parser addsub-compiler))\n",
    "(addsub-compiler-test)"
   ]
  },
  {
   "cell_type": "markdown",
   "metadata": {},
   "source": [
    "# Addmult language\n",
    "## Parser\n",
    "As we define a top down parser, we first try to match the lowest priority expressions :"
   ]
  },
  {
   "cell_type": "code",
   "execution_count": 41,
   "metadata": {
    "scrolled": true
   },
   "outputs": [
    {
     "data": {
      "text/plain": [
       "#'beaker_clojure_shell_762bc4cf-dbf2-4b56-b562-cdd68edcbb0e/addmult-parser"
      ]
     },
     "execution_count": 41,
     "metadata": {},
     "output_type": "execute_result"
    }
   ],
   "source": [
    "(def addmult-parser\n",
    "  (instaparse.core/parser\n",
    "   \"prog= spaces add-sub spaces\n",
    "    <add-sub>= mult-div | add | sub\n",
    "    add= add-sub spaces <'+'> spaces mult-div\n",
    "    sub= add-sub spaces <'-'> spaces mult-div\n",
    "    <mult-div>= number | mult | div\n",
    "    mult= mult-div spaces <'*'> spaces number\n",
    "    div= mult-div spaces <'/'> spaces number\n",
    "    number= #'-?[0-9]+'\n",
    "    <spaces>= <#'\\\\s*'>\"))"
   ]
  },
  {
   "cell_type": "markdown",
   "metadata": {},
   "source": [
    "## Interpreter\n",
    "We can add the new AST node types to the transform map :"
   ]
  },
  {
   "cell_type": "code",
   "execution_count": 42,
   "metadata": {
    "scrolled": true
   },
   "outputs": [
    {
     "data": {
      "text/plain": [
       "#'beaker_clojure_shell_762bc4cf-dbf2-4b56-b562-cdd68edcbb0e/addmult-interpreting"
      ]
     },
     "execution_count": 42,
     "metadata": {},
     "output_type": "execute_result"
    }
   ],
   "source": [
    "(def addmult-interpreting (assoc addsub-interpreting :mult * :div /))"
   ]
  },
  {
   "cell_type": "markdown",
   "metadata": {},
   "source": [
    "And reuse our previous functions :"
   ]
  },
  {
   "cell_type": "code",
   "execution_count": 43,
   "metadata": {
    "scrolled": true
   },
   "outputs": [
    {
     "data": {
      "text/plain": [
       "#'beaker_clojure_shell_762bc4cf-dbf2-4b56-b562-cdd68edcbb0e/addmult-eval"
      ]
     },
     "execution_count": 43,
     "metadata": {},
     "output_type": "execute_result"
    }
   ],
   "source": [
    "(def addmult-eval (dynamic-eval addmult-interpreting ))"
   ]
  },
  {
   "cell_type": "markdown",
   "metadata": {},
   "source": [
    "The interpreter can be used as usual :"
   ]
  },
  {
   "cell_type": "code",
   "execution_count": 44,
   "metadata": {},
   "outputs": [
    {
     "data": {
      "text/plain": [
       "-6"
      ]
     },
     "execution_count": 44,
     "metadata": {},
     "output_type": "execute_result"
    }
   ],
   "source": [
    "(def addmult-eval-test (-> \"1 + 3 * -2 -1\" addmult-parser addmult-eval))\n",
    "(addmult-eval-test)"
   ]
  },
  {
   "cell_type": "markdown",
   "metadata": {},
   "source": [
    "## Compiler\n",
    "We can easily add the two new binary operations :"
   ]
  },
  {
   "cell_type": "code",
   "execution_count": 45,
   "metadata": {},
   "outputs": [
    {
     "data": {
      "text/plain": [
       "clojure.lang.MultiFn@37766344"
      ]
     },
     "execution_count": 45,
     "metadata": {},
     "output_type": "execute_result"
    }
   ],
   "source": [
    "(def addmult-compiling\n",
    "  (reduce assoc-binary-op addsub-compiling [[:mult :multi][:div :divi]]))\n",
    "\n",
    "(defmethod generate-instr :multi [mv [instr & args]]\n",
    "  (doto mv\n",
    "    (.visitInsn Opcodes/IMUL)))\n",
    "\n",
    "(defmethod generate-instr :divi [mv [instr & args]]\n",
    "  (doto mv\n",
    "    (.visitInsn Opcodes/IDIV)))"
   ]
  },
  {
   "cell_type": "markdown",
   "metadata": {},
   "source": [
    "And then reuse the previous functions :"
   ]
  },
  {
   "cell_type": "code",
   "execution_count": 46,
   "metadata": {},
   "outputs": [
    {
     "data": {
      "text/plain": [
       "#'beaker_clojure_shell_762bc4cf-dbf2-4b56-b562-cdd68edcbb0e/addmult-compiler"
      ]
     },
     "execution_count": 46,
     "metadata": {},
     "output_type": "execute_result"
    }
   ],
   "source": [
    "(def addmult-compiler (dispatching-bytecode-generating-eval 0 \"AddmultCompiler\" addmult-compiling))"
   ]
  },
  {
   "cell_type": "markdown",
   "metadata": {},
   "source": [
    "This compiler can be used as usual :"
   ]
  },
  {
   "cell_type": "code",
   "execution_count": 47,
   "metadata": {},
   "outputs": [
    {
     "data": {
      "text/plain": [
       "-6"
      ]
     },
     "execution_count": 47,
     "metadata": {},
     "output_type": "execute_result"
    }
   ],
   "source": [
    "(def addmult-compiler-test (-> \"1 + 3 * -2 - 1\" addmult-parser addmult-compiler))\n",
    "(addmult-compiler-test)"
   ]
  },
  {
   "cell_type": "markdown",
   "metadata": {},
   "source": [
    "## EasyForm"
   ]
  },
  {
   "cell_type": "code",
   "execution_count": null,
   "metadata": {},
   "outputs": [],
   "source": []
  },
  {
   "cell_type": "code",
   "execution_count": 15,
   "metadata": {},
   "outputs": [
    {
     "data": {
      "application/vnd.jupyter.widget-view+json": {
       "model_id": "943e0f47-5cdd-4f9d-aeb2-214118a24b5a",
       "version_major": 2,
       "version_minor": 0
      },
      "method": "display_data"
     },
     "metadata": {},
     "output_type": "display_data"
    }
   ],
   "source": [
    "(def form (doto (com.twosigma.beakerx.easyform.EasyForm. \"Test Form\")\n",
    "                (.addTextField \"Name\")\n",
    "                (.addButton \"Reverse\" \"reverse\")))\n",
    "form"
   ]
  },
  {
   "cell_type": "code",
   "execution_count": 16,
   "metadata": {
    "tags": [
     "reverse"
    ]
   },
   "outputs": [
    {
     "data": {
      "text/plain": [
       "[l, l, i, r, d,  , a,  , s, i,  , s, i, h, T]"
      ]
     },
     "execution_count": 16,
     "metadata": {},
     "output_type": "execute_result"
    }
   ],
   "source": [
    "(reverse (get form \"Name\"))"
   ]
  },
  {
   "cell_type": "markdown",
   "metadata": {
    "collapsed": true
   },
   "source": [
    "## Import magic command"
   ]
  },
  {
   "cell_type": "code",
   "execution_count": 23,
   "metadata": {},
   "outputs": [],
   "source": [
    "%import clojure.asm.Opcodes\n",
    "%import clojure.asm.Type\n",
    "%import clojure.asm.ClassWriter\n",
    "\n",
    "%import clojure.asm.commons.Method\n",
    "%import clojure.asm.commons.GeneratorAdapter"
   ]
  },
  {
   "cell_type": "code",
   "execution_count": null,
   "metadata": {},
   "outputs": [],
   "source": []
  },
  {
   "cell_type": "code",
   "execution_count": 25,
   "metadata": {},
   "outputs": [],
   "source": [
    "%import com.twosigma.beakerx.widget.IntSlider"
   ]
  },
  {
   "cell_type": "code",
   "execution_count": 26,
   "metadata": {},
   "outputs": [
    {
     "data": {
      "application/vnd.jupyter.widget-view+json": {
       "model_id": "dc80a5c6-d31a-4ca5-a8d2-71f70597c8af",
       "version_major": 2,
       "version_minor": 0
      },
      "method": "display_data"
     },
     "metadata": {},
     "output_type": "display_data"
    }
   ],
   "source": [
    "(new IntSlider)"
   ]
  }
 ],
 "metadata": {
  "beakerx_kernel_parameters": {},
  "kernelspec": {
   "display_name": "Clojure",
   "language": "clojure",
   "name": "clojure"
  },
  "language_info": {
   "codemirror_mode": "Clojure",
   "file_extension": ".clj",
   "mimetype": "text/x-clojure",
   "name": "Clojure",
   "nbconverter_exporter": "",
   "version": "1.9.0"
  },
  "toc": {
   "base_numbering": 1,
   "nav_menu": {},
   "number_sections": false,
   "sideBar": false,
   "skip_h1_title": false,
   "title_cell": "Table of Contents",
   "title_sidebar": "Contents",
   "toc_cell": false,
   "toc_position": {},
   "toc_section_display": false,
   "toc_window_display": false
  }
 },
 "nbformat": 4,
 "nbformat_minor": 2
}
