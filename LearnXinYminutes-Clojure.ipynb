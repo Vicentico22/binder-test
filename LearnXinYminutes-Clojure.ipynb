{
 "cells": [
  {
   "cell_type": "markdown",
   "metadata": {},
   "source": [
    "# Learn Clojure in Y minutes\n",
    "\n",
    "Adapted from [LearnXinYminutes clojure](https://learnxinyminutes.com/docs/clojure/)"
   ]
  },
  {
   "cell_type": "markdown",
   "metadata": {},
   "source": [
    "Comments start with semicolons.\n",
    "Clojure is written in \"forms\", which are just lists of things inside parentheses, separated by whitespace.\n",
    "\n",
    "The clojure reader assumes that the first thing is a function or macro to call, and the rest are arguments."
   ]
  },
  {
   "cell_type": "code",
   "execution_count": 1,
   "metadata": {},
   "outputs": [
    {
     "data": {
      "text/plain": [
       "Hello world !"
      ]
     },
     "execution_count": 1,
     "metadata": {},
     "output_type": "execute_result"
    }
   ],
   "source": [
    ";; this is a comment\n",
    "\"Hello world !\";; replace with values of other types"
   ]
  },
  {
   "cell_type": "markdown",
   "metadata": {},
   "source": [
    "one can get the class of a value by using the `class` function"
   ]
  },
  {
   "cell_type": "code",
   "execution_count": 2,
   "metadata": {},
   "outputs": [
    {
     "data": {
      "text/plain": [
       "class java.lang.Double"
      ]
     },
     "execution_count": 2,
     "metadata": {},
     "output_type": "execute_result"
    }
   ],
   "source": [
    "(class 1.) ;; replace with values of other types"
   ]
  },
  {
   "cell_type": "markdown",
   "metadata": {},
   "source": [
    "`str` will create a string out of all its arguments"
   ]
  },
  {
   "cell_type": "code",
   "execution_count": 3,
   "metadata": {},
   "outputs": [
    {
     "data": {
      "text/plain": [
       "Hello World 1"
      ]
     },
     "execution_count": 3,
     "metadata": {},
     "output_type": "execute_result"
    }
   ],
   "source": [
    "(str \"Hello\" \" \" \"World\" \\space 1)"
   ]
  },
  {
   "cell_type": "markdown",
   "metadata": {},
   "source": [
    "keywords are [interned strings](https://en.wikipedia.org/wiki/String_interning) which guarantees that equal keywords are identical, so that testing for equality is done much more efficiently by testing for identity"
   ]
  },
  {
   "cell_type": "code",
   "execution_count": 4,
   "metadata": {},
   "outputs": [
    {
     "data": {
      "text/plain": [
       "true"
      ]
     },
     "execution_count": 4,
     "metadata": {},
     "output_type": "execute_result"
    }
   ],
   "source": [
    "(identical? (keyword (str \"a\" \\- \"keyword\")) :a-keyword)"
   ]
  },
  {
   "cell_type": "markdown",
   "metadata": {},
   "source": [
    "Arithmetic operators are just functions, which might not be nice on the eye, but is much more simple."
   ]
  },
  {
   "cell_type": "code",
   "execution_count": 5,
   "metadata": {},
   "outputs": [
    {
     "data": {
      "text/plain": [
       "2"
      ]
     },
     "execution_count": 5,
     "metadata": {},
     "output_type": "execute_result"
    }
   ],
   "source": [
    "(+ 1 1) ;; try other functions and other numbers of arguments"
   ]
  },
  {
   "cell_type": "markdown",
   "metadata": {},
   "source": [
    "Of course the function calls can be composed"
   ]
  },
  {
   "cell_type": "code",
   "execution_count": 6,
   "metadata": {},
   "outputs": [
    {
     "data": {
      "text/plain": [
       "class clojure.lang.Ratio"
      ]
     },
     "execution_count": 6,
     "metadata": {},
     "output_type": "execute_result"
    }
   ],
   "source": [
    "(class (/ 2 3))"
   ]
  },
  {
   "cell_type": "markdown",
   "metadata": {},
   "source": [
    "Equality can be tested with [=](https://clojuredocs.org/clojure.core/%3D) or [==](https://clojuredocs.org/clojure.core/%3D%3D)"
   ]
  },
  {
   "cell_type": "code",
   "execution_count": 7,
   "metadata": {},
   "outputs": [
    {
     "data": {
      "text/plain": [
       "false"
      ]
     },
     "execution_count": 7,
     "metadata": {},
     "output_type": "execute_result"
    }
   ],
   "source": [
    "(= 1 1.)"
   ]
  },
  {
   "cell_type": "markdown",
   "metadata": {},
   "source": [
    "Testing if objects are identical is also useful. Boolean predicates in clojure have a name ending with `?` by convention."
   ]
  },
  {
   "cell_type": "code",
   "execution_count": 8,
   "metadata": {},
   "outputs": [
    {
     "data": {
      "text/plain": [
       "false"
      ]
     },
     "execution_count": 8,
     "metadata": {},
     "output_type": "execute_result"
    }
   ],
   "source": [
    "(identical? \"a string\" (str \\a \\space \"string\"))"
   ]
  },
  {
   "cell_type": "code",
   "execution_count": 9,
   "metadata": {},
   "outputs": [
    {
     "data": {
      "text/plain": [
       "true"
      ]
     },
     "execution_count": 9,
     "metadata": {},
     "output_type": "execute_result"
    }
   ],
   "source": [
    "(identical? (keyword \"a string\") (keyword (str \\a \\space \"string\")))"
   ]
  },
  {
   "cell_type": "markdown",
   "metadata": {},
   "source": [
    "`false` and `nil` are false values when testing fro truthiness"
   ]
  },
  {
   "cell_type": "code",
   "execution_count": 10,
   "metadata": {},
   "outputs": [
    {
     "data": {
      "text/plain": [
       ":f"
      ]
     },
     "execution_count": 10,
     "metadata": {},
     "output_type": "execute_result"
    }
   ],
   "source": [
    "(if nil :t :f) ;; btw what is (class nil) ?"
   ]
  },
  {
   "cell_type": "markdown",
   "metadata": {},
   "source": [
    "Any other value is true, even if it is a `Boolean` equals to (but not identical !) `false` !"
   ]
  },
  {
   "cell_type": "code",
   "execution_count": 11,
   "metadata": {},
   "outputs": [
    {
     "data": {
      "text/plain": [
       ":t"
      ]
     },
     "execution_count": 11,
     "metadata": {},
     "output_type": "execute_result"
    }
   ],
   "source": [
    ";; (= (Boolean. false) false)\n",
    " (if (Boolean. false) :t :f)"
   ]
  },
  {
   "cell_type": "markdown",
   "metadata": {},
   "source": [
    "To convert the `Boolean` value to `true` or `false`, you can use the [boolean](https://clojuredocs.org/clojure.core/boolean) function"
   ]
  },
  {
   "cell_type": "code",
   "execution_count": 12,
   "metadata": {},
   "outputs": [
    {
     "data": {
      "text/plain": [
       ":f"
      ]
     },
     "execution_count": 12,
     "metadata": {},
     "output_type": "execute_result"
    }
   ],
   "source": [
    "(if (boolean (Boolean. false)) :t :f)"
   ]
  },
  {
   "cell_type": "markdown",
   "metadata": {},
   "source": [
    "Of course, you have the expected boolean functions [and](https://clojuredocs.org/clojure.core/and) [or](https://clojuredocs.org/clojure.core/or) , [not](https://clojuredocs.org/clojure.core/and)"
   ]
  },
  {
   "cell_type": "code",
   "execution_count": 13,
   "metadata": {},
   "outputs": [
    {
     "data": {
      "text/plain": [
       "true"
      ]
     },
     "execution_count": 13,
     "metadata": {},
     "output_type": "execute_result"
    }
   ],
   "source": [
    "(not (and true false))"
   ]
  },
  {
   "cell_type": "markdown",
   "metadata": {},
   "source": [
    "**Homoiconicity** means that or code is made of lists, which, while not very pleasing on the eye at first, will be immensely useful for macros. Function calls are represented by lists, the first element being the funtcion and the rest being the arguments. However, one can also write a list as a list and prevent it from being evaluated by prefixing it with a single quote `'` quite is a shorthand for the [quote](https://clojuredocs.org/clojure.core/quote) form. (Why can't `quote` be a function ?)"
   ]
  },
  {
   "cell_type": "code",
   "execution_count": 14,
   "metadata": {},
   "outputs": [
    {
     "data": {
      "text/plain": [
       "(+ 1 2)"
      ]
     },
     "execution_count": 14,
     "metadata": {},
     "output_type": "execute_result"
    }
   ],
   "source": [
    "(str '(+ 1 2));; what is (class '(+ 2 3)) ?"
   ]
  },
  {
   "cell_type": "code",
   "execution_count": 15,
   "metadata": {},
   "outputs": [
    {
     "data": {
      "text/plain": [
       "(+ 1 2)"
      ]
     },
     "execution_count": 15,
     "metadata": {},
     "output_type": "execute_result"
    }
   ],
   "source": [
    "(str (quote (+ 1 2)))"
   ]
  },
  {
   "cell_type": "markdown",
   "metadata": {},
   "source": [
    "When you want to evaluate a list, you can call [eval](https://clojuredocs.org/clojure.core/eval) on it"
   ]
  },
  {
   "cell_type": "code",
   "execution_count": 16,
   "metadata": {},
   "outputs": [
    {
     "data": {
      "text/plain": [
       "5"
      ]
     },
     "execution_count": 16,
     "metadata": {},
     "output_type": "execute_result"
    }
   ],
   "source": [
    "(eval (quote (+ 2 3)))"
   ]
  },
  {
   "cell_type": "markdown",
   "metadata": {},
   "source": [
    "## Collections and sequences\n",
    "### Lists\n",
    "As we saw, lists have to be quoted if we are to use them as data structures instead of code.\n",
    "One can efficiently prepend on a list using the [cons](https://clojuredocs.org/clojure.core/cons) function.\n",
    "The [first](https://clojuredocs.org/clojure.core/first) returns the first element of a list and the [rest](https://clojuredocs.org/clojure.core/rest) function returns all but the first element of the list."
   ]
  },
  {
   "cell_type": "code",
   "execution_count": 17,
   "metadata": {},
   "outputs": [
    {
     "data": {
      "text/plain": [
       "5"
      ]
     },
     "execution_count": 17,
     "metadata": {},
     "output_type": "execute_result"
    }
   ],
   "source": [
    "(eval (cons + '( 2 3)))"
   ]
  },
  {
   "cell_type": "markdown",
   "metadata": {},
   "source": [
    "Lists can also be created with the [list](https://clojuredocs.org/clojure.core/list) function"
   ]
  },
  {
   "cell_type": "code",
   "execution_count": 18,
   "metadata": {},
   "outputs": [
    {
     "data": {
      "text/plain": [
       "3"
      ]
     },
     "execution_count": 18,
     "metadata": {},
     "output_type": "execute_result"
    }
   ],
   "source": [
    "(eval (list + 1 2))"
   ]
  },
  {
   "cell_type": "code",
   "execution_count": 19,
   "metadata": {},
   "outputs": [
    {
     "data": {
      "text/plain": [
       "[2, 3]"
      ]
     },
     "execution_count": 19,
     "metadata": {},
     "output_type": "execute_result"
    }
   ],
   "source": [
    "(rest '(+ 2 3));; btw what is the class of '(+ 2 3) ? And what is the class of (rest '(+ 2 3)) ?"
   ]
  },
  {
   "cell_type": "markdown",
   "metadata": {},
   "source": [
    "## Vectors\n",
    "Vectors allow efficient random access (with [nth](https://clojuredocs.org/clojure.core/nth) or\n",
    "[get](https://clojuredocs.org/clojure.core/get) depending whether we want to throw an exception or return `nil` on\n",
    "out of bounds indices)\n",
    "and efficiently appending with [conj](https://clojuredocs.org/clojure.core/conj).\n",
    "\n",
    "Vectors can be declared inline with `[]` or the [vector](https://clojuredocs.org/clojure.core/vector) function.\n",
    "\n",
    "\n",
    "*Note*: [conj](https://clojuredocs.org/clojure.core/conj) can also be used on other collections such as lists and always\n",
    "adds the element at the most efficient place. So for lists it would be at the beginning like [cons](https://clojuredocs.org/clojure.core/cons)."
   ]
  },
  {
   "cell_type": "code",
   "execution_count": 20,
   "metadata": {},
   "outputs": [
    {
     "data": {
      "text/plain": [
       "[0, 1, 2, 3, a string]"
      ]
     },
     "execution_count": 20,
     "metadata": {},
     "output_type": "execute_result"
    }
   ],
   "source": [
    "(conj [0 1 2 3] \"a string\");; what is the class of [] ?"
   ]
  },
  {
   "cell_type": "markdown",
   "metadata": {},
   "source": [
    "## Collections\n",
    "Lists and vectors (among other data structures) are collections (as can be tested with the predicate [coll?](https://clojuredocs.org/clojure.core/coll?), which means that we can call the following functions\n",
    "on them :\n",
    " * [=](https://clojuredocs.org/clojure.core/=)\n",
    " * [count](https://clojuredocs.org/clojure.core/count)\n",
    " * [conj](https://clojuredocs.org/clojure.core/conj)\n",
    " * [empty](https://clojuredocs.org/clojure.core/empty)\n",
    " * [seq](https://clojuredocs.org/clojure.core/seq) → for sequences, cf. infra"
   ]
  },
  {
   "cell_type": "code",
   "execution_count": 21,
   "metadata": {},
   "outputs": [
    {
     "data": {
      "text/plain": [
       "true"
      ]
     },
     "execution_count": 21,
     "metadata": {},
     "output_type": "execute_result"
    }
   ],
   "source": [
    "(= [1 2 3] '(1 2 3))"
   ]
  },
  {
   "cell_type": "markdown",
   "metadata": {},
   "source": [
    "### Sequences\n",
    "[Sequences](https://clojure.org/reference/sequences) are an abstraction over data that can be iterated on using [first](https://clojuredocs.org/clojure.core/first) and [rest](https://clojuredocs.org/clojure.core/rest) or prepended to using [cons](https://clojuredocs.org/clojure.core/count).\n",
    "\n",
    "Lists are already sequences, and so are results of various functions. One can make a sequence over the elements of any collections with the [seq](https://clojuredocs.org/clojure.core/seq) function and test if a value is a sequence using the [seq?](https://clojuredocs.org/clojure.core/seq?)"
   ]
  },
  {
   "cell_type": "code",
   "execution_count": 22,
   "metadata": {},
   "outputs": [
    {
     "data": {
      "text/plain": [
       "false"
      ]
     },
     "execution_count": 22,
     "metadata": {},
     "output_type": "execute_result"
    }
   ],
   "source": [
    "(seq? [1 2]);; what about a list ?"
   ]
  },
  {
   "cell_type": "code",
   "execution_count": 23,
   "metadata": {},
   "outputs": [
    {
     "data": {
      "text/plain": [
       "true"
      ]
     },
     "execution_count": 23,
     "metadata": {},
     "output_type": "execute_result"
    }
   ],
   "source": [
    "(let[xs '(1 2 3)]          ;; what about a vector ?\n",
    " (identical? (seq xs) xs))"
   ]
  },
  {
   "cell_type": "markdown",
   "metadata": {},
   "source": [
    "Some sequences are lazy and can be infinite (you don't want to print them !)"
   ]
  },
  {
   "cell_type": "code",
   "execution_count": 24,
   "metadata": {},
   "outputs": [
    {
     "data": {
      "text/plain": [
       "[2, 3, 4, 5, 6, 7, 8, 9, 10, 11]"
      ]
     },
     "execution_count": 24,
     "metadata": {},
     "output_type": "execute_result"
    }
   ],
   "source": [
    "(drop 2 (take 12 (range))) ;; check that (range) returns a sequence"
   ]
  },
  {
   "cell_type": "markdown",
   "metadata": {},
   "source": [
    "One can [concat](https://clojuredocs.org/clojure.core/concat) collections "
   ]
  },
  {
   "cell_type": "code",
   "execution_count": 25,
   "metadata": {},
   "outputs": [
    {
     "data": {
      "text/plain": [
       "[1, 2, 3, 10, 20, 30, 40, 1]"
      ]
     },
     "execution_count": 25,
     "metadata": {},
     "output_type": "execute_result"
    }
   ],
   "source": [
    "(concat '(1 2 3) [10 20 30 40] '(1))"
   ]
  },
  {
   "cell_type": "markdown",
   "metadata": {},
   "source": [
    "## Functions on sequences or collections\n",
    "### Filter\n",
    "One can [filter](https://clojuredocs.org/clojure.core/filter) values according to a predicate"
   ]
  },
  {
   "cell_type": "code",
   "execution_count": 26,
   "metadata": {},
   "outputs": [
    {
     "data": {
      "text/plain": [
       "[1, 3, 5, 7, 9]"
      ]
     },
     "execution_count": 26,
     "metadata": {},
     "output_type": "execute_result"
    }
   ],
   "source": [
    "(take 5 (filter odd? (range)))"
   ]
  },
  {
   "cell_type": "markdown",
   "metadata": {},
   "source": [
    "### Map\n",
    "Not to be confused with the map data structure (cf. infra) that is an association table, one can [map](https://clojuredocs.org/clojure.core/map) a function on a sequence or collection of values. The result is lazy so it is possible to [map](https://clojuredocs.org/clojure.core/map) on an infinite (lazy) sequence."
   ]
  },
  {
   "cell_type": "code",
   "execution_count": 27,
   "metadata": {},
   "outputs": [
    {
     "data": {
      "text/plain": [
       "[1, -9, 4]"
      ]
     },
     "execution_count": 27,
     "metadata": {},
     "output_type": "execute_result"
    }
   ],
   "source": [
    "(map inc [0 -10 3]) ;; what is the class of the result ?"
   ]
  },
  {
   "cell_type": "code",
   "execution_count": 28,
   "metadata": {},
   "outputs": [
    {
     "data": {
      "text/plain": [
       "[1, -9, 4]"
      ]
     },
     "execution_count": 28,
     "metadata": {},
     "output_type": "execute_result"
    }
   ],
   "source": [
    "[(inc 0) (inc -10) (inc 3)];; "
   ]
  },
  {
   "cell_type": "markdown",
   "metadata": {},
   "source": [
    "It is possible to `map` a function taking more than one arguments on the same number of sequences/collections."
   ]
  },
  {
   "cell_type": "code",
   "execution_count": 29,
   "metadata": {},
   "outputs": [
    {
     "data": {
      "text/plain": [
       "[0, 4, 8]"
      ]
     },
     "execution_count": 29,
     "metadata": {},
     "output_type": "execute_result"
    }
   ],
   "source": [
    "(map + [1 2 3] '(-1 2 5))  ;;what if they don't have the same size ?"
   ]
  },
  {
   "cell_type": "markdown",
   "metadata": {},
   "source": [
    "### Reduce\n",
    "[reduce](https://clojuredocs.org/clojure.core/reduce) repeatedly calls a function on the same first argument taking the second argument values from the given sequence / collection."
   ]
  },
  {
   "cell_type": "code",
   "execution_count": 30,
   "metadata": {},
   "outputs": [
    {
     "data": {
      "text/plain": [
       "[0, 1, 2, 3]"
      ]
     },
     "execution_count": 30,
     "metadata": {},
     "output_type": "execute_result"
    }
   ],
   "source": [
    "(reduce conj [] [0 1 2 3]) ;; What if the given first argument is a list ? What if the second is a list ?"
   ]
  },
  {
   "cell_type": "code",
   "execution_count": 31,
   "metadata": {},
   "outputs": [
    {
     "data": {
      "text/plain": [
       "[0, 1, 2, 3]"
      ]
     },
     "execution_count": 31,
     "metadata": {},
     "output_type": "execute_result"
    }
   ],
   "source": [
    "(conj (conj (conj (conj [] 0) 1) 2) 3)"
   ]
  },
  {
   "cell_type": "markdown",
   "metadata": {},
   "source": [
    "## Functions\n",
    "[fn](https://clojuredocs.org/clojure.core/fn) declare an anonymous function, parameters are written in a vector\n",
    ", the function returns the last value"
   ]
  },
  {
   "cell_type": "code",
   "execution_count": 32,
   "metadata": {},
   "outputs": [
    {
     "data": {
      "text/plain": [
       "beaker_clojure_shell_1245a362_c7c8_4f8a_ae19_9aa9d34b780c$eval230$fn__231@49ee9f5a"
      ]
     },
     "execution_count": 32,
     "metadata": {},
     "output_type": "execute_result"
    }
   ],
   "source": [
    "(fn[] \"Hello world !\")"
   ]
  },
  {
   "cell_type": "markdown",
   "metadata": {},
   "source": [
    "The declared finction can be called as usual"
   ]
  },
  {
   "cell_type": "code",
   "execution_count": 33,
   "metadata": {},
   "outputs": [
    {
     "data": {
      "text/plain": [
       "Hello world!"
      ]
     },
     "execution_count": 33,
     "metadata": {},
     "output_type": "execute_result"
    }
   ],
   "source": [
    "((fn[] \"Hello world!\")) ;; note the surrounding ()"
   ]
  },
  {
   "cell_type": "code",
   "execution_count": 34,
   "metadata": {},
   "outputs": [
    {
     "data": {
      "text/plain": [
       "Hello Rich !"
      ]
     },
     "execution_count": 34,
     "metadata": {},
     "output_type": "execute_result"
    }
   ],
   "source": [
    "((fn[name] (str \"Hello \" name \" !\")) \"Rich\")"
   ]
  },
  {
   "cell_type": "markdown",
   "metadata": {},
   "source": [
    "## Closure : captured bindings\n",
    "Functions can close over their lexical scope to capture bindings. This allows to keep some data used by functions available for later executions of the function."
   ]
  },
  {
   "cell_type": "code",
   "execution_count": 35,
   "metadata": {},
   "outputs": [
    {
     "data": {
      "text/plain": [
       "3"
      ]
     },
     "execution_count": 35,
     "metadata": {},
     "output_type": "execute_result"
    }
   ],
   "source": [
    "(defn adder[to-add]\n",
    "    #(+ % to-add)) ;; just a toy example, should use 'partial' function instead\n",
    "(def adding-two (adder 2))\n",
    "(def adding-five (adder 5))\n",
    "\n",
    "(adding-two 1)    "
   ]
  },
  {
   "cell_type": "markdown",
   "metadata": {},
   "source": [
    "## let : local bindihttps://clojuredocs.org/clojure.core/letngs\n",
    "In the same way that9 arguments bind to the values passed to the function call, it is possible to bind local *symbols*\n",
    "to values with [let](https://clojuredocs.org/clojure.core/let), so as to decompose expressions and reuse sub-expressions and/or name sub-expressions."
   ]
  },
  {
   "cell_type": "code",
   "execution_count": 2,
   "metadata": {},
   "outputs": [
    {
     "data": {
      "text/plain": [
       "#'beaker_clojure_shell_20dc0ed2-af9d-44dd-a268-eb5b49a731d1/roots"
      ]
     },
     "execution_count": 2,
     "metadata": {},
     "output_type": "execute_result"
    }
   ],
   "source": [
    "(defn roots[ a b c]\n",
    "(let[delta (- (* b b) (* 4 a c))]\n",
    "(when (>= delta 0)\n",
    "    (let[sqrt-delta (Math/sqrt delta)\n",
    "         denominator (* -2 a)]\n",
    "    [(/ (+ b sqrt-delta) denominator)\n",
    "     (/ (- b sqrt-delta) denominator)]))))"
   ]
  },
  {
   "cell_type": "code",
   "execution_count": 4,
   "metadata": {},
   "outputs": [
    {
     "data": {
      "text/plain": [
       "[NaN, NaN]"
      ]
     },
     "execution_count": 4,
     "metadata": {},
     "output_type": "execute_result"
    }
   ],
   "source": [
    "(roots 0 0 0)"
   ]
  },
  {
   "cell_type": "markdown",
   "metadata": {},
   "source": [
    "## Vars\n",
    "One defines a global [var](https://clojure.org/reference/vars) with [def](https://clojuredocs.org/clojure.core/def)"
   ]
  },
  {
   "cell_type": "code",
   "execution_count": 36,
   "metadata": {},
   "outputs": [
    {
     "data": {
      "text/plain": [
       "#'beaker_clojure_shell_1245a362-c7c8-4f8a-ae19-9aa9d34b780c/pi"
      ]
     },
     "execution_count": 36,
     "metadata": {},
     "output_type": "execute_result"
    }
   ],
   "source": [
    "(def pi 3.1415927535) ;; use Math/pi instead"
   ]
  },
  {
   "cell_type": "code",
   "execution_count": 37,
   "metadata": {},
   "outputs": [
    {
     "data": {
      "text/plain": [
       "3.1415927535"
      ]
     },
     "execution_count": 37,
     "metadata": {},
     "output_type": "execute_result"
    }
   ],
   "source": [
    "pi"
   ]
  },
  {
   "cell_type": "markdown",
   "metadata": {},
   "source": [
    "A var can be bound to a function"
   ]
  },
  {
   "cell_type": "code",
   "execution_count": 38,
   "metadata": {},
   "outputs": [
    {
     "data": {
      "text/plain": [
       "Hello Rich !"
      ]
     },
     "execution_count": 38,
     "metadata": {},
     "output_type": "execute_result"
    }
   ],
   "source": [
    "(def greeting (fn [name] (str \"Hello \" name \" !\")))\n",
    "(greeting \"Rich\")"
   ]
  },
  {
   "cell_type": "markdown",
   "metadata": {},
   "source": [
    "[defn](https://clojuredocs.org/clojure.core/defn) is a shorter way to defined a function and bind a var to it at once."
   ]
  },
  {
   "cell_type": "code",
   "execution_count": 39,
   "metadata": {},
   "outputs": [
    {
     "data": {
      "text/plain": [
       "Hello Rich !"
      ]
     },
     "execution_count": 39,
     "metadata": {},
     "output_type": "execute_result"
    }
   ],
   "source": [
    "(defn greeting [name] \n",
    "    (str \"Hello \" name \" !\"))\n",
    "(greeting \"Rich\")"
   ]
  },
  {
   "cell_type": "markdown",
   "metadata": {},
   "source": [
    "Anonymous functions can also be defined with a [syntactic sugar](https://en.wikipedia.org/wiki/Syntactic_sugar)"
   ]
  },
  {
   "cell_type": "code",
   "execution_count": 40,
   "metadata": {},
   "outputs": [
    {
     "data": {
      "text/plain": [
       "[Hello Rich !, Hello Linus !]"
      ]
     },
     "execution_count": 40,
     "metadata": {},
     "output_type": "execute_result"
    }
   ],
   "source": [
    "(map #(str \"Hello \" %1 \" !\") [\"Rich\" \"Linus\"])"
   ]
  },
  {
   "cell_type": "markdown",
   "metadata": {},
   "source": [
    "One can define multi-variadic functions"
   ]
  },
  {
   "cell_type": "code",
   "execution_count": 41,
   "metadata": {},
   "outputs": [
    {
     "data": {
      "text/plain": [
       "Hello World"
      ]
     },
     "execution_count": 41,
     "metadata": {},
     "output_type": "execute_result"
    }
   ],
   "source": [
    "(defn hello3\n",
    "  ([] \"Hello World\")\n",
    "  ([name] (str \"Hello \" name)))\n",
    "(hello3)"
   ]
  },
  {
   "cell_type": "code",
   "execution_count": 42,
   "metadata": {},
   "outputs": [
    {
     "data": {
      "text/plain": [
       "Hello Rich"
      ]
     },
     "execution_count": 42,
     "metadata": {},
     "output_type": "execute_result"
    }
   ],
   "source": [
    "(hello3 \"Rich\")"
   ]
  },
  {
   "cell_type": "markdown",
   "metadata": {},
   "source": [
    "Functions can pack the remaining arguments, if any, in a sequence using `&` at the end of the argument list"
   ]
  },
  {
   "cell_type": "code",
   "execution_count": 43,
   "metadata": {},
   "outputs": [
    {
     "data": {
      "text/plain": [
       "You passed 3 args: (1 2 3)"
      ]
     },
     "execution_count": 43,
     "metadata": {},
     "output_type": "execute_result"
    }
   ],
   "source": [
    "(defn count-args [& args]\n",
    "  (str \"You passed \" (count args) \" args: \" args))\n",
    "(count-args 1 2 3)"
   ]
  },
  {
   "cell_type": "code",
   "execution_count": 44,
   "metadata": {},
   "outputs": [
    {
     "data": {
      "text/plain": [
       "Hello Richard, you passed 3 extra args"
      ]
     },
     "execution_count": 44,
     "metadata": {},
     "output_type": "execute_result"
    }
   ],
   "source": [
    "(defn hello-count [name & args]\n",
    "  (str \"Hello \" name \", you passed \" (count args) \" extra args\"))\n",
    "(hello-count \"Richard\" 1 2 3)"
   ]
  },
  {
   "cell_type": "markdown",
   "metadata": {},
   "source": [
    "## Maps\n",
    "Maps are associative collections. Any type ca be used as key or value, but keywords make for very efficient keys (thanks to interning). They can be written using curly braces `{}` or with the [array-map](https://clojuredocs.org/clojure.core/array-map) or the [hash-map](https://clojuredocs.org/clojure.core/hash-map) functions. Hash maps are more efficient for large maps and are created as needed for large maps."
   ]
  },
  {
   "cell_type": "code",
   "execution_count": 45,
   "metadata": {},
   "outputs": [
    {
     "data": {
      "text/plain": [
       "class clojure.lang.PersistentArrayMap"
      ]
     },
     "execution_count": 45,
     "metadata": {},
     "output_type": "execute_result"
    }
   ],
   "source": [
    "(class {1 \"one\" :two 2. false 3})"
   ]
  },
  {
   "cell_type": "code",
   "execution_count": 46,
   "metadata": {},
   "outputs": [
    {
     "data": {
      "text/plain": [
       "class clojure.lang.PersistentHashMap"
      ]
     },
     "execution_count": 46,
     "metadata": {},
     "output_type": "execute_result"
    }
   ],
   "source": [
    "(def test-map (hash-map 0 false \"one\" :one))\n",
    "(class test-map)"
   ]
  },
  {
   "cell_type": "markdown",
   "metadata": {},
   "source": [
    "maps can be used as functions on a key to retrieve the associated value"
   ]
  },
  {
   "cell_type": "code",
   "execution_count": 47,
   "metadata": {},
   "outputs": [
    {
     "data": {
      "text/plain": [
       ":one"
      ]
     },
     "execution_count": 47,
     "metadata": {},
     "output_type": "execute_result"
    }
   ],
   "source": [
    "(test-map \"one\") ;; what if the key is missing ?"
   ]
  },
  {
   "cell_type": "markdown",
   "metadata": {},
   "source": [
    "Keywords can be used as functions to retrieve value from a map"
   ]
  },
  {
   "cell_type": "code",
   "execution_count": 48,
   "metadata": {},
   "outputs": [
    {
     "data": {
      "text/plain": [
       "[-1, 2]"
      ]
     },
     "execution_count": 48,
     "metadata": {},
     "output_type": "execute_result"
    }
   ],
   "source": [
    "(def a-map {:a [1] :c [] :b [2] :e [-1 2]})\n",
    "(:e a-map)"
   ]
  },
  {
   "cell_type": "markdown",
   "metadata": {},
   "source": [
    "[assoc](https://clojuredocs.org/clojure.core/assoc) can \"add\" keys and values to a map (actually, returning a new immutable map) "
   ]
  },
  {
   "cell_type": "code",
   "execution_count": 49,
   "metadata": {},
   "outputs": [
    {
     "data": {
      "application/vnd.jupyter.widget-view+json": {
       "model_id": "b76d8c89-be7d-4ea9-9c06-3ef8a0a20758",
       "version_major": 2,
       "version_minor": 0
      },
      "method": "display_data"
     },
     "metadata": {},
     "output_type": "display_data"
    }
   ],
   "source": [
    "(assoc a-map :f [0 1]) ;; can you add more than one pair of key / value ?"
   ]
  },
  {
   "cell_type": "markdown",
   "metadata": {},
   "source": [
    "The data structure is not changed (it is *immutable*), `assoc` (efficiently) returned a new one"
   ]
  },
  {
   "cell_type": "code",
   "execution_count": 50,
   "metadata": {},
   "outputs": [
    {
     "data": {
      "application/vnd.jupyter.widget-view+json": {
       "model_id": "e39fb718-ca3b-4d15-bbe1-8996c842b5f5",
       "version_major": 2,
       "version_minor": 0
      },
      "method": "display_data"
     },
     "metadata": {},
     "output_type": "display_data"
    }
   ],
   "source": [
    "a-map"
   ]
  },
  {
   "cell_type": "code",
   "execution_count": 51,
   "metadata": {},
   "outputs": [
    {
     "data": {
      "application/vnd.jupyter.widget-view+json": {
       "model_id": "5f289a03-0daf-435b-bdfe-72cd1aa04557",
       "version_major": 2,
       "version_minor": 0
      },
      "method": "display_data"
     },
     "metadata": {},
     "output_type": "display_data"
    }
   ],
   "source": [
    "(dissoc a-map :b) ;; what if you have more than one key as arguments after the map ?"
   ]
  },
  {
   "cell_type": "markdown",
   "metadata": {},
   "source": [
    "Obviously, `dissoc` does not change the map either, it just returned a new map"
   ]
  },
  {
   "cell_type": "code",
   "execution_count": 52,
   "metadata": {},
   "outputs": [
    {
     "data": {
      "application/vnd.jupyter.widget-view+json": {
       "model_id": "ffd56bc2-9bd0-45c6-bde1-ee64f8eee498",
       "version_major": 2,
       "version_minor": 0
      },
      "method": "display_data"
     },
     "metadata": {},
     "output_type": "display_data"
    }
   ],
   "source": [
    "a-map"
   ]
  },
  {
   "cell_type": "markdown",
   "metadata": {},
   "source": [
    "### Sets\n",
    "Sets are collections that remove dupplicates and allow for efficiently testing if the collection contains a given value. They can be written with curly braces prefixed by a hash `#{}` or with the [hash-set](https://clojuredocs.org/clojure.core/hash-set) or the [sorted-set](https://clojuredocs.org/clojure.core/sorted-set) functions or the [sorted-set-by](https://clojuredocs.org/clojure.core/sorted-set-by) variant that allows to specify a comparison function. The [set](https://clojuredocs.org/clojure.core/set) function takes a collection as an argument instead of values."
   ]
  },
  {
   "cell_type": "code",
   "execution_count": 53,
   "metadata": {},
   "outputs": [
    {
     "data": {
      "text/plain": [
       "class clojure.lang.PersistentHashSet"
      ]
     },
     "execution_count": 53,
     "metadata": {},
     "output_type": "execute_result"
    }
   ],
   "source": [
    "(class #{1 2 3})"
   ]
  },
  {
   "cell_type": "code",
   "execution_count": 54,
   "metadata": {},
   "outputs": [
    {
     "data": {
      "text/plain": [
       "[1, 3, 2]"
      ]
     },
     "execution_count": 54,
     "metadata": {},
     "output_type": "execute_result"
    }
   ],
   "source": [
    "(hash-set 1 2 3 1 2 3 3 2 1 3 2 1)"
   ]
  },
  {
   "cell_type": "code",
   "execution_count": 55,
   "metadata": {},
   "outputs": [
    {
     "data": {
      "text/plain": [
       "class clojure.lang.PersistentHashSet"
      ]
     },
     "execution_count": 55,
     "metadata": {},
     "output_type": "execute_result"
    }
   ],
   "source": [
    "(class (set [1 2 3 1 2 3 3 2 1 3 2 1]));;"
   ]
  },
  {
   "cell_type": "markdown",
   "metadata": {},
   "source": [
    "As with other collections, one can add a value (actually, returning a new set with the added value, because/thanks to immutability) with [conj](https://clojuredocs.org/clojure.core/conj)."
   ]
  },
  {
   "cell_type": "code",
   "execution_count": 56,
   "metadata": {},
   "outputs": [
    {
     "data": {
      "text/plain": [
       "[1, 4, 3, 2]"
      ]
     },
     "execution_count": 56,
     "metadata": {},
     "output_type": "execute_result"
    }
   ],
   "source": [
    "(conj #{1 2 3} 4) ;; what if the value was already in the set ?"
   ]
  },
  {
   "cell_type": "markdown",
   "metadata": {},
   "source": [
    "One can remove (actually, return a new set with the value removed, because/ thanks to immutability) with [disj](https://clojuredocs.org/clojure.core/sorted-set-by)."
   ]
  },
  {
   "cell_type": "code",
   "execution_count": 57,
   "metadata": {},
   "outputs": [
    {
     "data": {
      "text/plain": [
       "[1, 3]"
      ]
     },
     "execution_count": 57,
     "metadata": {},
     "output_type": "execute_result"
    }
   ],
   "source": [
    "(disj #{1 3 2} 2)"
   ]
  },
  {
   "cell_type": "markdown",
   "metadata": {},
   "source": [
    "One can use the set as a function that will test is the argument is contained by the set."
   ]
  },
  {
   "cell_type": "code",
   "execution_count": 58,
   "metadata": {},
   "outputs": [
    {
     "data": {
      "text/plain": [
       "3"
      ]
     },
     "execution_count": 58,
     "metadata": {},
     "output_type": "execute_result"
    }
   ],
   "source": [
    "(#{1 3 2} 3) ;; what is returned when the value is in the set ? What is returned when it is not ?"
   ]
  },
  {
   "cell_type": "markdown",
   "metadata": {},
   "source": [
    "## Destructuring\n",
    "Oftentimes,sequences (e.g vectors) or maps are used as arguments or returned values and we want to extract\n",
    "the content of these data structures to bind arguments or local bindings (cf `(let[])`).\n",
    "\n",
    "[Destructuring](https://clojure.org/guides/destructuring) allows us to do that by using a data-structure literal\n",
    "(`[]` for sequences and `{}` for maps) when writing the bindings."
   ]
  },
  {
   "cell_type": "code",
   "execution_count": 101,
   "metadata": {},
   "outputs": [
    {
     "data": {
      "text/plain": [
       "3/2"
      ]
     },
     "execution_count": 101,
     "metadata": {},
     "output_type": "execute_result"
    }
   ],
   "source": [
    "(def seq-data [2 -1 4])\n",
    "(defn my-fun [a-vector]\n",
    "  (let[d (get a-vector 0)\n",
    "       a1 (get a-vector 1)\n",
    "       a2 (get a-vector 2)]\n",
    "    (/ (+ a1 a2) d)))\n",
    "\n",
    "(my-fun seq-data)"
   ]
  },
  {
   "cell_type": "code",
   "execution_count": 102,
   "metadata": {},
   "outputs": [
    {
     "data": {
      "text/plain": [
       "3/2"
      ]
     },
     "execution_count": 102,
     "metadata": {},
     "output_type": "execute_result"
    }
   ],
   "source": [
    "(defn my-fun [[d a1 a2]] ;; destructuring from a sequence, what if we pass an other type of sequence ?\n",
    "   (/ (+ a1 a2) d))\n",
    "(my-fun seq-data)"
   ]
  },
  {
   "cell_type": "code",
   "execution_count": 109,
   "metadata": {},
   "outputs": [
    {
     "data": {
      "text/plain": [
       "Super Co.\n",
       "Philadelphia - The worldwide leader in plastic tableware."
      ]
     },
     "execution_count": 109,
     "metadata": {},
     "output_type": "execute_result"
    }
   ],
   "source": [
    "(def client {:name \"Super Co.\"\n",
    "             :location \"Philadelphia\"\n",
    "             :description \"The worldwide leader in plastic tableware.\"})\n",
    "(defn my-fun [client-data]\n",
    "    (let [name (:name client)\n",
    "          location (:location client)\n",
    "          description (:description client)]\n",
    "        (str name \\newline location \" - \" description)))\n",
    "\n",
    "(my-fun client)"
   ]
  },
  {
   "cell_type": "code",
   "execution_count": 111,
   "metadata": {},
   "outputs": [
    {
     "data": {
      "text/plain": [
       "Super Co.\n",
       "Philadelphia - The worldwide leader in plastic tableware."
      ]
     },
     "execution_count": 111,
     "metadata": {},
     "output_type": "execute_result"
    }
   ],
   "source": [
    "(defn my-fun [{name :name\n",
    "       location :location\n",
    "       description :description}]\n",
    "       (str name \\newline location \" - \" description))\n",
    "(my-fun client)"
   ]
  },
  {
   "cell_type": "code",
   "execution_count": 113,
   "metadata": {},
   "outputs": [
    {
     "data": {
      "text/plain": [
       "Super Co.\n",
       "Philadelphia - The worldwide leader in plastic tableware."
      ]
     },
     "execution_count": 113,
     "metadata": {},
     "output_type": "execute_result"
    }
   ],
   "source": [
    "(defn my-fun [{:keys [name location description]}] ;; :keys because we use keywords as keys, :strs for string, :syms for symbols\n",
    "    (str name \\newline location \" - \" description))\n",
    "(my-fun client)   "
   ]
  },
  {
   "cell_type": "markdown",
   "metadata": {},
   "source": [
    "## Forms\n",
    "Besides functions call code can take other forms.\n",
    "### if\n",
    "`if` is a funtional test akin to the ternary operator of languages like C or Java."
   ]
  },
  {
   "cell_type": "code",
   "execution_count": 59,
   "metadata": {},
   "outputs": [
    {
     "data": {
      "text/plain": [
       "b"
      ]
     },
     "execution_count": 59,
     "metadata": {},
     "output_type": "execute_result"
    }
   ],
   "source": [
    "(if false \"a\" \"b\")"
   ]
  },
  {
   "cell_type": "code",
   "execution_count": 60,
   "metadata": {},
   "outputs": [
    {
     "data": {
      "text/plain": [
       "null"
      ]
     },
     "execution_count": 60,
     "metadata": {},
     "output_type": "execute_result"
    }
   ],
   "source": [
    "(if false \"a\")"
   ]
  },
  {
   "cell_type": "markdown",
   "metadata": {},
   "source": [
    "### let\n",
    "`let` allows for local (i.e. lexical scope) bindings."
   ]
  },
  {
   "cell_type": "code",
   "execution_count": 61,
   "metadata": {},
   "outputs": [
    {
     "data": {
      "text/plain": [
       "false"
      ]
     },
     "execution_count": 61,
     "metadata": {},
     "output_type": "execute_result"
    }
   ],
   "source": [
    "(let [a 1\n",
    "      b 2]\n",
    "  (> a b))"
   ]
  },
  {
   "cell_type": "markdown",
   "metadata": {},
   "source": [
    "### do\n",
    "`do` allows to group multiple expressions together and evaluates to the value of the last expression. It is mostly useful for expressions with side-effects."
   ]
  },
  {
   "cell_type": "code",
   "execution_count": 62,
   "metadata": {},
   "outputs": [
    {
     "name": "stdout",
     "output_type": "stream",
     "text": [
      "Hello"
     ]
    },
    {
     "data": {
      "text/plain": [
       "World"
      ]
     },
     "execution_count": 62,
     "metadata": {},
     "output_type": "execute_result"
    }
   ],
   "source": [
    "(do\n",
    "  (print \"Hello\")\n",
    "  (.flush *out*)\n",
    "  \"World\")"
   ]
  },
  {
   "cell_type": "markdown",
   "metadata": {},
   "source": [
    "Functions and `let` have an implicit `do` and can contain multiple expressions."
   ]
  },
  {
   "cell_type": "code",
   "execution_count": 63,
   "metadata": {},
   "outputs": [
    {
     "name": "stdout",
     "output_type": "stream",
     "text": [
      "Saying hello to  Jeff"
     ]
    },
    {
     "data": {
      "text/plain": [
       "Hello Jeff"
      ]
     },
     "execution_count": 63,
     "metadata": {},
     "output_type": "execute_result"
    }
   ],
   "source": [
    "(defn print-and-say-hello [name]\n",
    "  (print \"Saying hello to \" name)\n",
    "  (.flush *out*)\n",
    "  (str \"Hello \" name))\n",
    "(print-and-say-hello \"Jeff\")"
   ]
  },
  {
   "cell_type": "code",
   "execution_count": 64,
   "metadata": {},
   "outputs": [
    {
     "name": "stdout",
     "output_type": "stream",
     "text": [
      "Saying hello to  Urkel\n"
     ]
    },
    {
     "data": {
      "text/plain": [
       "Hello Urkel"
      ]
     },
     "execution_count": 64,
     "metadata": {},
     "output_type": "execute_result"
    }
   ],
   "source": [
    "(let [name \"Urkel\"]\n",
    "  (println \"Saying hello to \" name)\n",
    "  (.flush *out*)\n",
    "  (str \"Hello \" name))"
   ]
  },
  {
   "cell_type": "markdown",
   "metadata": {},
   "source": [
    "## Macros\n",
    "*Macros* look like functions but they are executed **before** run time on the **code** as written to transform it into other code (that would have been more tedious to write by hand).\n",
    "### when\n",
    "[when](https://clojuredocs.org/clojure.core/when) packs `if` and `do` in order to allow multiple expressions after an `if`"
   ]
  },
  {
   "cell_type": "code",
   "execution_count": 65,
   "metadata": {},
   "outputs": [
    {
     "name": "stdout",
     "output_type": "stream",
     "text": [
      "doing something\n",
      "doing something else\n"
     ]
    },
    {
     "data": {
      "text/plain": [
       "test was true !"
      ]
     },
     "execution_count": 65,
     "metadata": {},
     "output_type": "execute_result"
    }
   ],
   "source": [
    "(when (< 1 2)\n",
    "(println \"doing something\")\n",
    "(println \"doing something else\")\n",
    "(.flush *out*)\n",
    "\"test was true !\")"
   ]
  },
  {
   "cell_type": "markdown",
   "metadata": {},
   "source": [
    "[macroexpand](https://clojuredocs.org/clojure.core/macroexpand) allows you to get the result of expanding a macro instead of just using the macro to write your program."
   ]
  },
  {
   "cell_type": "code",
   "execution_count": 66,
   "metadata": {},
   "outputs": [
    {
     "data": {
      "text/plain": [
       "(if (< 1 2) (do (println \"doing something\") (println \"doing something else\") (.flush *out*) \"test was true !\"))"
      ]
     },
     "execution_count": 66,
     "metadata": {},
     "output_type": "execute_result"
    }
   ],
   "source": [
    "(str (macroexpand '(when (< 1 2)   ;; why do we need to quote the expression for macroexpand ?\n",
    "                    (println \"doing something\")\n",
    "                    (println \"doing something else\")\n",
    "                    (.flush *out*)\n",
    "                    \"test was true !\"))) ;; the str was only for disply purposes"
   ]
  },
  {
   "cell_type": "markdown",
   "metadata": {},
   "source": [
    "### cond and condp\n",
    "[cond](https://clojuredocs.org/clojure.core/cond) and [condp](https://clojuredocs.org/clojure.core/condp) are the functional equivalent of `switch` statements in imperative languages like C.\n",
    "\n",
    "Remarkably, the can be implemented as macro instead of requiring any special language support."
   ]
  },
  {
   "cell_type": "code",
   "execution_count": 67,
   "metadata": {},
   "outputs": [
    {
     "data": {
      "text/plain": [
       "B"
      ]
     },
     "execution_count": 67,
     "metadata": {},
     "output_type": "execute_result"
    }
   ],
   "source": [
    "(let [grade 85]\n",
    "    (cond\n",
    "    (>= grade 90) \"A\"\n",
    "    (>= grade 80) \"B\"\n",
    "    (>= grade 70) \"C\"\n",
    "    (>= grade 60) \"D\"\n",
    "    :else \"F\"))"
   ]
  },
  {
   "cell_type": "code",
   "execution_count": 68,
   "metadata": {},
   "outputs": [
    {
     "data": {
      "text/plain": [
       "(if (>= grade 90) \"A\" (clojure.core/cond (>= grade 80) \"B\" (>= grade 70) \"C\" (>= grade 60) \"D\" :else \"F\"))"
      ]
     },
     "execution_count": 68,
     "metadata": {},
     "output_type": "execute_result"
    }
   ],
   "source": [
    "(str\n",
    "(macroexpand '(cond\n",
    "                (>= grade 90) \"A\"\n",
    "                (>= grade 80) \"B\"\n",
    "                (>= grade 70) \"C\"\n",
    "                (>= grade 60) \"D\"\n",
    "                :else \"F\")))"
   ]
  },
  {
   "cell_type": "code",
   "execution_count": 69,
   "metadata": {},
   "outputs": [
    {
     "data": {
      "text/plain": [
       "two"
      ]
     },
     "execution_count": 69,
     "metadata": {},
     "output_type": "execute_result"
    }
   ],
   "source": [
    "(defn translate [value]\n",
    "    (condp = value\n",
    "             1 \"one\"\n",
    "             2 \"two\"\n",
    "             3 \"three\"\n",
    "             (str \"unexpected value, \\\"\" value \\\")))\n",
    "(translate 2)"
   ]
  },
  {
   "cell_type": "code",
   "execution_count": 70,
   "metadata": {},
   "outputs": [
    {
     "data": {
      "text/plain": [
       "(let* [pred__324 = expr__325 value] (if (pred__324 1 expr__325) \"one\" (if (pred__324 2 expr__325) \"two\" (if (pred__324 3 expr__325) \"three\" (str \"unexpected value, \\\"\" value \\\")))))"
      ]
     },
     "execution_count": 70,
     "metadata": {},
     "output_type": "execute_result"
    }
   ],
   "source": [
    "(str ;; only to display proprely in the notebook\n",
    "(macroexpand '(condp = value\n",
    "             1 \"one\"\n",
    "             2 \"two\"\n",
    "             3 \"three\"\n",
    "             (str \"unexpected value, \\\"\" value \\\"))))"
   ]
  },
  {
   "cell_type": "markdown",
   "metadata": {},
   "source": [
    ")### Threading macros\n",
    "Nesting functions can be cumbersome to write and read (left to right) because the fuction calls are \"inside first\" :\n",
    "\n",
    "\n",
    "with `(f (g (h x)))` one read `f`, `g` and `h` while `h` is called first, then `g`, then `f`.\n",
    "Theading macros allow to write code in the execution order and have it nested in the correct evaluation order automatically.\n",
    "\n",
    "`->` inserts the result as the first argument of functions"
   ]
  },
  {
   "cell_type": "code",
   "execution_count": 71,
   "metadata": {},
   "outputs": [
    {
     "data": {
      "text/plain": [
       "-1"
      ]
     },
     "execution_count": 71,
     "metadata": {},
     "output_type": "execute_result"
    }
   ],
   "source": [
    "(-> {:a 1 :b 2} (assoc :c 3) (dissoc :b) :a (- 2))"
   ]
  },
  {
   "cell_type": "markdown",
   "metadata": {},
   "source": [
    "`->>` does the same thing as `->` but threads the (provided / returned) value as the *last* argument of functions."
   ]
  },
  {
   "cell_type": "code",
   "execution_count": 72,
   "metadata": {},
   "outputs": [
    {
     "data": {
      "text/plain": [
       "[1, 3, 5, 7, 9]"
      ]
     },
     "execution_count": 72,
     "metadata": {},
     "output_type": "execute_result"
    }
   ],
   "source": [
    "(->>\n",
    "   (range)\n",
    "   (take 10)\n",
    "   (map inc)     ;=> (map inc (range 10)\n",
    "   (filter odd?) ;=> (filter odd? (map inc (range 10))\n",
    "   (into []))"
   ]
  },
  {
   "cell_type": "markdown",
   "metadata": {},
   "source": [
    "`as->` allows you to name the value and then use that name as a placeholder to control which argument will be replaced by the threaded value."
   ]
  },
  {
   "cell_type": "code",
   "execution_count": 73,
   "metadata": {},
   "outputs": [
    {
     "data": {
      "text/plain": [
       "[4, 5, 6, 4, [8, 9, 10]]"
      ]
     },
     "execution_count": 73,
     "metadata": {},
     "output_type": "execute_result"
    }
   ],
   "source": [
    "(as-> [1 2 3] input\n",
    "  (map inc input);=> You can use last transform's output at the last position\n",
    "  (nth input 2) ;=>  and at the second position, in the same expression\n",
    "  (conj [4 5 6] input [8 9 10])) ;=> or in the middle !\n"
   ]
  },
  {
   "cell_type": "markdown",
   "metadata": {},
   "source": [
    "## Modules\n",
    "One can import modules with [require](https://clojuredocs.org/clojure.core/require)."
   ]
  },
  {
   "cell_type": "code",
   "execution_count": 74,
   "metadata": {},
   "outputs": [
    {
     "data": {
      "text/plain": [
       "true"
      ]
     },
     "execution_count": 74,
     "metadata": {},
     "output_type": "execute_result"
    }
   ],
   "source": [
    "(require 'clojure.string)\n",
    "(clojure.string/blank? \"\")"
   ]
  },
  {
   "cell_type": "markdown",
   "metadata": {},
   "source": [
    "(Does not work with notebooks, but one can give aliases to namespaces in Clojure programs `(require '[clojure.string :as str])`)"
   ]
  },
  {
   "cell_type": "code",
   "execution_count": 75,
   "metadata": {},
   "outputs": [
    {
     "data": {
      "text/plain": [
       "THIs Is A tEst."
      ]
     },
     "execution_count": 75,
     "metadata": {},
     "output_type": "execute_result"
    }
   ],
   "source": [
    "(clojure.string/replace \"This is a test.\" #\"[a-o]\" clojure.string/upper-case) ;; #\"[a-o]\" is a regular expression literal"
   ]
  },
  {
   "cell_type": "code",
   "execution_count": 76,
   "metadata": {},
   "outputs": [
    {
     "data": {
      "text/plain": [
       "class java.util.regex.Pattern"
      ]
     },
     "execution_count": 76,
     "metadata": {},
     "output_type": "execute_result"
    }
   ],
   "source": [
    "(class #\"[a-o]\")"
   ]
  },
  {
   "cell_type": "markdown",
   "metadata": {},
   "source": [
    "## Java interoperability\n",
    "[Java interoperability](https://clojure.org/reference/java_interop) is extensive.\n",
    "### Java static method calls\n",
    "static methods and attributes can be accessed with `/`"
   ]
  },
  {
   "cell_type": "code",
   "execution_count": 77,
   "metadata": {},
   "outputs": [
    {
     "data": {
      "text/plain": [
       "[1537515596704, 3.141592653589793]"
      ]
     },
     "execution_count": 77,
     "metadata": {},
     "output_type": "execute_result"
    }
   ],
   "source": [
    "[(System/currentTimeMillis)\n",
    "Math/PI]"
   ]
  },
  {
   "cell_type": "markdown",
   "metadata": {},
   "source": [
    "### Java import\n",
    "Java classes can be imported with [import](https://clojuredocs.org/clojure.core/import)"
   ]
  },
  {
   "cell_type": "code",
   "execution_count": 78,
   "metadata": {},
   "outputs": [
    {
     "data": {
      "text/plain": [
       "2018-09-21"
      ]
     },
     "execution_count": 78,
     "metadata": {},
     "output_type": "execute_result"
    }
   ],
   "source": [
    "(import java.time.LocalDate)\n",
    "(LocalDate/now)"
   ]
  },
  {
   "cell_type": "markdown",
   "metadata": {},
   "source": [
    "### Java method calls\n",
    "Java methods can be called on objects like functions by prefixing the name with `.`"
   ]
  },
  {
   "cell_type": "code",
   "execution_count": 79,
   "metadata": {},
   "outputs": [
    {
     "data": {
      "text/plain": [
       "2018-09-23"
      ]
     },
     "execution_count": 79,
     "metadata": {},
     "output_type": "execute_result"
    }
   ],
   "source": [
    "(.plusDays (LocalDate/now) 2)"
   ]
  },
  {
   "cell_type": "markdown",
   "metadata": {},
   "source": [
    "Java methods can also be called with the dot form, providing the objet and then the method (and arguments if anay) to the `.`"
   ]
  },
  {
   "cell_type": "code",
   "execution_count": 80,
   "metadata": {},
   "outputs": [
    {
     "data": {
      "text/plain": [
       "2018-09-23"
      ]
     },
     "execution_count": 80,
     "metadata": {},
     "output_type": "execute_result"
    }
   ],
   "source": [
    "(. (LocalDate/now) plusDays 2)"
   ]
  },
  {
   "cell_type": "code",
   "execution_count": 81,
   "metadata": {},
   "outputs": [
    {
     "data": {
      "text/plain": [
       "2018-09-30"
      ]
     },
     "execution_count": 81,
     "metadata": {},
     "output_type": "execute_result"
    }
   ],
   "source": [
    "(.plusWeeks (.plusDays (LocalDate/now) 2) 1);; rewrite with a threading macro ? (immutablity ftw !)"
   ]
  },
  {
   "cell_type": "markdown",
   "metadata": {},
   "source": [
    "### Java constructors\n",
    "Java constructors can be called like functions by postfixing the class name with `.`"
   ]
  },
  {
   "cell_type": "code",
   "execution_count": 82,
   "metadata": {},
   "outputs": [
    {
     "data": {
      "text/plain": [
       "Fri Sep 21 07:39:56 GMT 2018"
      ]
     },
     "execution_count": 82,
     "metadata": {},
     "output_type": "execute_result"
    }
   ],
   "source": [
    "(import java.util.Date)\n",
    "(Date.)"
   ]
  },
  {
   "cell_type": "markdown",
   "metadata": {},
   "source": [
    "The [doto](https://clojuredocs.org/clojure.core/doto) macro allows to thread the object as the first argument to methods and functions and return the object. (Compared to `->` that threads the result from function calls to function calls and returns it)."
   ]
  },
  {
   "cell_type": "code",
   "execution_count": 83,
   "metadata": {},
   "outputs": [
    {
     "name": "stdout",
     "output_type": "stream",
     "text": [
      "#object[java.time.LocalDate 0x4dd2252 2018-09-21]\n",
      "#object[java.time.LocalDate 0x4dd2252 2018-09-21]\n",
      "#object[java.time.LocalDate 0x4dd2252 2018-09-21]\n"
     ]
    },
    {
     "data": {
      "text/plain": [
       "2018-09-21"
      ]
     },
     "execution_count": 83,
     "metadata": {},
     "output_type": "execute_result"
    }
   ],
   "source": [
    "(doto (LocalDate/now)\n",
    "      (println)\n",
    "      (.plusDays 2)\n",
    "      (println)\n",
    "      (.plusWeeks 1)\n",
    "      (println))"
   ]
  },
  {
   "cell_type": "code",
   "execution_count": 84,
   "metadata": {},
   "outputs": [
    {
     "name": "stdout",
     "output_type": "stream",
     "text": [
      "#object[java.util.HashMap 0x5aec8cd {a=1, b=2}]\n"
     ]
    },
    {
     "data": {
      "application/vnd.jupyter.widget-view+json": {
       "model_id": "9ca48a68-ffab-4c84-bf90-2fa51c77e154",
       "version_major": 2,
       "version_minor": 0
      },
      "method": "display_data"
     },
     "metadata": {},
     "output_type": "display_data"
    }
   ],
   "source": [
    "(doto (java.util.HashMap.)\n",
    "            (.put \"a\" 1)\n",
    "            (.put \"b\" 2)\n",
    "            (println))"
   ]
  },
  {
   "cell_type": "markdown",
   "metadata": {},
   "source": [
    "### Java arrays\n",
    "For performance or interoperability reasons, one might want to use java arrays. However, these are obviously **not immutable**. One can make arrays of references with [make-array](https://clojuredocs.org/clojure.core/make-array) and use [aset](https://clojuredocs.org/clojure.core/aset) and [aget](https://clojuredocs.org/clojure.core/aget) to set and get elements of the array. Arrays of primitive types can be created and used with specific functions such as [int-array](https://clojuredocs.org/clojure.core/int-array), [aset-int](https://clojuredocs.org/clojure.core/aset-int) and [aget-int](https://clojuredocs.org/clojure.core/aset-int). [aget](https://clojuredocs.org/clojure.core/aget) and [alength](https://clojuredocs.org/clojure.core/alength) work on arrays of all types."
   ]
  },
  {
   "cell_type": "code",
   "execution_count": 85,
   "metadata": {},
   "outputs": [
    {
     "name": "stdout",
     "output_type": "stream",
     "text": [
      "[I@768b2f3a[0 0 0 0 0 0 0 0]\n"
     ]
    },
    {
     "data": {
      "text/plain": [
       "[I@768b2f3a[0 0 0 0 256 0 0 0]"
      ]
     },
     "execution_count": 85,
     "metadata": {},
     "output_type": "execute_result"
    }
   ],
   "source": [
    "(def int-a (int-array 8))\n",
    "(println (str int-a (vec int-a)))\n",
    "(aset-int int-a 4 256)\n",
    "(str int-a (vec int-a))"
   ]
  },
  {
   "cell_type": "markdown",
   "metadata": {},
   "source": [
    "## Runtime polymorphism / Dynamic dispatching\n",
    "[Dynamic dispatching](https://en.wikipedia.org/wiki/Dynamic_dispatch) can be achieved in [two ways in Clojure](https://clojure.org/about/runtime_polymorphism).\n",
    "A most efficient dispatching based on the type of a single argument, relying on the OOP mechanism of the JVM, is available with [protocols](https://clojure.org/reference/protocols)\n",
    "\n",
    "A most generic and flexible multiple arguments dispatching is also available in the form of\n",
    "[multimethods](https://clojure.org/reference/multimethods)\n"
   ]
  },
  {
   "cell_type": "code",
   "execution_count": 6,
   "metadata": {},
   "outputs": [
    {
     "data": {
      "text/plain": [
       "result of formula of intersection of ellipses {:shape :ellipse, :data :todo1} and {:shape :ellipse, :data :todo2}"
      ]
     },
     "execution_count": 6,
     "metadata": {},
     "output_type": "execute_result"
    }
   ],
   "source": [
    "(defmulti intersect\n",
    "  (fn [a b]\n",
    "    [(:shape a)(:shape b)])) ;; could use class\n",
    "\n",
    "(defn rectangle-ellipse-intersect[rectangle ellipse]\n",
    "    (str \"result of formula of intersection of rectangle \" rectangle \" and ellipse \" ellipse))\n",
    "    \n",
    "(defmethod intersect [:rectangle :ellipse]\n",
    "  [r e] (rectangle-ellipse-intersect r e))\n",
    "(defmethod intersect [:ellipse :rectangle]\n",
    "  [e r] (rectangle-ellipse-intersect r e))\n",
    "\n",
    "(defmethod intersect [:rectangle :rectangle]\n",
    "  [r1 r2] (str \"result of formula of intersection of rectangles \" r1 \" and \" r2))\n",
    "\n",
    "(defmethod intersect [:ellipse :ellipse]\n",
    "  [e1 e2] (str \"result of formula of intersection of ellipses \" e1 \" and \" e2))\n",
    "\n",
    "(def ellipse-1 {:shape :ellipse :data :todo1})\n",
    "(def ellipse-2 {:shape :ellipse :data :todo2})\n",
    "\n",
    "(def rectangle-1 {:shape :rectangle :data :todo3})\n",
    "(def rectangle-2 {:shape :rectangle :data :todo4})\n",
    "\n",
    "(intersect ellipse-1 ellipse-2)\n",
    ";;(intersect ellipse-1 rectangle-1)\n",
    ";;(intersect rectangle-2 ellipse-1)\n",
    ";;(intersect rectangle-1 rectangle-2)"
   ]
  },
  {
   "cell_type": "markdown",
   "metadata": {},
   "source": [
    "## Concurrency\n",
    "Most concurrency issues are completely sidestepped by functional programming on **immutable** data. However, any useful\n",
    "program has to deal with side effects and some mutable state can be useful. There are [many ways to manage states in Clojure](https://aphyr.com/posts/306-clojure-from-the-ground-up-state) and to [manage concurrency and parallelism in Clojure](http://clojure-doc.org/articles/language/concurrency_and_parallelism.html), we'll only see a few of them. \n",
    "### Agents\n",
    "[Agents](https://clojure.org/reference/agents) store a value that can be changed by a\n",
    "a function taking the previous value as an argument. The function calls and the resulting update of the value are done by\n",
    "asynchronous messages that are queued so the messages can be sent from concurrent threads.\n",
    "Agents are created with the [agent](https://clojuredocs.org/clojure.core/agent) function taking the initial value as an argument. Messages are sent using the [send](https://clojuredocs.org/clojure.core/send) function and the current state is accessed with the [deref](https://clojuredocs.org/clojure.core/deref) function or the `@` prefix"
   ]
  },
  {
   "cell_type": "code",
   "execution_count": 86,
   "metadata": {},
   "outputs": [
    {
     "name": "stdout",
     "output_type": "stream",
     "text": [
      "0\n",
      "5\n",
      "15\n"
     ]
    },
    {
     "data": {
      "text/plain": [
       "clojure.lang.Agent@3dbf80c"
      ]
     },
     "execution_count": 86,
     "metadata": {},
     "output_type": "execute_result"
    }
   ],
   "source": [
    "(def x (agent 0))\n",
    "(println @x)\n",
    "(defn increment [c n] (+ c n))\n",
    "(send x increment 5)  ; @x -> 5\n",
    "(println @x)\n",
    "(send x increment 10)\n",
    "(println @x)\n",
    "x"
   ]
  },
  {
   "cell_type": "markdown",
   "metadata": {},
   "source": [
    "[await](https://clojuredocs.org/clojure.core/wait) can be used to wait until all messages to one or more agents\n",
    "have been processed."
   ]
  },
  {
   "cell_type": "code",
   "execution_count": 87,
   "metadata": {},
   "outputs": [
    {
     "name": "stdout",
     "output_type": "stream",
     "text": [
      "15\n",
      "#object[clojure.lang.Agent 0x3dbf80c {:status :ready, :val 15}]\n",
      "#object[clojure.lang.Agent 0x3dbf80c {:status :ready, :val 30}]\n"
     ]
    },
    {
     "data": {
      "text/plain": [
       "null"
      ]
     },
     "execution_count": 87,
     "metadata": {},
     "output_type": "execute_result"
    }
   ],
   "source": [
    "(defn slow-increment [c n] (Thread/sleep 20000)(+ c n))\n",
    "(send x slow-increment 5)  ; @x -> 5\n",
    "(println @x)\n",
    "(send x slow-increment 10)\n",
    "(println x)\n",
    "(await x)\n",
    "(println x)\n",
    "(.flush *out*)"
   ]
  },
  {
   "cell_type": "markdown",
   "metadata": {},
   "source": [
    "### Atoms\n",
    "[Atoms](https://clojure.org/reference/atoms) allow for atomic updates of a single state. They are created with the [atom](https://clojuredocs.org/clojure.core/atom) function. And the stored state can be accessed with the [deref](https://clojuredocs.org/clojure.core/deref) function or the `@` prefix.\n",
    "\n",
    "The value stored in an atom can be updated with the [swap!](https://clojuredocs.org/clojure.core/swap!) function that takes the current value as an argument and return the new value to be stored in the atom."
   ]
  },
  {
   "cell_type": "code",
   "execution_count": 88,
   "metadata": {},
   "outputs": [
    {
     "name": "stdout",
     "output_type": "stream",
     "text": [
      "{:a 0}\n"
     ]
    },
    {
     "data": {
      "application/vnd.jupyter.widget-view+json": {
       "model_id": "1372fc6c-32e5-4486-ab44-cc808bf9bbdc",
       "version_major": 2,
       "version_minor": 0
      },
      "method": "display_data"
     },
     "metadata": {},
     "output_type": "display_data"
    }
   ],
   "source": [
    "(def my-atom (atom {:a 0}))\n",
    "(println @my-atom)\n",
    "(swap! my-atom #(assoc % :b 1));; can be called from multiple concurrent threads\n",
    "@my-atom"
   ]
  },
  {
   "cell_type": "code",
   "execution_count": 89,
   "metadata": {},
   "outputs": [
    {
     "data": {
      "text/plain": [
       "0"
      ]
     },
     "execution_count": 89,
     "metadata": {},
     "output_type": "execute_result"
    },
    {
     "name": "stdout",
     "output_type": "stream",
     "text": [
      "1\n",
      "2\n",
      "3\n",
      "4\n",
      "5\n",
      "6\n",
      "7\n",
      "8\n",
      "9\n",
      "10\n"
     ]
    }
   ],
   "source": [
    "(def int-atom (atom 0))\n",
    "(defn slow-inc[x]\n",
    "   (let[current-value x] ;; not useful, just to emphasis that the value we use was read before sleeping\n",
    "       (Thread/sleep 10000)\n",
    "       (inc current-value)))\n",
    "(dotimes [i 10] (.start (Thread. #(do (swap! int-atom slow-inc)(println @int-atom)))));; clojure functions are Runnable\n",
    "@int-atom"
   ]
  },
  {
   "cell_type": "markdown",
   "metadata": {},
   "source": [
    "### Futures\n",
    "While one can use a `java.lang.Thread` with clojure functions because they implement the `java.lang.Runnable` interface,\n",
    "the [future](https://clojuredocs.org/clojure.core/future) function can more easily be used to launch an asynchronuous call when we are interested in the result. The result can be synchronously accessed later by using the [deref](https://clojuredocs.org/clojure.core/deref) function or the `@` prefix."
   ]
  },
  {
   "cell_type": "code",
   "execution_count": 90,
   "metadata": {},
   "outputs": [
    {
     "name": "stdout",
     "output_type": "stream",
     "text": [
      "before access\n",
      ":done\n"
     ]
    },
    {
     "data": {
      "text/plain": [
       "null"
      ]
     },
     "execution_count": 90,
     "metadata": {},
     "output_type": "execute_result"
    }
   ],
   "source": [
    "(def f (future (Thread/sleep 10000) :done))\n",
    "(println \"before access\")\n",
    "(.flush *out*)\n",
    "(println @f)"
   ]
  },
  {
   "cell_type": "markdown",
   "metadata": {},
   "source": [
    "### Refs\n",
    "[Refs](https://clojure.org/reference/refs) allow for [Software Transactional Memory](https://en.wikipedia.org/wiki/Software_transactional_memory) over multiple states. \n",
    "The [ref](https://clojuredocs.org/clojure.core/ref) is used to create a /ref/ with the initial value, [deref](https://clojuredocs.org/clojure.core/deref) or the `@` prefix is used to retrieve the value.The [alter](https://clojuredocs.org/clojure.core/alter) function cals in a [dosync](https://clojuredocs.org/clojure.core/dosync) scope allow for transactional modifications inside the scope. No side effect should be performed by the function used to alter the refs as they can be retried as needed."
   ]
  },
  {
   "cell_type": "code",
   "execution_count": 91,
   "metadata": {},
   "outputs": [
    {
     "name": "stdout",
     "output_type": "stream",
     "text": [
      "[9 3 6 2 4 10 14 11]\n",
      "[8 13 7 0 5 12 15 1]\n"
     ]
    },
    {
     "data": {
      "text/plain": [
       "[0, 1, 2, 3, 4, 5, 6, 7, 8, 9, 10, 11, 12, 13, 14, 15]"
      ]
     },
     "execution_count": 91,
     "metadata": {},
     "output_type": "execute_result"
    }
   ],
   "source": [
    "(def first-half (ref (vec (range 8))))\n",
    "(def second-half (ref (vec (range 8 16))))\n",
    "(def swap #(let[i1 (rand-int (count @first-half))\n",
    "                i2 (rand-int (count @second-half))]\n",
    "                (dosync\n",
    "                (let[tmp (nth @first-half i1)]\n",
    "                 (alter first-half assoc i1 (nth @second-half i2))\n",
    "                 (alter second-half assoc i2 tmp)))))\n",
    "\n",
    "(dorun (apply pcalls (repeat 8 #(dotimes [_ 1000] (swap)))))\n",
    "(println @first-half)\n",
    "(println @second-half)\n",
    "(sort (concat @first-half @second-half))"
   ]
  },
  {
   "cell_type": "markdown",
   "metadata": {},
   "source": [
    "## Examples"
   ]
  },
  {
   "cell_type": "code",
   "execution_count": 92,
   "metadata": {},
   "outputs": [
    {
     "data": {
      "text/plain": [
       "[0, 1, 1, 2, 3, 5, 8, 13, 21, 34, 55, 89, 144, 233, 377, 610, 987, 1597, 2584, 4181, 6765, 10946, 17711, 28657, 46368, 75025, 121393, 196418, 317811, 514229, 832040, 1346269]"
      ]
     },
     "execution_count": 92,
     "metadata": {},
     "output_type": "execute_result"
    }
   ],
   "source": [
    "(def fib-seq\n",
    "     (lazy-cat [0 1] (map + (rest fib-seq) fib-seq)))\n",
    "(take 32 fib-seq)"
   ]
  },
  {
   "cell_type": "code",
   "execution_count": 93,
   "metadata": {},
   "outputs": [
    {
     "data": {
      "text/plain": [
       "[2, 3, 4, 5, 7, 9, 11, 13, 17, 19, 23, 25, 29, 31, 37, 41, 43, 47, 49, 53, 59, 61, 67, 71, 73, 79, 83, 89, 97, 101, 103, 107, 109, 113, 121, 127, 131, 137, 139, 149, 151, 157, 163, 167, 169, 173, 179, 181, 191, 193, 197, 199, 211, 223, 227, 229, 233, 239, 241, 251, 257, 263, 269, 271, 277, 281, 283, 289, 293, 307, 311, 313, 317, 331, 337, 347, 349, 353, 359, 361, 367, 373, 379, 383, 389, 397, 401, 409, 419, 421, 431, 433, 439, 443, 449, 457, 461, 463, 467, 479, 487, 491, 499, 503, 509, 521, 523, 529, 541, 547, 557, 563, 569, 571, 577, 587, 593, 599, 601, 607, 613, 617, 619, 631, 641, 643, 647, 653, 659, 661, 673, 677, 683, 691, 701, 709, 719, 727, 733, 739, 743, 751, 757, 761, 769, 773, 787, 797, 809, 811, 821, 823, 827, 829, 839, 841, 853, 857, 859, 863, 877, 881, 883, 887, 907, 911, 919, 929, 937, 941, 947, 953, 961, 967, 971, 977, 983, 991, 997]"
      ]
     },
     "execution_count": 93,
     "metadata": {},
     "output_type": "execute_result"
    }
   ],
   "source": [
    "(reduce\n",
    "    (fn [primes number]\n",
    "        (if (some zero? (map (partial mod number)\n",
    "                             (take-while (partial > (Math/sqrt number))\n",
    "                                         primes)))\n",
    "             primes\n",
    "             (conj primes number)))\n",
    "    [2]\n",
    "    (take 1000 (iterate inc 3)))"
   ]
  },
  {
   "cell_type": "markdown",
   "metadata": {},
   "source": [
    "`let` bindings can (should ?) be used to document code by naming sub-expressions :"
   ]
  },
  {
   "cell_type": "code",
   "execution_count": 7,
   "metadata": {},
   "outputs": [
    {
     "data": {
      "text/plain": [
       "[2, 3, 4, 5, 7, 9, 11, 13, 17, 19, 23, 25, 29, 31, 37, 41, 43, 47, 49, 53, 59, 61, 67, 71, 73, 79, 83, 89, 97, 101, 103, 107, 109, 113, 121, 127, 131, 137, 139, 149, 151, 157, 163, 167, 169, 173, 179, 181, 191, 193, 197, 199, 211, 223, 227, 229, 233, 239, 241, 251, 257, 263, 269, 271, 277, 281, 283, 289, 293, 307, 311, 313, 317, 331, 337, 347, 349, 353, 359, 361, 367, 373, 379, 383, 389, 397, 401, 409, 419, 421, 431, 433, 439, 443, 449, 457, 461, 463, 467, 479, 487, 491, 499, 503, 509, 521, 523, 529, 541, 547, 557, 563, 569, 571, 577, 587, 593, 599, 601, 607, 613, 617, 619, 631, 641, 643, 647, 653, 659, 661, 673, 677, 683, 691, 701, 709, 719, 727, 733, 739, 743, 751, 757, 761, 769, 773, 787, 797, 809, 811, 821, 823, 827, 829, 839, 841, 853, 857, 859, 863, 877, 881, 883, 887, 907, 911, 919, 929, 937, 941, 947, 953, 961, 967, 971, 977, 983, 991, 997]"
      ]
     },
     "execution_count": 7,
     "metadata": {},
     "output_type": "execute_result"
    }
   ],
   "source": [
    "(reduce\n",
    "    (fn [primes number]\n",
    "    (let[max-factor (Math/sqrt number)\n",
    "         candidate-factors (take-while (partial > max-factor)\n",
    "                                         primes)\n",
    "         has-divisor (some zero? (map (partial mod number)\n",
    "                                       candidate-factors))]\n",
    "        (if has-divisor\n",
    "            primes\n",
    "            (conj primes number))))\n",
    "    [2]\n",
    "    (take 1000 (iterate inc 3)))"
   ]
  },
  {
   "cell_type": "markdown",
   "metadata": {},
   "source": [
    "## Pattern matching\n",
    "[Pattern matching](https://en.wikipedia.org/wiki/Pattern_matching) is implemented in a library, thanks to the power of macros built on homoiconicity.\n",
    "\n",
    "For a real clojure program (i.e. not a notebook), the library dependency is expressed in the file `project.clj` (when using [leiningen](http://github.com/technomancy/leiningen/) ), as explained in the [core.match](https://github.com/clojure/core.match) `Readme`."
   ]
  },
  {
   "cell_type": "code",
   "execution_count": 7,
   "metadata": {},
   "outputs": [
    {
     "data": {
      "application/vnd.jupyter.widget-view+json": {
       "model_id": "",
       "version_major": 2,
       "version_minor": 0
      },
      "method": "display_data"
     },
     "metadata": {},
     "output_type": "display_data"
    },
    {
     "data": {
      "application/vnd.jupyter.widget-view+json": {
       "model_id": "ada8fb41-901e-44c8-8071-08968b6b5a9e",
       "version_major": 2,
       "version_minor": 0
      },
      "method": "display_data"
     },
     "metadata": {},
     "output_type": "display_data"
    }
   ],
   "source": [
    "%classpath add mvn org.clojure core.match 0.3.0-alpha5"
   ]
  },
  {
   "cell_type": "code",
   "execution_count": 13,
   "metadata": {},
   "outputs": [
    {
     "data": {
      "text/plain": [
       "[FizzBuzz, 1, 2, Fizz, 4, Buzz, Fizz, 7, 8, Fizz, Buzz, 11, Fizz, 13, 14, FizzBuzz, 16, 17, Fizz, 19, Buzz, Fizz, 22, 23, Fizz, Buzz, 26, Fizz, 28, 29, FizzBuzz, 31]"
      ]
     },
     "execution_count": 13,
     "metadata": {},
     "output_type": "execute_result"
    }
   ],
   "source": [
    "(require '[clojure.core.match :refer [match]])\n",
    "\n",
    "(defn fizz-buzz[n]\n",
    "    (match[(mod n 3) (mod n 5)]\n",
    "          [0 0] \"FizzBuzz\"\n",
    "          [0 _] \"Fizz\"\n",
    "          [_ 0] \"Buzz\"\n",
    "          :else n))\n",
    "\n",
    "(map fizz-buzz (range 32))"
   ]
  },
  {
   "cell_type": "markdown",
   "metadata": {},
   "source": [
    "## Logic programming\n",
    "[Logic programming](https://en.wikipedia.org/wiki/Logic_programming) is implemented in a library, thanks to the power of macros built on homoiconicity.\n",
    "\n",
    "For a real clojure program (i.e. not a notebook), the library dependency is expressed in the file `project.clj` (when using [leiningen](http://github.com/technomancy/leiningen/) ), as explained in the [core.logic](https://github.com/clojure/core.logic) `Readme`."
   ]
  },
  {
   "cell_type": "code",
   "execution_count": 14,
   "metadata": {},
   "outputs": [
    {
     "data": {
      "application/vnd.jupyter.widget-view+json": {
       "model_id": "",
       "version_major": 2,
       "version_minor": 0
      },
      "method": "display_data"
     },
     "metadata": {},
     "output_type": "display_data"
    },
    {
     "data": {
      "application/vnd.jupyter.widget-view+json": {
       "model_id": "8d4997e8-572b-436e-aed6-74c519ab6736",
       "version_major": 2,
       "version_minor": 0
      },
      "method": "display_data"
     },
     "metadata": {},
     "output_type": "display_data"
    }
   ],
   "source": [
    "%classpath add mvn org.clojure core.logic 0.8.11"
   ]
  },
  {
   "cell_type": "code",
   "execution_count": 30,
   "metadata": {},
   "outputs": [
    {
     "data": {
      "text/plain": [
       "[[7, 1, 4, 2, 8, 9, 5, 6, 3], \n",
       ", [6, 3, 8, 7, 1, 5, 9, 2, 4], \n",
       ", [9, 2, 5, 3, 6, 4, 1, 7, 8], \n",
       ", [8, 6, 1, 5, 4, 7, 3, 9, 2], \n",
       ", [4, 5, 3, 9, 2, 6, 7, 8, 1], \n",
       ", [2, 9, 7, 1, 3, 8, 4, 5, 6], \n",
       ", [1, 4, 9, 6, 7, 2, 8, 3, 5], \n",
       ", [5, 8, 6, 4, 9, 3, 2, 1, 7], \n",
       ", [3, 7, 2, 8, 5, 1, 6, 4, 9]]"
      ]
     },
     "execution_count": 30,
     "metadata": {},
     "output_type": "execute_result"
    }
   ],
   "source": [
    ";; example from https://gist.github.com/orb/5884956\n",
    "(ns sudoku\n",
    "  (:refer-clojure :exclude [==])\n",
    "  (:use [clojure.core.logic])\n",
    "  (:require [clojure.core.logic.fd :as fd]))\n",
    "\n",
    "\n",
    "(defn init-board [vars puzzle]\n",
    "  (matche [vars puzzle]\n",
    "          ([[] []]\n",
    "             succeed)\n",
    "          ([[_ . more-vars] [0 . more-puzzle]]\n",
    "             (init-board more-vars more-puzzle))\n",
    "          ([[num . more-vars] [num . more-puzzle]]\n",
    "             (init-board more-vars more-puzzle))))\n",
    "\n",
    "\n",
    "(defn solve [puzzle]\n",
    "  (let [sdnum (fd/domain 1 2 3 4 5 6 7 8 9)\n",
    "        board (repeatedly 81 lvar)\n",
    "        rows (into [] (map vec (partition 9 board)))\n",
    "        cols (apply map vector rows)\n",
    "\n",
    "        get-square (fn [x y]\n",
    "                     (for [x (range x (+ x 3))\n",
    "                           y (range y (+ y 3))]\n",
    "                       (get-in rows [x y])))\n",
    "\n",
    "        squares (for [x (range 0 9 3)\n",
    "                      y (range 0 9 3)]\n",
    "                  (get-square x y))]\n",
    "\n",
    "    (run* [q]\n",
    "         (== q board)\n",
    "         (everyg #(fd/in % sdnum) board)\n",
    "         (init-board board puzzle)\n",
    "         (everyg fd/distinct rows)\n",
    "         (everyg fd/distinct cols)\n",
    "         (everyg fd/distinct squares))))\n",
    "\n",
    "\n",
    "(def puzzle1\n",
    "  [0 0 0 0 0 9 0 6 0\n",
    "   0 3 8 0 0 5 0 0 4\n",
    "   0 2 0 0 6 0 0 7 0\n",
    "   0 0 0 0 0 0 3 9 0\n",
    "   0 0 0 9 2 6 0 0 0\n",
    "   0 9 7 0 0 0 0 0 0\n",
    "   0 4 0 0 7 0 0 3 0\n",
    "   5 0 0 4 0 0 2 1 0\n",
    "   0 7 0 8 0 0 0 0 0])\n",
    "\n",
    "(def puzzle2\n",
    "  [0 3 0 5 0 0 0 0 0\n",
    "   7 0 0 0 6 0 9 0 0\n",
    "   8 2 9 0 0 0 0 0 0\n",
    "   9 6 0 0 3 0 1 0 0\n",
    "   3 0 0 6 0 4 0 0 2\n",
    "   0 0 4 0 8 0 0 7 6\n",
    "   0 0 0 0 0 0 7 5 3\n",
    "   0 0 7 0 5 0 0 0 9\n",
    "   0 0 0 0 0 9 0 1 0])\n",
    "\n",
    ";; http://www.sudokudragon.com/unsolvable.htm\n",
    "(def puzzle3\n",
    "  [0 8 0 0 0 9 7 4 3\n",
    "   0 5 0 0 0 8 0 1 0\n",
    "   0 1 0 0 0 0 0 0 0\n",
    "   8 0 0 0 0 5 0 0 0\n",
    "   0 0 0 8 0 4 0 0 0\n",
    "   0 0 0 3 0 0 0 0 6\n",
    "   0 0 0 0 0 0 0 7 0\n",
    "   0 3 0 5 0 0 0 8 0\n",
    "   9 7 2 4 0 0 0 5 0])\n",
    "\n",
    "(comment\n",
    "  (partition 9 (first (solve puzzle1)))\n",
    "  ((7 1 4 2 8 9 5 6 3)\n",
    "   (6 3 8 7 1 5 9 2 4)\n",
    "   (9 2 5 3 6 4 1 7 8)\n",
    "   (8 6 1 5 4 7 3 9 2)\n",
    "   (4 5 3 9 2 6 7 8 1)\n",
    "   (2 9 7 1 3 8 4 5 6)\n",
    "   (1 4 9 6 7 2 8 3 5)\n",
    "   (5 8 6 4 9 3 2 1 7)\n",
    "   (3 7 2 8 5 1 6 4 9))\n",
    "\n",
    "  (partition 9 (first (solve puzzle2)))\n",
    "  ((4 3 6 5 9 1 2 8 7)\n",
    "   (7 5 1 8 6 2 9 3 4)\n",
    "   (8 2 9 4 7 3 5 6 1)\n",
    "   (9 6 8 2 3 7 1 4 5)\n",
    "   (3 7 5 6 1 4 8 9 2)\n",
    "   (2 1 4 9 8 5 3 7 6)\n",
    "   (6 9 2 1 4 8 7 5 3)\n",
    "   (1 8 7 3 5 6 4 2 9)\n",
    "   (5 4 3 7 2 9 6 1 8))\n",
    "\n",
    "  (count (solve puzzle3))\n",
    "  8\n",
    ")\n",
    "(interpose \\newline (vec (partition 9 (first (solve puzzle1)))))"
   ]
  },
  {
   "cell_type": "code",
   "execution_count": null,
   "metadata": {},
   "outputs": [],
   "source": []
  }
 ],
 "metadata": {
  "beakerx_kernel_parameters": {},
  "kernelspec": {
   "display_name": "Clojure",
   "language": "clojure",
   "name": "clojure"
  },
  "language_info": {
   "codemirror_mode": "Clojure",
   "file_extension": ".clj",
   "mimetype": "text/x-clojure",
   "name": "Clojure",
   "nbconverter_exporter": "",
   "version": "1.9.0"
  },
  "toc": {
   "base_numbering": 1,
   "nav_menu": {},
   "number_sections": false,
   "sideBar": false,
   "skip_h1_title": false,
   "title_cell": "Table of Contents",
   "title_sidebar": "Contents",
   "toc_cell": false,
   "toc_position": {},
   "toc_section_display": false,
   "toc_window_display": false
  }
 },
 "nbformat": 4,
 "nbformat_minor": 2
}
