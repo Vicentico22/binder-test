{
 "cells": [
  {
   "cell_type": "markdown",
   "metadata": {},
   "source": [
    "# Learn Clojure in Y minutes\n",
    "\n",
    "Adapted from [LearnXinYminutes clojure](https://learnxinyminutes.com/docs/clojure/)"
   ]
  },
  {
   "cell_type": "markdown",
   "metadata": {},
   "source": [
    "Comments start with semicolons.\n",
    "Clojure is written in \"forms\", which are just lists of things inside parentheses, separated by whitespace.\n",
    "\n",
    "The clojure reader assumes that the first thing is a function or macro to call, and the rest are arguments."
   ]
  },
  {
   "cell_type": "code",
   "execution_count": 1,
   "metadata": {},
   "outputs": [
    {
     "data": {
      "text/plain": [
       "Hello world !"
      ]
     },
     "execution_count": 1,
     "metadata": {},
     "output_type": "execute_result"
    }
   ],
   "source": [
    ";; this is a comment\n",
    "\"Hello world !\";; replace with values of other types"
   ]
  },
  {
   "cell_type": "markdown",
   "metadata": {},
   "source": [
    "one can get the class of a value by using the `class` function"
   ]
  },
  {
   "cell_type": "code",
   "execution_count": 2,
   "metadata": {},
   "outputs": [
    {
     "data": {
      "text/plain": [
       "class java.lang.Double"
      ]
     },
     "execution_count": 2,
     "metadata": {},
     "output_type": "execute_result"
    }
   ],
   "source": [
    "(class 1.) ;; replace with values of other types"
   ]
  },
  {
   "cell_type": "markdown",
   "metadata": {},
   "source": [
    "`str` will create a string out of all its arguments"
   ]
  },
  {
   "cell_type": "code",
   "execution_count": 3,
   "metadata": {},
   "outputs": [
    {
     "data": {
      "text/plain": [
       "Hello World 1"
      ]
     },
     "execution_count": 3,
     "metadata": {},
     "output_type": "execute_result"
    }
   ],
   "source": [
    "(str \"Hello\" \" \" \"World\" \\space 1)"
   ]
  },
  {
   "cell_type": "markdown",
   "metadata": {},
   "source": [
    "keywords are [interned strings](https://en.wikipedia.org/wiki/String_interning) which guarantees that equal keywords are identical, so that testing for equality is done much more efficiently by testing for identity"
   ]
  },
  {
   "cell_type": "code",
   "execution_count": 4,
   "metadata": {},
   "outputs": [
    {
     "data": {
      "text/plain": [
       "true"
      ]
     },
     "execution_count": 4,
     "metadata": {},
     "output_type": "execute_result"
    }
   ],
   "source": [
    "(identical? (keyword (str \"a\" \\- \"keyword\")) :a-keyword)"
   ]
  },
  {
   "cell_type": "markdown",
   "metadata": {},
   "source": [
    "Arithmetic operators are just functions, which might not be nice on the eye, but is much more simple."
   ]
  },
  {
   "cell_type": "code",
   "execution_count": 5,
   "metadata": {},
   "outputs": [
    {
     "data": {
      "text/plain": [
       "2"
      ]
     },
     "execution_count": 5,
     "metadata": {},
     "output_type": "execute_result"
    }
   ],
   "source": [
    "(+ 1 1) ;; try other functions and other numbers of arguments"
   ]
  },
  {
   "cell_type": "markdown",
   "metadata": {},
   "source": [
    "Of course the function calls can be composed"
   ]
  },
  {
   "cell_type": "code",
   "execution_count": 6,
   "metadata": {},
   "outputs": [
    {
     "data": {
      "text/plain": [
       "class clojure.lang.Ratio"
      ]
     },
     "execution_count": 6,
     "metadata": {},
     "output_type": "execute_result"
    }
   ],
   "source": [
    "(class (/ 2 3))"
   ]
  },
  {
   "cell_type": "markdown",
   "metadata": {},
   "source": [
    "Equality can be tested with [=](https://clojuredocs.org/clojure.core/%3D) or [==](https://clojuredocs.org/clojure.core/%3D%3D)"
   ]
  },
  {
   "cell_type": "code",
   "execution_count": 7,
   "metadata": {},
   "outputs": [
    {
     "data": {
      "text/plain": [
       "false"
      ]
     },
     "execution_count": 7,
     "metadata": {},
     "output_type": "execute_result"
    }
   ],
   "source": [
    "(= 1 1.)"
   ]
  },
  {
   "cell_type": "markdown",
   "metadata": {},
   "source": [
    "Testing if objects are identical is also useful. Boolean predicates in clojure have a name ending with `?` by convention."
   ]
  },
  {
   "cell_type": "code",
   "execution_count": 8,
   "metadata": {},
   "outputs": [
    {
     "data": {
      "text/plain": [
       "false"
      ]
     },
     "execution_count": 8,
     "metadata": {},
     "output_type": "execute_result"
    }
   ],
   "source": [
    "(identical? \"a string\" (str \\a \\space \"string\"))"
   ]
  },
  {
   "cell_type": "code",
   "execution_count": 9,
   "metadata": {},
   "outputs": [
    {
     "data": {
      "text/plain": [
       "true"
      ]
     },
     "execution_count": 9,
     "metadata": {},
     "output_type": "execute_result"
    }
   ],
   "source": [
    "(identical? (keyword \"a string\") (keyword (str \\a \\space \"string\")))"
   ]
  },
  {
   "cell_type": "markdown",
   "metadata": {},
   "source": [
    "`false` and `nil` are false values when testing fro truthiness"
   ]
  },
  {
   "cell_type": "code",
   "execution_count": 10,
   "metadata": {},
   "outputs": [
    {
     "data": {
      "text/plain": [
       ":f"
      ]
     },
     "execution_count": 10,
     "metadata": {},
     "output_type": "execute_result"
    }
   ],
   "source": [
    "(if nil :t :f) ;; btw what is (class nil) ?"
   ]
  },
  {
   "cell_type": "markdown",
   "metadata": {},
   "source": [
    "Any other value is true, even if it is a `Boolean` equals to (but not identical !) `false` !"
   ]
  },
  {
   "cell_type": "code",
   "execution_count": 11,
   "metadata": {},
   "outputs": [
    {
     "data": {
      "text/plain": [
       ":t"
      ]
     },
     "execution_count": 11,
     "metadata": {},
     "output_type": "execute_result"
    }
   ],
   "source": [
    ";; (= (Boolean. false) false)\n",
    " (if (Boolean. false) :t :f)"
   ]
  },
  {
   "cell_type": "markdown",
   "metadata": {},
   "source": [
    "To convert the `Boolean` value to `true` or `false`, you can use the [boolean](https://clojuredocs.org/clojure.core/boolean) function"
   ]
  },
  {
   "cell_type": "code",
   "execution_count": 12,
   "metadata": {},
   "outputs": [
    {
     "data": {
      "text/plain": [
       ":f"
      ]
     },
     "execution_count": 12,
     "metadata": {},
     "output_type": "execute_result"
    }
   ],
   "source": [
    "(if (boolean (Boolean. false)) :t :f)"
   ]
  },
  {
   "cell_type": "markdown",
   "metadata": {},
   "source": [
    "Of course, you have the expected boolean functions [and](https://clojuredocs.org/clojure.core/and) [or](https://clojuredocs.org/clojure.core/or) , [not](https://clojuredocs.org/clojure.core/and)"
   ]
  },
  {
   "cell_type": "code",
   "execution_count": 13,
   "metadata": {},
   "outputs": [
    {
     "data": {
      "text/plain": [
       "true"
      ]
     },
     "execution_count": 13,
     "metadata": {},
     "output_type": "execute_result"
    }
   ],
   "source": [
    "(not (and true false))"
   ]
  },
  {
   "cell_type": "markdown",
   "metadata": {},
   "source": [
    "**Homoiconicity** means that or code is made of lists, which, while not very pleasing on the eye at first, will be immensely useful for macros. Function calls are represented by lists, the first element being the funtcion and the rest being the arguments. However, one can also write a list as a list and prevent it from being evaluated by prefixing it with a single quote `'` quite is a shorthand for the [quote](https://clojuredocs.org/clojure.core/quote) form. (Why can't `quote` be a function ?)"
   ]
  },
  {
   "cell_type": "code",
   "execution_count": 14,
   "metadata": {},
   "outputs": [
    {
     "data": {
      "text/plain": [
       "(+ 1 2)"
      ]
     },
     "execution_count": 14,
     "metadata": {},
     "output_type": "execute_result"
    }
   ],
   "source": [
    "(str '(+ 1 2));; what is (class '(+ 2 3)) ?"
   ]
  },
  {
   "cell_type": "code",
   "execution_count": 15,
   "metadata": {},
   "outputs": [
    {
     "data": {
      "text/plain": [
       "(+ 1 2)"
      ]
     },
     "execution_count": 15,
     "metadata": {},
     "output_type": "execute_result"
    }
   ],
   "source": [
    "(str (quote (+ 1 2)))"
   ]
  },
  {
   "cell_type": "markdown",
   "metadata": {},
   "source": [
    "When you want to evaluate a list, you can call [eval](https://clojuredocs.org/clojure.core/eval) on it"
   ]
  },
  {
   "cell_type": "code",
   "execution_count": 16,
   "metadata": {},
   "outputs": [
    {
     "data": {
      "text/plain": [
       "5"
      ]
     },
     "execution_count": 16,
     "metadata": {},
     "output_type": "execute_result"
    }
   ],
   "source": [
    "(eval (quote (+ 2 3)))"
   ]
  },
  {
   "cell_type": "markdown",
   "metadata": {},
   "source": [
    "## Collections and sequences\n",
    "### Lists\n",
    "As we saw, lists have to be quoted if we are to use them as data structures instead of code.\n",
    "One can efficiently prepend on a list using the [cons](https://clojuredocs.org/clojure.core/cons) function.\n",
    "The [first](https://clojuredocs.org/clojure.core/first) returns the first element of a list and the [rest](https://clojuredocs.org/clojure.core/rest) function returns all but the first element of the list."
   ]
  },
  {
   "cell_type": "code",
   "execution_count": 17,
   "metadata": {},
   "outputs": [
    {
     "data": {
      "text/plain": [
       "5"
      ]
     },
     "execution_count": 17,
     "metadata": {},
     "output_type": "execute_result"
    }
   ],
   "source": [
    "(eval (cons + '( 2 3)))"
   ]
  },
  {
   "cell_type": "markdown",
   "metadata": {},
   "source": [
    "Lists can also be created with the [list](https://clojuredocs.org/clojure.core/list) function"
   ]
  },
  {
   "cell_type": "code",
   "execution_count": 18,
   "metadata": {},
   "outputs": [
    {
     "data": {
      "text/plain": [
       "3"
      ]
     },
     "execution_count": 18,
     "metadata": {},
     "output_type": "execute_result"
    }
   ],
   "source": [
    "(eval (list + 1 2))"
   ]
  },
  {
   "cell_type": "code",
   "execution_count": 19,
   "metadata": {},
   "outputs": [
    {
     "data": {
      "text/plain": [
       "[2, 3]"
      ]
     },
     "execution_count": 19,
     "metadata": {},
     "output_type": "execute_result"
    }
   ],
   "source": [
    "(rest '(+ 2 3));; btw what is the class of '(+ 2 3) ? And what is the class of (rest '(+ 2 3)) ?"
   ]
  },
  {
   "cell_type": "markdown",
   "metadata": {},
   "source": [
    "## Vectors\n",
    "Vectors allow efficient random access (with [nth](https://clojuredocs.org/clojure.core/nth) or\n",
    "[get](https://clojuredocs.org/clojure.core/get) depending whether we want to throw an exception or return `nil` on\n",
    "out of bounds indices)\n",
    "and efficiently appending with [conj](https://clojuredocs.org/clojure.core/conj).\n",
    "\n",
    "Vectors can be declared inline with `[]` or the [vector](https://clojuredocs.org/clojure.core/vector) function.\n",
    "\n",
    "\n",
    "*Note*: [conj](https://clojuredocs.org/clojure.core/conj) can also be used on other collections such as lists and always\n",
    "adds the element at the most efficient place. So for lists it would be at the beginning like [cons](https://clojuredocs.org/clojure.core/cons)."
   ]
  },
  {
   "cell_type": "code",
   "execution_count": 20,
   "metadata": {},
   "outputs": [
    {
     "data": {
      "text/plain": [
       "[0, 1, 2, 3, a string]"
      ]
     },
     "execution_count": 20,
     "metadata": {},
     "output_type": "execute_result"
    }
   ],
   "source": [
    "(conj [0 1 2 3] \"a string\");; what is the class of [] ?"
   ]
  },
  {
   "cell_type": "markdown",
   "metadata": {},
   "source": [
    "## Collections\n",
    "Lists and vectors (among other data structures) are collections (as can be tested with the predicate [coll?](https://clojuredocs.org/clojure.core/coll?), which means that we can call the following functions\n",
    "on them :\n",
    " * [=](https://clojuredocs.org/clojure.core/=)\n",
    " * [count](https://clojuredocs.org/clojure.core/count)\n",
    " * [conj](https://clojuredocs.org/clojure.core/conj)\n",
    " * [empty](https://clojuredocs.org/clojure.core/empty)\n",
    " * [seq](https://clojuredocs.org/clojure.core/seq) → for sequences, cf. infra"
   ]
  },
  {
   "cell_type": "code",
   "execution_count": 21,
   "metadata": {},
   "outputs": [
    {
     "data": {
      "text/plain": [
       "true"
      ]
     },
     "execution_count": 21,
     "metadata": {},
     "output_type": "execute_result"
    }
   ],
   "source": [
    "(= [1 2 3] '(1 2 3))"
   ]
  },
  {
   "cell_type": "markdown",
   "metadata": {},
   "source": [
    "### Sequences\n",
    "[Sequences](https://clojure.org/reference/sequences) are an abstraction over data that can be iterated on using [first](https://clojuredocs.org/clojure.core/first) and [rest](https://clojuredocs.org/clojure.core/rest) or prepended to using [cons](https://clojuredocs.org/clojure.core/count).\n",
    "\n",
    "Lists are already sequences, and so are results of various functions. One can make a sequence over the elements of any collections with the [seq](https://clojuredocs.org/clojure.core/seq) function and test if a value is a sequence using the [seq?](https://clojuredocs.org/clojure.core/seq?)"
   ]
  },
  {
   "cell_type": "code",
   "execution_count": 22,
   "metadata": {},
   "outputs": [
    {
     "data": {
      "text/plain": [
       "false"
      ]
     },
     "execution_count": 22,
     "metadata": {},
     "output_type": "execute_result"
    }
   ],
   "source": [
    "(seq? [1 2]);; what about a list ?"
   ]
  },
  {
   "cell_type": "code",
   "execution_count": 23,
   "metadata": {},
   "outputs": [
    {
     "data": {
      "text/plain": [
       "true"
      ]
     },
     "execution_count": 23,
     "metadata": {},
     "output_type": "execute_result"
    }
   ],
   "source": [
    "(let[xs '(1 2 3)]          ;; what about a vector ?\n",
    " (identical? (seq xs) xs))"
   ]
  },
  {
   "cell_type": "markdown",
   "metadata": {},
   "source": [
    "Some sequences are lazy and can be infinite (you don't want to print them !)"
   ]
  },
  {
   "cell_type": "code",
   "execution_count": 24,
   "metadata": {},
   "outputs": [
    {
     "data": {
      "text/plain": [
       "[2, 3, 4, 5, 6, 7, 8, 9, 10, 11]"
      ]
     },
     "execution_count": 24,
     "metadata": {},
     "output_type": "execute_result"
    }
   ],
   "source": [
    "(drop 2 (take 12 (range))) ;; check that (range) returns a sequence"
   ]
  },
  {
   "cell_type": "markdown",
   "metadata": {},
   "source": [
    "One can [concat](https://clojuredocs.org/clojure.core/concat) collections "
   ]
  },
  {
   "cell_type": "code",
   "execution_count": 25,
   "metadata": {},
   "outputs": [
    {
     "data": {
      "text/plain": [
       "[1, 2, 3, 10, 20, 30, 40, 1]"
      ]
     },
     "execution_count": 25,
     "metadata": {},
     "output_type": "execute_result"
    }
   ],
   "source": [
    "(concat '(1 2 3) [10 20 30 40] '(1))"
   ]
  },
  {
   "cell_type": "markdown",
   "metadata": {},
   "source": [
    "## Functions on sequences or collections\n",
    "### Filter\n",
    "One can [filter](https://clojuredocs.org/clojure.core/filter) values according to a predicate"
   ]
  },
  {
   "cell_type": "code",
   "execution_count": 26,
   "metadata": {},
   "outputs": [
    {
     "data": {
      "text/plain": [
       "[1, 3, 5, 7, 9]"
      ]
     },
     "execution_count": 26,
     "metadata": {},
     "output_type": "execute_result"
    }
   ],
   "source": [
    "(take 5 (filter odd? (range)))"
   ]
  },
  {
   "cell_type": "markdown",
   "metadata": {},
   "source": [
    "### Map\n",
    "Not to be confused with the map data structure (cf. infra) that is an association table, one can [map](https://clojuredocs.org/clojure.core/map) a function on a sequence or collection of values. The result is lazy so it is possible to [map](https://clojuredocs.org/clojure.core/map) on an infinite (lazy) sequence."
   ]
  },
  {
   "cell_type": "code",
   "execution_count": 27,
   "metadata": {},
   "outputs": [
    {
     "data": {
      "text/plain": [
       "[1, -9, 4]"
      ]
     },
     "execution_count": 27,
     "metadata": {},
     "output_type": "execute_result"
    }
   ],
   "source": [
    "(map inc [0 -10 3]) ;; what is the class of the result ?"
   ]
  },
  {
   "cell_type": "code",
   "execution_count": 28,
   "metadata": {},
   "outputs": [
    {
     "data": {
      "text/plain": [
       "[1, -9, 4]"
      ]
     },
     "execution_count": 28,
     "metadata": {},
     "output_type": "execute_result"
    }
   ],
   "source": [
    "[(inc 0) (inc -10) (inc 3)];; "
   ]
  },
  {
   "cell_type": "markdown",
   "metadata": {},
   "source": [
    "It is possible to `map` a function taking more than one arguments on the same number of sequences/collections."
   ]
  },
  {
   "cell_type": "code",
   "execution_count": 29,
   "metadata": {},
   "outputs": [
    {
     "data": {
      "text/plain": [
       "[0, 4, 8]"
      ]
     },
     "execution_count": 29,
     "metadata": {},
     "output_type": "execute_result"
    }
   ],
   "source": [
    "(map + [1 2 3] '(-1 2 5))  ;;what if they don't have the same size ?"
   ]
  },
  {
   "cell_type": "markdown",
   "metadata": {},
   "source": [
    "### Reduce\n",
    "[reduce](https://clojuredocs.org/clojure.core/reduce) repeatedly calls a function on the same first argument taking the second argument values from the given sequence / collection."
   ]
  },
  {
   "cell_type": "code",
   "execution_count": 30,
   "metadata": {},
   "outputs": [
    {
     "data": {
      "text/plain": [
       "[0, 1, 2, 3]"
      ]
     },
     "execution_count": 30,
     "metadata": {},
     "output_type": "execute_result"
    }
   ],
   "source": [
    "(reduce conj [] [0 1 2 3]) ;; What if the given first argument is a list ? What if the second is a list ?"
   ]
  },
  {
   "cell_type": "code",
   "execution_count": 31,
   "metadata": {},
   "outputs": [
    {
     "data": {
      "text/plain": [
       "[0, 1, 2, 3]"
      ]
     },
     "execution_count": 31,
     "metadata": {},
     "output_type": "execute_result"
    }
   ],
   "source": [
    "(conj (conj (conj (conj [] 0) 1) 2) 3)"
   ]
  },
  {
   "cell_type": "markdown",
   "metadata": {},
   "source": [
    "## Functions\n",
    "[fn](https://clojuredocs.org/clojure.core/fn) declare an anonymous function, parameters are written in a vector\n",
    ", the function returns the last value"
   ]
  },
  {
   "cell_type": "code",
   "execution_count": 32,
   "metadata": {},
   "outputs": [
    {
     "data": {
      "text/plain": [
       "beaker_clojure_shell_6eda3265_81c1_4859_a167_cceb2d3f9ff6$eval230$fn__231@154375bd"
      ]
     },
     "execution_count": 32,
     "metadata": {},
     "output_type": "execute_result"
    }
   ],
   "source": [
    "(fn[] \"Hello world !\")"
   ]
  },
  {
   "cell_type": "markdown",
   "metadata": {},
   "source": [
    "The declared finction can be called as usual"
   ]
  },
  {
   "cell_type": "code",
   "execution_count": 33,
   "metadata": {},
   "outputs": [
    {
     "data": {
      "text/plain": [
       "Hello world!"
      ]
     },
     "execution_count": 33,
     "metadata": {},
     "output_type": "execute_result"
    }
   ],
   "source": [
    "((fn[] \"Hello world!\")) ;; note the surrounding ()"
   ]
  },
  {
   "cell_type": "code",
   "execution_count": 34,
   "metadata": {},
   "outputs": [
    {
     "data": {
      "text/plain": [
       "Hello Rich !"
      ]
     },
     "execution_count": 34,
     "metadata": {},
     "output_type": "execute_result"
    }
   ],
   "source": [
    "((fn[name] (str \"Hello \" name \" !\")) \"Rich\")"
   ]
  },
  {
   "cell_type": "markdown",
   "metadata": {},
   "source": [
    "## Closure : captured bindings\n",
    "Functions can close over their lexical scope to capture bindings. This allows to keep some data used by functions available for later executions of the function."
   ]
  },
  {
   "cell_type": "code",
   "execution_count": 1,
   "metadata": {},
   "outputs": [
    {
     "data": {
      "text/plain": [
       "3"
      ]
     },
     "execution_count": 1,
     "metadata": {},
     "output_type": "execute_result"
    }
   ],
   "source": [
    "(defn adder[to-add]\n",
    "    #(+ % to-add)) ;; just a toy example, should use 'partial' function instead\n",
    "(def adding-two (adder 2))\n",
    "(def adding-five (adder 5))\n",
    "\n",
    "(adding-two 1)    "
   ]
  },
  {
   "cell_type": "markdown",
   "metadata": {},
   "source": [
    "## Vars\n",
    "One defines a global [var](https://clojure.org/reference/vars) with [def](https://clojuredocs.org/clojure.core/def)"
   ]
  },
  {
   "cell_type": "code",
   "execution_count": 35,
   "metadata": {},
   "outputs": [
    {
     "data": {
      "text/plain": [
       "#'beaker_clojure_shell_6eda3265-81c1-4859-a167-cceb2d3f9ff6/pi"
      ]
     },
     "execution_count": 35,
     "metadata": {},
     "output_type": "execute_result"
    }
   ],
   "source": [
    "(def pi 3.1415927535) ;; use Math/pi instead"
   ]
  },
  {
   "cell_type": "code",
   "execution_count": 36,
   "metadata": {},
   "outputs": [
    {
     "data": {
      "text/plain": [
       "3.1415927535"
      ]
     },
     "execution_count": 36,
     "metadata": {},
     "output_type": "execute_result"
    }
   ],
   "source": [
    "pi"
   ]
  },
  {
   "cell_type": "markdown",
   "metadata": {},
   "source": [
    "A var can be bound to a function"
   ]
  },
  {
   "cell_type": "code",
   "execution_count": 37,
   "metadata": {},
   "outputs": [
    {
     "data": {
      "text/plain": [
       "Hello Rich !"
      ]
     },
     "execution_count": 37,
     "metadata": {},
     "output_type": "execute_result"
    }
   ],
   "source": [
    "(def greeting (fn [name] (str \"Hello \" name \" !\")))\n",
    "(greeting \"Rich\")"
   ]
  },
  {
   "cell_type": "markdown",
   "metadata": {},
   "source": [
    "[defn](https://clojuredocs.org/clojure.core/defn) is a shorter way to defined a function and bind a var to it at once."
   ]
  },
  {
   "cell_type": "code",
   "execution_count": 38,
   "metadata": {},
   "outputs": [
    {
     "data": {
      "text/plain": [
       "Hello Rich !"
      ]
     },
     "execution_count": 38,
     "metadata": {},
     "output_type": "execute_result"
    }
   ],
   "source": [
    "(defn greeting [name] \n",
    "    (str \"Hello \" name \" !\"))\n",
    "(greeting \"Rich\")"
   ]
  },
  {
   "cell_type": "markdown",
   "metadata": {},
   "source": [
    "Anonymous functions can also be defined with a [syntactic sugar](https://en.wikipedia.org/wiki/Syntactic_sugar)"
   ]
  },
  {
   "cell_type": "code",
   "execution_count": 39,
   "metadata": {},
   "outputs": [
    {
     "data": {
      "text/plain": [
       "[Hello Rich !, Hello Linus !]"
      ]
     },
     "execution_count": 39,
     "metadata": {},
     "output_type": "execute_result"
    }
   ],
   "source": [
    "(map #(str \"Hello \" %1 \" !\") [\"Rich\" \"Linus\"])"
   ]
  },
  {
   "cell_type": "markdown",
   "metadata": {},
   "source": [
    "One can define multi-variadic functions"
   ]
  },
  {
   "cell_type": "code",
   "execution_count": 40,
   "metadata": {},
   "outputs": [
    {
     "data": {
      "text/plain": [
       "Hello World"
      ]
     },
     "execution_count": 40,
     "metadata": {},
     "output_type": "execute_result"
    }
   ],
   "source": [
    "(defn hello3\n",
    "  ([] \"Hello World\")\n",
    "  ([name] (str \"Hello \" name)))\n",
    "(hello3)"
   ]
  },
  {
   "cell_type": "code",
   "execution_count": 41,
   "metadata": {},
   "outputs": [
    {
     "data": {
      "text/plain": [
       "Hello Rich"
      ]
     },
     "execution_count": 41,
     "metadata": {},
     "output_type": "execute_result"
    }
   ],
   "source": [
    "(hello3 \"Rich\")"
   ]
  },
  {
   "cell_type": "markdown",
   "metadata": {},
   "source": [
    "Functions can pack the remaining arguments, if any, in a sequence using `&` at the end of the argument list"
   ]
  },
  {
   "cell_type": "code",
   "execution_count": 42,
   "metadata": {},
   "outputs": [
    {
     "data": {
      "text/plain": [
       "You passed 3 args: (1 2 3)"
      ]
     },
     "execution_count": 42,
     "metadata": {},
     "output_type": "execute_result"
    }
   ],
   "source": [
    "(defn count-args [& args]\n",
    "  (str \"You passed \" (count args) \" args: \" args))\n",
    "(count-args 1 2 3)"
   ]
  },
  {
   "cell_type": "code",
   "execution_count": 43,
   "metadata": {},
   "outputs": [
    {
     "data": {
      "text/plain": [
       "Hello Richard, you passed 3 extra args"
      ]
     },
     "execution_count": 43,
     "metadata": {},
     "output_type": "execute_result"
    }
   ],
   "source": [
    "(defn hello-count [name & args]\n",
    "  (str \"Hello \" name \", you passed \" (count args) \" extra args\"))\n",
    "(hello-count \"Richard\" 1 2 3)"
   ]
  },
  {
   "cell_type": "markdown",
   "metadata": {},
   "source": [
    "## Maps\n",
    "Maps are associative collections. Any type ca be used as key or value, but keywords make for very efficient keys (thanks to interning). They can be written using curly braces `{}` or with the [array-map](https://clojuredocs.org/clojure.core/array-map) or the [hash-map](https://clojuredocs.org/clojure.core/hash-map) functions. Hash maps are more efficient for large maps and are created as needed for large maps."
   ]
  },
  {
   "cell_type": "code",
   "execution_count": 44,
   "metadata": {},
   "outputs": [
    {
     "data": {
      "text/plain": [
       "class clojure.lang.PersistentArrayMap"
      ]
     },
     "execution_count": 44,
     "metadata": {},
     "output_type": "execute_result"
    }
   ],
   "source": [
    "(class {1 \"one\" :two 2. false 3})"
   ]
  },
  {
   "cell_type": "code",
   "execution_count": 45,
   "metadata": {},
   "outputs": [
    {
     "data": {
      "text/plain": [
       "class clojure.lang.PersistentHashMap"
      ]
     },
     "execution_count": 45,
     "metadata": {},
     "output_type": "execute_result"
    }
   ],
   "source": [
    "(def test-map (hash-map 0 false \"one\" :one))\n",
    "(class test-map)"
   ]
  },
  {
   "cell_type": "markdown",
   "metadata": {},
   "source": [
    "maps can be used as functions on a key to retrieve the associated value"
   ]
  },
  {
   "cell_type": "code",
   "execution_count": 46,
   "metadata": {},
   "outputs": [
    {
     "data": {
      "text/plain": [
       ":one"
      ]
     },
     "execution_count": 46,
     "metadata": {},
     "output_type": "execute_result"
    }
   ],
   "source": [
    "(test-map \"one\") ;; what if the key is missing ?"
   ]
  },
  {
   "cell_type": "markdown",
   "metadata": {},
   "source": [
    "Keywords can be used as functions to retrieve value from a map"
   ]
  },
  {
   "cell_type": "code",
   "execution_count": 47,
   "metadata": {},
   "outputs": [
    {
     "data": {
      "text/plain": [
       "[-1, 2]"
      ]
     },
     "execution_count": 47,
     "metadata": {},
     "output_type": "execute_result"
    }
   ],
   "source": [
    "(def a-map {:a [1] :c [] :b [2] :e [-1 2]})\n",
    "(:e a-map)"
   ]
  },
  {
   "cell_type": "markdown",
   "metadata": {},
   "source": [
    "[assoc](https://clojuredocs.org/clojure.core/assoc) can \"add\" keys and values to a map (actually, returning a new immutable map) "
   ]
  },
  {
   "cell_type": "code",
   "execution_count": 48,
   "metadata": {},
   "outputs": [
    {
     "data": {
      "application/vnd.jupyter.widget-view+json": {
       "model_id": "90141132-0408-4efa-bd51-fc17c3e0026f",
       "version_major": 2,
       "version_minor": 0
      },
      "method": "display_data"
     },
     "metadata": {},
     "output_type": "display_data"
    }
   ],
   "source": [
    "(assoc a-map :f [0 1]) ;; can you add more than one pair of key / value ?"
   ]
  },
  {
   "cell_type": "markdown",
   "metadata": {},
   "source": [
    "The data structure is not changed (it is *immutable*), `assoc` (efficiently) returned a new one"
   ]
  },
  {
   "cell_type": "code",
   "execution_count": 49,
   "metadata": {},
   "outputs": [
    {
     "data": {
      "application/vnd.jupyter.widget-view+json": {
       "model_id": "1db72d08-eb07-496e-8602-20c7fac76f1d",
       "version_major": 2,
       "version_minor": 0
      },
      "method": "display_data"
     },
     "metadata": {},
     "output_type": "display_data"
    }
   ],
   "source": [
    "a-map"
   ]
  },
  {
   "cell_type": "code",
   "execution_count": 50,
   "metadata": {},
   "outputs": [
    {
     "data": {
      "application/vnd.jupyter.widget-view+json": {
       "model_id": "947bc1fa-63eb-41ab-9fd1-897e8fed0455",
       "version_major": 2,
       "version_minor": 0
      },
      "method": "display_data"
     },
     "metadata": {},
     "output_type": "display_data"
    }
   ],
   "source": [
    "(dissoc a-map :b) ;; what if you have more than one key as arguments after the map ?"
   ]
  },
  {
   "cell_type": "markdown",
   "metadata": {},
   "source": [
    "Obviously, `dissoc` does not change the map either, it just returned a new map"
   ]
  },
  {
   "cell_type": "code",
   "execution_count": 51,
   "metadata": {},
   "outputs": [
    {
     "data": {
      "application/vnd.jupyter.widget-view+json": {
       "model_id": "6c129643-cc2f-459e-8ffa-2ced67f6f015",
       "version_major": 2,
       "version_minor": 0
      },
      "method": "display_data"
     },
     "metadata": {},
     "output_type": "display_data"
    }
   ],
   "source": [
    "a-map"
   ]
  },
  {
   "cell_type": "markdown",
   "metadata": {},
   "source": [
    "### Sets\n",
    "Sets are collections that remove dupplicates and allow for efficiently testing if the collection contains a given value. They can be written with curly braces prefixed by a hash `#{}` or with the [hash-set](https://clojuredocs.org/clojure.core/hash-set) or the [sorted-set](https://clojuredocs.org/clojure.core/sorted-set) functions or the [sorted-set-by](https://clojuredocs.org/clojure.core/sorted-set-by) variant that allows to specify a comparison function. The [set](https://clojuredocs.org/clojure.core/set) function takes a collection as an argument instead of values."
   ]
  },
  {
   "cell_type": "code",
   "execution_count": 52,
   "metadata": {},
   "outputs": [
    {
     "data": {
      "text/plain": [
       "class clojure.lang.PersistentHashSet"
      ]
     },
     "execution_count": 52,
     "metadata": {},
     "output_type": "execute_result"
    }
   ],
   "source": [
    "(class #{1 2 3})"
   ]
  },
  {
   "cell_type": "code",
   "execution_count": 53,
   "metadata": {},
   "outputs": [
    {
     "data": {
      "text/plain": [
       "[1, 3, 2]"
      ]
     },
     "execution_count": 53,
     "metadata": {},
     "output_type": "execute_result"
    }
   ],
   "source": [
    "(hash-set 1 2 3 1 2 3 3 2 1 3 2 1)"
   ]
  },
  {
   "cell_type": "code",
   "execution_count": 54,
   "metadata": {},
   "outputs": [
    {
     "data": {
      "text/plain": [
       "class clojure.lang.PersistentHashSet"
      ]
     },
     "execution_count": 54,
     "metadata": {},
     "output_type": "execute_result"
    }
   ],
   "source": [
    "(class (set [1 2 3 1 2 3 3 2 1 3 2 1]));;"
   ]
  },
  {
   "cell_type": "markdown",
   "metadata": {},
   "source": [
    "As with other collections, one can add a value (actually, returning a new set with the added value, because/thanks to immutability) with [conj](https://clojuredocs.org/clojure.core/conj)."
   ]
  },
  {
   "cell_type": "code",
   "execution_count": 55,
   "metadata": {},
   "outputs": [
    {
     "data": {
      "text/plain": [
       "[1, 4, 3, 2]"
      ]
     },
     "execution_count": 55,
     "metadata": {},
     "output_type": "execute_result"
    }
   ],
   "source": [
    "(conj #{1 2 3} 4) ;; what if the value was already in the set ?"
   ]
  },
  {
   "cell_type": "markdown",
   "metadata": {},
   "source": [
    "One can remove (actually, return a new set with the value removed, because/ thanks to immutability) with [disj](https://clojuredocs.org/clojure.core/sorted-set-by)."
   ]
  },
  {
   "cell_type": "code",
   "execution_count": 56,
   "metadata": {},
   "outputs": [
    {
     "data": {
      "text/plain": [
       "[1, 3]"
      ]
     },
     "execution_count": 56,
     "metadata": {},
     "output_type": "execute_result"
    }
   ],
   "source": [
    "(disj #{1 3 2} 2)"
   ]
  },
  {
   "cell_type": "markdown",
   "metadata": {},
   "source": [
    "One can use the set as a function that will test is the argument is contained by the set."
   ]
  },
  {
   "cell_type": "code",
   "execution_count": 57,
   "metadata": {},
   "outputs": [
    {
     "data": {
      "text/plain": [
       "3"
      ]
     },
     "execution_count": 57,
     "metadata": {},
     "output_type": "execute_result"
    }
   ],
   "source": [
    "(#{1 3 2} 3) ;; what is returned when the value is in the set ? What is returned when it is not ?"
   ]
  },
  {
   "cell_type": "markdown",
   "metadata": {},
   "source": [
    "## Forms\n",
    "Besides functions call code can take other forms.\n",
    "### if\n",
    "`if` is a funtional test akin to the ternary operator of languages like C or Java."
   ]
  },
  {
   "cell_type": "code",
   "execution_count": 58,
   "metadata": {},
   "outputs": [
    {
     "data": {
      "text/plain": [
       "b"
      ]
     },
     "execution_count": 58,
     "metadata": {},
     "output_type": "execute_result"
    }
   ],
   "source": [
    "(if false \"a\" \"b\")"
   ]
  },
  {
   "cell_type": "code",
   "execution_count": 59,
   "metadata": {},
   "outputs": [
    {
     "data": {
      "text/plain": [
       "null"
      ]
     },
     "execution_count": 59,
     "metadata": {},
     "output_type": "execute_result"
    }
   ],
   "source": [
    "(if false \"a\")"
   ]
  },
  {
   "cell_type": "markdown",
   "metadata": {},
   "source": [
    "### let\n",
    "`let` allows for local (i.e. lexical scope) bindings."
   ]
  },
  {
   "cell_type": "code",
   "execution_count": 60,
   "metadata": {},
   "outputs": [
    {
     "data": {
      "text/plain": [
       "false"
      ]
     },
     "execution_count": 60,
     "metadata": {},
     "output_type": "execute_result"
    }
   ],
   "source": [
    "(let [a 1\n",
    "      b 2]\n",
    "  (> a b))"
   ]
  },
  {
   "cell_type": "markdown",
   "metadata": {},
   "source": [
    "### do\n",
    "`do` allows to group multiple expressions together and evaluates to the value of the last expression. It is mostly useful for expressions with side-effects."
   ]
  },
  {
   "cell_type": "code",
   "execution_count": 61,
   "metadata": {},
   "outputs": [
    {
     "name": "stdout",
     "output_type": "stream",
     "text": [
      "Hello"
     ]
    },
    {
     "data": {
      "text/plain": [
       "World"
      ]
     },
     "execution_count": 61,
     "metadata": {},
     "output_type": "execute_result"
    }
   ],
   "source": [
    "(do\n",
    "  (print \"Hello\")\n",
    "  (.flush *out*)\n",
    "  \"World\")"
   ]
  },
  {
   "cell_type": "markdown",
   "metadata": {},
   "source": [
    "Functions and `let` have an implicit `do` and can contain multiple expressions."
   ]
  },
  {
   "cell_type": "code",
   "execution_count": 62,
   "metadata": {},
   "outputs": [
    {
     "name": "stdout",
     "output_type": "stream",
     "text": [
      "Saying hello to  Jeff"
     ]
    },
    {
     "data": {
      "text/plain": [
       "Hello Jeff"
      ]
     },
     "execution_count": 62,
     "metadata": {},
     "output_type": "execute_result"
    }
   ],
   "source": [
    "(defn print-and-say-hello [name]\n",
    "  (print \"Saying hello to \" name)\n",
    "  (.flush *out*)\n",
    "  (str \"Hello \" name))\n",
    "(print-and-say-hello \"Jeff\")"
   ]
  },
  {
   "cell_type": "code",
   "execution_count": 63,
   "metadata": {},
   "outputs": [
    {
     "name": "stdout",
     "output_type": "stream",
     "text": [
      "Saying hello to  Urkel\n"
     ]
    },
    {
     "data": {
      "text/plain": [
       "Hello Urkel"
      ]
     },
     "execution_count": 63,
     "metadata": {},
     "output_type": "execute_result"
    }
   ],
   "source": [
    "(let [name \"Urkel\"]\n",
    "  (println \"Saying hello to \" name)\n",
    "  (.flush *out*)\n",
    "  (str \"Hello \" name))"
   ]
  },
  {
   "cell_type": "markdown",
   "metadata": {},
   "source": [
    "## Macros\n",
    "*Macros* look like functions but they are executed **before** run time on the **code** as written to transform it into other code (that would have been more tedious to write by hand).\n",
    "### when\n",
    "[when](https://clojuredocs.org/clojure.core/when) packs `if` and `do` in order to allow multiple expressions after an `if`"
   ]
  },
  {
   "cell_type": "code",
   "execution_count": 64,
   "metadata": {},
   "outputs": [
    {
     "name": "stdout",
     "output_type": "stream",
     "text": [
      "doing something\n",
      "doing something else\n"
     ]
    },
    {
     "data": {
      "text/plain": [
       "test was true !"
      ]
     },
     "execution_count": 64,
     "metadata": {},
     "output_type": "execute_result"
    }
   ],
   "source": [
    "(when (< 1 2)\n",
    "(println \"doing something\")\n",
    "(println \"doing something else\")\n",
    "(.flush *out*)\n",
    "\"test was true !\")"
   ]
  },
  {
   "cell_type": "markdown",
   "metadata": {},
   "source": [
    "[macroexpand](https://clojuredocs.org/clojure.core/macroexpand) allows you to get the result of expanding a macro instead of just using the macro to write your program."
   ]
  },
  {
   "cell_type": "code",
   "execution_count": 66,
   "metadata": {},
   "outputs": [
    {
     "data": {
      "text/plain": [
       "(if (< 1 2) (do (println \"doing something\") (println \"doing something else\") (.flush *out*) \"test was true !\"))"
      ]
     },
     "execution_count": 66,
     "metadata": {},
     "output_type": "execute_result"
    }
   ],
   "source": [
    "(str (macroexpand '(when (< 1 2)   ;; why do we need to quote the expression for macroexpand ?\n",
    "                    (println \"doing something\")\n",
    "                    (println \"doing something else\")\n",
    "                    (.flush *out*)\n",
    "                    \"test was true !\"))) ;; the str was only for disply purposes"
   ]
  },
  {
   "cell_type": "markdown",
   "metadata": {},
   "source": [
    "### cond and condp\n",
    "[cond](https://clojuredocs.org/clojure.core/cond) and [condp](https://clojuredocs.org/clojure.core/condp) are the functional equivalent of `switch` statements in imperative languages like C.\n",
    "\n",
    "Remarkably, the can be implemented as macro instead of requiring any special language support."
   ]
  },
  {
   "cell_type": "code",
   "execution_count": 3,
   "metadata": {},
   "outputs": [
    {
     "data": {
      "text/plain": [
       "B"
      ]
     },
     "execution_count": 3,
     "metadata": {},
     "output_type": "execute_result"
    }
   ],
   "source": [
    "(let [grade 85]\n",
    "    (cond\n",
    "    (>= grade 90) \"A\"\n",
    "    (>= grade 80) \"B\"\n",
    "    (>= grade 70) \"C\"\n",
    "    (>= grade 60) \"D\"\n",
    "    :else \"F\"))"
   ]
  },
  {
   "cell_type": "code",
   "execution_count": 11,
   "metadata": {},
   "outputs": [
    {
     "data": {
      "text/plain": [
       "(if (>= grade 90) \"A\" (clojure.core/cond (>= grade 80) \"B\" (>= grade 70) \"C\" (>= grade 60) \"D\" :else \"F\"))"
      ]
     },
     "execution_count": 11,
     "metadata": {},
     "output_type": "execute_result"
    }
   ],
   "source": [
    "(str\n",
    "(macroexpand '(cond\n",
    "                (>= grade 90) \"A\"\n",
    "                (>= grade 80) \"B\"\n",
    "                (>= grade 70) \"C\"\n",
    "                (>= grade 60) \"D\"\n",
    "                :else \"F\")))"
   ]
  },
  {
   "cell_type": "code",
   "execution_count": 13,
   "metadata": {},
   "outputs": [
    {
     "data": {
      "text/plain": [
       "two"
      ]
     },
     "execution_count": 13,
     "metadata": {},
     "output_type": "execute_result"
    }
   ],
   "source": [
    "(defn translate [value]\n",
    "    (condp = value\n",
    "             1 \"one\"\n",
    "             2 \"two\"\n",
    "             3 \"three\"\n",
    "             (str \"unexpected value, \\\"\" value \\\")))\n",
    "(translate 2)"
   ]
  },
  {
   "cell_type": "code",
   "execution_count": 19,
   "metadata": {},
   "outputs": [
    {
     "data": {
      "text/plain": [
       "(let* [pred__213 = expr__214 value] (if (pred__213 1 expr__214) \"one\" (if (pred__213 2 expr__214) \"two\" (if (pred__213 3 expr__214) \"three\" (str \"unexpected value, \\\"\" value \\\")))))"
      ]
     },
     "execution_count": 19,
     "metadata": {},
     "output_type": "execute_result"
    }
   ],
   "source": [
    "(str ;; only to display proprely in the notebook\n",
    "(macroexpand '(condp = value\n",
    "             1 \"one\"\n",
    "             2 \"two\"\n",
    "             3 \"three\"\n",
    "             (str \"unexpected value, \\\"\" value \\\"))))"
   ]
  },
  {
   "cell_type": "markdown",
   "metadata": {},
   "source": [
    ")### Threading macros\n",
    "Nesting functions can be cumbersome to write and read (left to right) because the fuction calls are \"inside first\" :\n",
    "\n",
    "\n",
    "with `(f (g (h x)))` one read `f`, `g` and `h` while `h` is called first, then `g`, then `f`.\n",
    "Theading macros allow to write code in the execution order and have it nested in the correct evaluation order automatically.\n",
    "\n",
    "`->` inserts the result as the first argument of functions"
   ]
  },
  {
   "cell_type": "code",
   "execution_count": 69,
   "metadata": {},
   "outputs": [
    {
     "data": {
      "text/plain": [
       "-1"
      ]
     },
     "execution_count": 69,
     "metadata": {},
     "output_type": "execute_result"
    }
   ],
   "source": [
    "(-> {:a 1 :b 2} (assoc :c 3) (dissoc :b) :a (- 2))"
   ]
  },
  {
   "cell_type": "markdown",
   "metadata": {},
   "source": [
    "`->>` does the same thing as `->` but threads the (provided / returned) value as the *last* argument of functions."
   ]
  },
  {
   "cell_type": "code",
   "execution_count": 74,
   "metadata": {},
   "outputs": [
    {
     "data": {
      "text/plain": [
       "[1, 3, 5, 7, 9]"
      ]
     },
     "execution_count": 74,
     "metadata": {},
     "output_type": "execute_result"
    }
   ],
   "source": [
    "(->>\n",
    "   (range)\n",
    "   (take 10)\n",
    "   (map inc)     ;=> (map inc (range 10)\n",
    "   (filter odd?) ;=> (filter odd? (map inc (range 10))\n",
    "   (into []))"
   ]
  },
  {
   "cell_type": "markdown",
   "metadata": {},
   "source": [
    "`as->` allows you to name the value and then use that name as a placeholder to control which argument will be replaced by the threaded value."
   ]
  },
  {
   "cell_type": "code",
   "execution_count": 76,
   "metadata": {},
   "outputs": [
    {
     "data": {
      "text/plain": [
       "[4, 5, 6, 4, [8, 9, 10]]"
      ]
     },
     "execution_count": 76,
     "metadata": {},
     "output_type": "execute_result"
    }
   ],
   "source": [
    "(as-> [1 2 3] input\n",
    "  (map inc input);=> You can use last transform's output at the last position\n",
    "  (nth input 2) ;=>  and at the second position, in the same expression\n",
    "  (conj [4 5 6] input [8 9 10])) ;=> or in the middle !\n"
   ]
  },
  {
   "cell_type": "markdown",
   "metadata": {},
   "source": [
    "## Modules\n",
    "One can import modules with [require](https://clojuredocs.org/clojure.core/require)."
   ]
  },
  {
   "cell_type": "code",
   "execution_count": 81,
   "metadata": {},
   "outputs": [
    {
     "data": {
      "text/plain": [
       "true"
      ]
     },
     "execution_count": 81,
     "metadata": {},
     "output_type": "execute_result"
    }
   ],
   "source": [
    "(require 'clojure.string)\n",
    "(clojure.string/blank? \"\")"
   ]
  },
  {
   "cell_type": "markdown",
   "metadata": {},
   "source": [
    "(Does not work with notebooks, but one can give aliases to namespaces in Clojure programs `(require '[clojure.string :as str])`)"
   ]
  },
  {
   "cell_type": "code",
   "execution_count": 84,
   "metadata": {},
   "outputs": [
    {
     "data": {
      "text/plain": [
       "THIs Is A tEst."
      ]
     },
     "execution_count": 84,
     "metadata": {},
     "output_type": "execute_result"
    }
   ],
   "source": [
    "(clojure.string/replace \"This is a test.\" #\"[a-o]\" clojure.string/upper-case) ;; #\"[a-o]\" is a regular expression literal"
   ]
  },
  {
   "cell_type": "code",
   "execution_count": 85,
   "metadata": {},
   "outputs": [
    {
     "data": {
      "text/plain": [
       "class java.util.regex.Pattern"
      ]
     },
     "execution_count": 85,
     "metadata": {},
     "output_type": "execute_result"
    }
   ],
   "source": [
    "(class #\"[a-o]\")"
   ]
  },
  {
   "cell_type": "markdown",
   "metadata": {},
   "source": [
    "## Java interoperability\n",
    "[Java interoperability](https://clojure.org/reference/java_interop) is extensive.\n",
    "### Java static method calls\n",
    "static methods and attributes can be accessed with `/`"
   ]
  },
  {
   "cell_type": "code",
   "execution_count": 98,
   "metadata": {},
   "outputs": [
    {
     "data": {
      "text/plain": [
       "[1537435798901, 3.141592653589793]"
      ]
     },
     "execution_count": 98,
     "metadata": {},
     "output_type": "execute_result"
    }
   ],
   "source": [
    "[(System/currentTimeMillis)\n",
    "Math/PI]"
   ]
  },
  {
   "cell_type": "markdown",
   "metadata": {},
   "source": [
    "### Java import\n",
    "Java classes can be imported with [import](https://clojuredocs.org/clojure.core/import)"
   ]
  },
  {
   "cell_type": "code",
   "execution_count": 87,
   "metadata": {},
   "outputs": [
    {
     "data": {
      "text/plain": [
       "2018-09-20"
      ]
     },
     "execution_count": 87,
     "metadata": {},
     "output_type": "execute_result"
    }
   ],
   "source": [
    "(import java.time.LocalDate)\n",
    "(LocalDate/now)"
   ]
  },
  {
   "cell_type": "markdown",
   "metadata": {},
   "source": [
    "### Java method calls\n",
    "Java methods can be called on objects like functions by prefixing the name with `.`"
   ]
  },
  {
   "cell_type": "code",
   "execution_count": 94,
   "metadata": {},
   "outputs": [
    {
     "data": {
      "text/plain": [
       "2018-09-22"
      ]
     },
     "execution_count": 94,
     "metadata": {},
     "output_type": "execute_result"
    }
   ],
   "source": [
    "(.plusDays (LocalDate/now) 2)"
   ]
  },
  {
   "cell_type": "markdown",
   "metadata": {},
   "source": [
    "Java methods can also be called with the dot form, providing the objet and then the method (and arguments if anay) to the `.`"
   ]
  },
  {
   "cell_type": "code",
   "execution_count": 95,
   "metadata": {},
   "outputs": [
    {
     "data": {
      "text/plain": [
       "2018-09-22"
      ]
     },
     "execution_count": 95,
     "metadata": {},
     "output_type": "execute_result"
    }
   ],
   "source": [
    "(. (LocalDate/now) plusDays 2)"
   ]
  },
  {
   "cell_type": "code",
   "execution_count": 90,
   "metadata": {},
   "outputs": [
    {
     "data": {
      "text/plain": [
       "2018-09-29"
      ]
     },
     "execution_count": 90,
     "metadata": {},
     "output_type": "execute_result"
    }
   ],
   "source": [
    "(.plusWeeks (.plusDays (LocalDate/now) 2) 1);; rewrite with a threading macro ? (immutablity ftw !)"
   ]
  },
  {
   "cell_type": "markdown",
   "metadata": {},
   "source": [
    "### Java constructors\n",
    "Java constructors can be called like functions by postfixing the class name with `.`"
   ]
  },
  {
   "cell_type": "code",
   "execution_count": 93,
   "metadata": {},
   "outputs": [
    {
     "data": {
      "text/plain": [
       "Thu Sep 20 09:22:14 GMT 2018"
      ]
     },
     "execution_count": 93,
     "metadata": {},
     "output_type": "execute_result"
    }
   ],
   "source": [
    "(import java.util.Date)\n",
    "(Date.)"
   ]
  },
  {
   "cell_type": "markdown",
   "metadata": {},
   "source": [
    "The [doto](https://clojuredocs.org/clojure.core/doto) macro allows to thread the object as the first argument to methods and functions and return the object. (Compared to `->` that threads the result from function calls to function calls and returns it)."
   ]
  },
  {
   "cell_type": "code",
   "execution_count": 99,
   "metadata": {},
   "outputs": [
    {
     "name": "stdout",
     "output_type": "stream",
     "text": [
      "#object[java.time.LocalDate 0x426006da 2018-09-20]\n",
      "#object[java.time.LocalDate 0x426006da 2018-09-20]\n",
      "#object[java.time.LocalDate 0x426006da 2018-09-20]\n"
     ]
    },
    {
     "data": {
      "text/plain": [
       "2018-09-20"
      ]
     },
     "execution_count": 99,
     "metadata": {},
     "output_type": "execute_result"
    }
   ],
   "source": [
    "(doto (LocalDate/now)\n",
    "      (println)\n",
    "      (.plusDays 2)\n",
    "      (println)\n",
    "      (.plusWeeks 1)\n",
    "      (println))"
   ]
  },
  {
   "cell_type": "code",
   "execution_count": 91,
   "metadata": {},
   "outputs": [
    {
     "name": "stdout",
     "output_type": "stream",
     "text": [
      "#object[java.util.HashMap 0x7de74814 {a=1, b=2}]\n"
     ]
    },
    {
     "data": {
      "application/vnd.jupyter.widget-view+json": {
       "model_id": "55cd2965-df9d-47cf-9106-73fb9cf8318a",
       "version_major": 2,
       "version_minor": 0
      },
      "method": "display_data"
     },
     "metadata": {},
     "output_type": "display_data"
    }
   ],
   "source": [
    "(doto (java.util.HashMap.)\n",
    "            (.put \"a\" 1)\n",
    "            (.put \"b\" 2)\n",
    "            (println))"
   ]
  },
  {
   "cell_type": "markdown",
   "metadata": {},
   "source": [
    "### Java arrays\n",
    "For performance or interoperability reasons, one might want to use java arrays. However, these are obviously **not immutable**. One can make arrays of references with [make-array](https://clojuredocs.org/clojure.core/make-array) and use [aset](https://clojuredocs.org/clojure.core/aset) and [aget](https://clojuredocs.org/clojure.core/aget) to set and get elements of the array. Arrays of primitive types can be created and used with specific functions such as [int-array](https://clojuredocs.org/clojure.core/int-array), [aset-int](https://clojuredocs.org/clojure.core/aset-int) and [aget-int](https://clojuredocs.org/clojure.core/aset-int). [aget](https://clojuredocs.org/clojure.core/aget) and [alength](https://clojuredocs.org/clojure.core/alength) work on arrays of all types."
   ]
  },
  {
   "cell_type": "code",
   "execution_count": 6,
   "metadata": {},
   "outputs": [
    {
     "name": "stdout",
     "output_type": "stream",
     "text": [
      "[I@362c6ef3[0 0 0 0 0 0 0 0]\n"
     ]
    },
    {
     "data": {
      "text/plain": [
       "[I@362c6ef3[0 0 0 0 256 0 0 0]"
      ]
     },
     "execution_count": 6,
     "metadata": {},
     "output_type": "execute_result"
    }
   ],
   "source": [
    "(def int-a (int-array 8))\n",
    "(println (str int-a (vec int-a)))\n",
    "(aset-int int-a 4 256)\n",
    "(str int-a (vec int-a))"
   ]
  },
  {
   "cell_type": "markdown",
   "metadata": {},
   "source": [
    "## Concurrency\n",
    "Most concurrency issues are completely sidestepped by functional programming on **immutable** data. However, any useful\n",
    "program has to deal with side effects and some mutable state can be useful. There are [many ways to manage states in Clojure](https://aphyr.com/posts/306-clojure-from-the-ground-up-state) and to [manage concurrency and parallelism in Clojure](http://clojure-doc.org/articles/language/concurrency_and_parallelism.html), we'll only see a few of them. \n",
    "### Agents\n",
    "[Agents](https://clojure.org/reference/agents) store a value that can be changed by a\n",
    "a function taking the previous value as an argument. The function calls and the resulting update of the value are done by\n",
    "asynchronous messages that are queued so the messages can be sent from concurrent threads.\n",
    "Agents are created with the [agent](https://clojuredocs.org/clojure.core/agent) function taking the initial value as an argument. Messages are sent using the [send](https://clojuredocs.org/clojure.core/send) function and the current state is accessed with the [deref](https://clojuredocs.org/clojure.core/deref) function or the `@` prefix"
   ]
  },
  {
   "cell_type": "code",
   "execution_count": 2,
   "metadata": {},
   "outputs": [
    {
     "name": "stdout",
     "output_type": "stream",
     "text": [
      "0\n",
      "5\n",
      "15\n"
     ]
    },
    {
     "data": {
      "text/plain": [
       "clojure.lang.Agent@4870b321"
      ]
     },
     "execution_count": 2,
     "metadata": {},
     "output_type": "execute_result"
    }
   ],
   "source": [
    "(def x (agent 0))\n",
    "(println @x)\n",
    "(defn increment [c n] (+ c n))\n",
    "(send x increment 5)  ; @x -> 5\n",
    "(println @x)\n",
    "(send x increment 10)\n",
    "(println @x)\n",
    "x"
   ]
  },
  {
   "cell_type": "code",
   "execution_count": null,
   "metadata": {},
   "outputs": [],
   "source": [
    "[await](https://clojuredocs.org/clojure.core/send) can be used to wait until all messages to one or more agents\n",
    "have been processed."
   ]
  },
  {
   "cell_type": "code",
   "execution_count": 6,
   "metadata": {},
   "outputs": [
    {
     "name": "stdout",
     "output_type": "stream",
     "text": [
      "60\n",
      "#object[clojure.lang.Agent 0x4870b321 {:status :ready, :val 60}]\n",
      "#object[clojure.lang.Agent 0x4870b321 {:status :ready, :val 75}]\n"
     ]
    },
    {
     "data": {
      "text/plain": [
       "null"
      ]
     },
     "execution_count": 6,
     "metadata": {},
     "output_type": "execute_result"
    }
   ],
   "source": [
    "(defn slow-increment [c n] (Thread/sleep 20000)(+ c n))\n",
    "(send x slow-increment 5)  ; @x -> 5\n",
    "(println @x)\n",
    "(send x slow-increment 10)\n",
    "(println x)\n",
    "(await x)\n",
    "(println x)\n",
    "(.flush *out*)"
   ]
  },
  {
   "cell_type": "markdown",
   "metadata": {},
   "source": [
    "### Atoms\n",
    "[Atoms](https://clojure.org/reference/atoms) allow for atomic updates of a single state. They are created with the [atom](https://clojuredocs.org/clojure.core/atom) function. And the stored state can be accessed with the [deref](https://clojuredocs.org/clojure.core/deref) function or the `@` prefix.\n",
    "\n",
    "The value stored in an atom can be updated with the [swap!](https://clojuredocs.org/clojure.core/swap!) function that takes the current value as an argument and return the new value to be stored in the atom."
   ]
  },
  {
   "cell_type": "code",
   "execution_count": 8,
   "metadata": {},
   "outputs": [
    {
     "name": "stdout",
     "output_type": "stream",
     "text": [
      "{:a 0}\n"
     ]
    },
    {
     "data": {
      "application/vnd.jupyter.widget-view+json": {
       "model_id": "61546ff2-3452-4825-befa-d7ed12bffb87",
       "version_major": 2,
       "version_minor": 0
      },
      "method": "display_data"
     },
     "metadata": {},
     "output_type": "display_data"
    }
   ],
   "source": [
    "(def my-atom (atom {:a 0}))\n",
    "(println @my-atom)\n",
    "(swap! my-atom #(assoc % :b 1));; can be called from multiple concurrent threads\n",
    "@my-atom"
   ]
  },
  {
   "cell_type": "code",
   "execution_count": 16,
   "metadata": {},
   "outputs": [
    {
     "data": {
      "text/plain": [
       "0"
      ]
     },
     "execution_count": 16,
     "metadata": {},
     "output_type": "execute_result"
    },
    {
     "name": "stdout",
     "output_type": "stream",
     "text": [
      "1\n",
      "2\n",
      "3\n",
      "4\n",
      "5\n",
      "6\n",
      "7\n",
      "8\n",
      "9\n",
      "10\n"
     ]
    }
   ],
   "source": [
    "(def int-atom (atom 0))\n",
    "(defn slow-inc[x]\n",
    "   (let[current-value x] ;; not useful, just to emphasis that the value we use was read before sleeping\n",
    "       (Thread/sleep 10000)\n",
    "       (inc current-value)))\n",
    "(dotimes [i 10] (.start (Thread. #(do (swap! int-atom slow-inc)(println @int-atom)))));; clojure functions are Runnable\n",
    "@int-atom"
   ]
  },
  {
   "cell_type": "markdown",
   "metadata": {},
   "source": [
    "### Futures\n",
    "While one can use a `java.lang.Thread` with clojure functions because they implement the `java.lang.Runnable` interface,\n",
    "the [future](https://clojuredocs.org/clojure.core/future) function can more easily be used to launch an asynchronuous call when we are interested in the result. The result can be synchronously accessed later by using the [deref](https://clojuredocs.org/clojure.core/deref) function or the `@` prefix."
   ]
  },
  {
   "cell_type": "code",
   "execution_count": 18,
   "metadata": {},
   "outputs": [
    {
     "name": "stdout",
     "output_type": "stream",
     "text": [
      "before access\n",
      ":done\n"
     ]
    },
    {
     "data": {
      "text/plain": [
       "null"
      ]
     },
     "execution_count": 18,
     "metadata": {},
     "output_type": "execute_result"
    }
   ],
   "source": [
    "(def f (future (Thread/sleep 10000) :done))\n",
    "(println \"before access\")\n",
    "(.flush *out*)\n",
    "(println @f)"
   ]
  },
  {
   "cell_type": "markdown",
   "metadata": {},
   "source": [
    "### Refs\n",
    "[Refs](https://clojure.org/reference/refs) allow for [Software Transactional Memory](https://en.wikipedia.org/wiki/Software_transactional_memory) over multiple states. \n",
    "The [ref](https://clojuredocs.org/clojure.core/ref) is used to create a /ref/ with the initial value, [deref](https://clojuredocs.org/clojure.core/deref) or the `@` prefix is used to retrieve the value.The [alter](https://clojuredocs.org/clojure.core/alter) function cals in a [dosync](https://clojuredocs.org/clojure.core/dosync) scope allow for transactional modifications inside the scope. No side effect should be performed by the function used to alter the refs as they can be retried as needed."
   ]
  },
  {
   "cell_type": "code",
   "execution_count": 23,
   "metadata": {},
   "outputs": [
    {
     "name": "stdout",
     "output_type": "stream",
     "text": [
      "[5 4 7 6 14 2 1 12]\n",
      "[15 3 8 9 13 0 10 11]\n"
     ]
    },
    {
     "data": {
      "text/plain": [
       "[0, 1, 2, 3, 4, 5, 6, 7, 8, 9, 10, 11, 12, 13, 14, 15]"
      ]
     },
     "execution_count": 23,
     "metadata": {},
     "output_type": "execute_result"
    }
   ],
   "source": [
    "(def first-half (ref (vec (range 8))))\n",
    "(def second-half (ref (vec (range 8 16))))\n",
    "(def swap #(let[i1 (rand-int (count @first-half))\n",
    "                i2 (rand-int (count @second-half))]\n",
    "                (dosync\n",
    "                (let[tmp (nth @first-half i1)]\n",
    "                 (alter first-half assoc i1 (nth @second-half i2))\n",
    "                 (alter second-half assoc i2 tmp)))))\n",
    "\n",
    "(dorun (apply pcalls (repeat 8 #(dotimes [_ 1000] (swap)))))\n",
    "(println @first-half)\n",
    "(println @second-half)\n",
    "(sort (concat @first-half @second-half))"
   ]
  },
  {
   "cell_type": "markdown",
   "metadata": {},
   "source": [
    "## Examples"
   ]
  },
  {
   "cell_type": "code",
   "execution_count": 8,
   "metadata": {},
   "outputs": [
    {
     "data": {
      "text/plain": [
       "[0, 1, 1, 2, 3, 5, 8, 13, 21, 34, 55, 89, 144, 233, 377, 610, 987, 1597, 2584, 4181, 6765, 10946, 17711, 28657, 46368, 75025, 121393, 196418, 317811, 514229, 832040, 1346269]"
      ]
     },
     "execution_count": 8,
     "metadata": {},
     "output_type": "execute_result"
    }
   ],
   "source": [
    "(def fib-seq\n",
    "     (lazy-cat [0 1] (map + (rest fib-seq) fib-seq)))\n",
    "(take 32 fib-seq)"
   ]
  },
  {
   "cell_type": "code",
   "execution_count": 12,
   "metadata": {},
   "outputs": [
    {
     "data": {
      "text/plain": [
       "[2, 3, 4, 5, 7, 9, 11, 13, 17, 19, 23, 25, 29, 31, 37, 41, 43, 47, 49, 53, 59, 61, 67, 71, 73, 79, 83, 89, 97, 101, 103, 107, 109, 113, 121, 127, 131, 137, 139, 149, 151, 157, 163, 167, 169, 173, 179, 181, 191, 193, 197, 199, 211, 223, 227, 229, 233, 239, 241, 251, 257, 263, 269, 271, 277, 281, 283, 289, 293, 307, 311, 313, 317, 331, 337, 347, 349, 353, 359, 361, 367, 373, 379, 383, 389, 397, 401, 409, 419, 421, 431, 433, 439, 443, 449, 457, 461, 463, 467, 479, 487, 491, 499, 503, 509, 521, 523, 529, 541, 547, 557, 563, 569, 571, 577, 587, 593, 599, 601, 607, 613, 617, 619, 631, 641, 643, 647, 653, 659, 661, 673, 677, 683, 691, 701, 709, 719, 727, 733, 739, 743, 751, 757, 761, 769, 773, 787, 797, 809, 811, 821, 823, 827, 829, 839, 841, 853, 857, 859, 863, 877, 881, 883, 887, 907, 911, 919, 929, 937, 941, 947, 953, 961, 967, 971, 977, 983, 991, 997]"
      ]
     },
     "execution_count": 12,
     "metadata": {},
     "output_type": "execute_result"
    }
   ],
   "source": [
    "(reduce\n",
    "    (fn [primes number]\n",
    "        (if (some zero? (map (partial mod number)\n",
    "                             (take-while (partial > (Math/sqrt number))\n",
    "                                         primes)))\n",
    "             primes\n",
    "             (conj primes number)))\n",
    "    [2]\n",
    "    (take 1000 (iterate inc 3)))"
   ]
  },
  {
   "cell_type": "markdown",
   "metadata": {},
   "source": [
    "## TODO destructuring\n",
    "## TODO multimethods\n",
    "## TODO core.match\n",
    "## TODO core.logic"
   ]
  }
 ],
 "metadata": {
  "beakerx_kernel_parameters": {},
  "kernelspec": {
   "display_name": "Clojure",
   "language": "clojure",
   "name": "clojure"
  },
  "language_info": {
   "codemirror_mode": "Clojure",
   "file_extension": ".clj",
   "mimetype": "text/x-clojure",
   "name": "Clojure",
   "nbconverter_exporter": "",
   "version": "1.9.0"
  },
  "toc": {
   "base_numbering": 1,
   "nav_menu": {},
   "number_sections": false,
   "sideBar": false,
   "skip_h1_title": false,
   "title_cell": "Table of Contents",
   "title_sidebar": "Contents",
   "toc_cell": false,
   "toc_position": {},
   "toc_section_display": false,
   "toc_window_display": false
  }
 },
 "nbformat": 4,
 "nbformat_minor": 2
}
